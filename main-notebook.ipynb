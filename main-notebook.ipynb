{
 "cells": [
  {
   "cell_type": "markdown",
   "metadata": {},
   "source": [
    "<h1 style=\"text-align: center\">A Context-Aware Recommender System</h1>\n",
    "In this notebook, we will attempt at implementing a context-aware recommender system. The proposed approach uses a hybrid collaborative filtering method in order to recommend locations in a city for users, based on their history of visits, and users' contexts.<br>\n",
    "\n",
    "1. <a href=\"#intro\">Introduction</a>\n",
    "2. <a href=\"#prefiltering\">Pre-filtering Locations</a>\n",
    "3. <a href=\"#model\">Building Recommendation Model</a>\n",
    "4. <a href=\"#finalrecom\">Generate Final Recommendations</a>\n",
    "5. <a href=\"#eval\">Evaluation</a>"
   ]
  },
  {
   "cell_type": "markdown",
   "metadata": {},
   "source": [
    "<span id=\"intro\"><span>\n",
    "# Introduction\n",
    "---\n",
    "This soultion includes two major steps, <strong>pre-filtering locations</strong> to detect tourists venues and <strong>building a recommendation model</strong> considering user's asymmetric similarities and visit probablity in the user's current context."
   ]
  },
  {
   "cell_type": "code",
   "execution_count": 38,
   "metadata": {
    "_cell_guid": "b1076dfc-b9ad-4769-8c92-a6c4dae69d19",
    "_kg_hide-output": true,
    "_uuid": "8f2839f25d086af736a60e9eeb907d3b93b6e0e5"
   },
   "outputs": [
    {
     "ename": "ModuleNotFoundError",
     "evalue": "No module named 'folium'",
     "output_type": "error",
     "traceback": [
      "\u001b[0;31m---------------------------------------------------------------------------\u001b[0m",
      "\u001b[0;31mModuleNotFoundError\u001b[0m                       Traceback (most recent call last)",
      "\u001b[0;32m<ipython-input-38-773149e27151>\u001b[0m in \u001b[0;36m<module>\u001b[0;34m\u001b[0m\n\u001b[0;32m----> 1\u001b[0;31m \u001b[0;32mimport\u001b[0m \u001b[0mos\u001b[0m\u001b[0;34m,\u001b[0m \u001b[0mwarnings\u001b[0m\u001b[0;34m,\u001b[0m \u001b[0mfolium\u001b[0m\u001b[0;34m\u001b[0m\u001b[0;34m\u001b[0m\u001b[0m\n\u001b[0m\u001b[1;32m      2\u001b[0m \u001b[0;32mimport\u001b[0m \u001b[0mnumpy\u001b[0m \u001b[0;32mas\u001b[0m \u001b[0mnp\u001b[0m\u001b[0;34m\u001b[0m\u001b[0;34m\u001b[0m\u001b[0m\n\u001b[1;32m      3\u001b[0m \u001b[0;32mimport\u001b[0m \u001b[0mpandas\u001b[0m \u001b[0;32mas\u001b[0m \u001b[0mpd\u001b[0m\u001b[0;34m\u001b[0m\u001b[0;34m\u001b[0m\u001b[0m\n\u001b[1;32m      4\u001b[0m \u001b[0;32mimport\u001b[0m \u001b[0mplotly\u001b[0m\u001b[0;34m.\u001b[0m\u001b[0mgraph_objs\u001b[0m \u001b[0;32mas\u001b[0m \u001b[0mgo\u001b[0m\u001b[0;34m\u001b[0m\u001b[0;34m\u001b[0m\u001b[0m\n\u001b[1;32m      5\u001b[0m \u001b[0;32mimport\u001b[0m \u001b[0mplotly\u001b[0m\u001b[0;34m.\u001b[0m\u001b[0mio\u001b[0m \u001b[0;32mas\u001b[0m \u001b[0mpio\u001b[0m\u001b[0;34m\u001b[0m\u001b[0;34m\u001b[0m\u001b[0m\n",
      "\u001b[0;31mModuleNotFoundError\u001b[0m: No module named 'folium'"
     ]
    }
   ],
   "source": [
    "import os, warnings, folium\n",
    "import numpy as np\n",
    "import pandas as pd\n",
    "import plotly.graph_objs as go\n",
    "import plotly.io as pio\n",
    "import matplotlib.pyplot as plt\n",
    "from plotly.offline import init_notebook_mode\n",
    "from geopy.distance import great_circle\n",
    "from shapely.geometry import MultiPoint\n",
    "from sklearn.cluster import DBSCAN\n",
    "from sklearn.model_selection import train_test_split\n",
    "from sklearn.metrics.pairwise import cosine_similarity\n",
    "from sklearn.metrics import pairwise_distances, mean_squared_error, precision_recall_fscore_support, precision_score\n",
    "from sklearn.preprocessing import minmax_scale, MultiLabelBinarizer\n",
    "from sklearn.decomposition import NMF\n",
    "from random import randint\n",
    "from ml_metrics import mapk, apk\n",
    "\n",
    "# Pandas and Numpy configs\n",
    "pd.set_option('display.max_columns', 20)\n",
    "np.set_printoptions(suppress=True)\n",
    "\n",
    "# Input data files are available in the data directory.\n",
    "input_path = './data/'\n",
    "    \n",
    "# Init ploty in offline mode\n",
    "init_notebook_mode(connected=True)\n",
    "plot_template = 'plotly_white'\n",
    "# if not os.path.exists(f'./plots'):\n",
    "#     os.mkdir(f'./plots')\n",
    "\n",
    "warnings.filterwarnings('ignore')\n",
    "\n",
    "print(os.listdir(input_path))"
   ]
  },
  {
   "cell_type": "markdown",
   "metadata": {},
   "source": [
    "## Loading Data\n",
    "Let's load data into the <code>raw</code> dataframe. The dataset contains photo records including meta tags related to photos and users who took them."
   ]
  },
  {
   "cell_type": "code",
   "execution_count": 15,
   "metadata": {
    "_cell_guid": "79c7e3d0-c299-4dcb-8224-4455121ee9b0",
    "_kg_hide-output": false,
    "_uuid": "d629ff2d2480ee46fbb7e2d37f6b5fab8052498a"
   },
   "outputs": [
    {
     "name": "stdout",
     "output_type": "stream",
     "text": [
      "Dataframe dimentions: (20000, 13) \n",
      "--------------------------------------------------\n",
      "Data Types:\n",
      "photo_id               object\n",
      "owner                  object\n",
      "gender                float64\n",
      "occupation             object\n",
      "title                  object\n",
      "description            object\n",
      "tags                   object\n",
      "faves                 float16\n",
      "lat                   float32\n",
      "lon                   float32\n",
      "u_city                 object\n",
      "u_country              object\n",
      "taken          datetime64[ns]\n",
      "dtype: object\n"
     ]
    },
    {
     "data": {
      "text/html": [
       "<div>\n",
       "<style scoped>\n",
       "    .dataframe tbody tr th:only-of-type {\n",
       "        vertical-align: middle;\n",
       "    }\n",
       "\n",
       "    .dataframe tbody tr th {\n",
       "        vertical-align: top;\n",
       "    }\n",
       "\n",
       "    .dataframe thead th {\n",
       "        text-align: right;\n",
       "    }\n",
       "</style>\n",
       "<table border=\"1\" class=\"dataframe\">\n",
       "  <thead>\n",
       "    <tr style=\"text-align: right;\">\n",
       "      <th></th>\n",
       "      <th>photo_id</th>\n",
       "      <th>owner</th>\n",
       "      <th>gender</th>\n",
       "      <th>occupation</th>\n",
       "      <th>title</th>\n",
       "      <th>description</th>\n",
       "      <th>tags</th>\n",
       "      <th>faves</th>\n",
       "      <th>lat</th>\n",
       "      <th>lon</th>\n",
       "      <th>u_city</th>\n",
       "      <th>u_country</th>\n",
       "      <th>taken</th>\n",
       "    </tr>\n",
       "  </thead>\n",
       "  <tbody>\n",
       "    <tr>\n",
       "      <th>0</th>\n",
       "      <td>12056545693</td>\n",
       "      <td>78191777@N00</td>\n",
       "      <td>1.0</td>\n",
       "      <td>Producer/DJ</td>\n",
       "      <td>près</td>\n",
       "      <td>&lt;i&gt;Let us draw near with a true heart in full ...</td>\n",
       "      <td>clapham, london, england, ukgarage, dubstep, e...</td>\n",
       "      <td>0.0</td>\n",
       "      <td>51.465164</td>\n",
       "      <td>-0.129085</td>\n",
       "      <td>30307</td>\n",
       "      <td>USA</td>\n",
       "      <td>2014-01-20 15:19:44</td>\n",
       "    </tr>\n",
       "    <tr>\n",
       "      <th>1</th>\n",
       "      <td>12453639663</td>\n",
       "      <td>41087279@N00</td>\n",
       "      <td>1.0</td>\n",
       "      <td>Accountant</td>\n",
       "      <td>DSC_4241 Chyna Whyne from Jamaica Live at Char...</td>\n",
       "      <td>Chyna Whyne from Jamaica Live at Charlie Wrigh...</td>\n",
       "      <td>chyna, whyne, from, jamaica, live, charlie, wr...</td>\n",
       "      <td>1.0</td>\n",
       "      <td>51.527672</td>\n",
       "      <td>-0.083648</td>\n",
       "      <td>London</td>\n",
       "      <td>England</td>\n",
       "      <td>2014-02-09 23:05:35</td>\n",
       "    </tr>\n",
       "    <tr>\n",
       "      <th>2</th>\n",
       "      <td>13185773995</td>\n",
       "      <td>41087279@N00</td>\n",
       "      <td>1.0</td>\n",
       "      <td>Accountant</td>\n",
       "      <td>DSC_6178 Flirt 69 Birthday Party at Charlie Wr...</td>\n",
       "      <td>Flirt 69 Birthday Party at Charlie Wrights Mus...</td>\n",
       "      <td>flirt, 69, birthday, party, charlie, wrights, ...</td>\n",
       "      <td>0.0</td>\n",
       "      <td>51.527672</td>\n",
       "      <td>-0.083648</td>\n",
       "      <td>London</td>\n",
       "      <td>England</td>\n",
       "      <td>2014-03-14 22:24:02</td>\n",
       "    </tr>\n",
       "    <tr>\n",
       "      <th>3</th>\n",
       "      <td>13295046445</td>\n",
       "      <td>30625665@N00</td>\n",
       "      <td>1.0</td>\n",
       "      <td>NaN</td>\n",
       "      <td>Bank Limited</td>\n",
       "      <td>BREAKING NEWS My 806th picture to be viewed ov...</td>\n",
       "      <td>bank, ex, cash, point, atm, brick, stone, lond...</td>\n",
       "      <td>5.0</td>\n",
       "      <td>51.513042</td>\n",
       "      <td>-0.089221</td>\n",
       "      <td>NaN</td>\n",
       "      <td>NaN</td>\n",
       "      <td>2014-03-20 09:13:03</td>\n",
       "    </tr>\n",
       "    <tr>\n",
       "      <th>4</th>\n",
       "      <td>13357656115</td>\n",
       "      <td>41087279@N00</td>\n",
       "      <td>1.0</td>\n",
       "      <td>Accountant</td>\n",
       "      <td>DSC_6743 Ray Estaire Live at Charlie Wrights M...</td>\n",
       "      <td>Ray Estaire Live at Charlie Wrights Music Loun...</td>\n",
       "      <td>ray, estaire, jazz, ensemble, the, dominant, 7...</td>\n",
       "      <td>1.0</td>\n",
       "      <td>51.527672</td>\n",
       "      <td>-0.083648</td>\n",
       "      <td>London</td>\n",
       "      <td>England</td>\n",
       "      <td>2014-03-21 23:18:39</td>\n",
       "    </tr>\n",
       "  </tbody>\n",
       "</table>\n",
       "</div>"
      ],
      "text/plain": [
       "      photo_id         owner  gender   occupation  \\\n",
       "0  12056545693  78191777@N00     1.0  Producer/DJ   \n",
       "1  12453639663  41087279@N00     1.0   Accountant   \n",
       "2  13185773995  41087279@N00     1.0   Accountant   \n",
       "3  13295046445  30625665@N00     1.0          NaN   \n",
       "4  13357656115  41087279@N00     1.0   Accountant   \n",
       "\n",
       "                                               title  \\\n",
       "0                                               près   \n",
       "1  DSC_4241 Chyna Whyne from Jamaica Live at Char...   \n",
       "2  DSC_6178 Flirt 69 Birthday Party at Charlie Wr...   \n",
       "3                                       Bank Limited   \n",
       "4  DSC_6743 Ray Estaire Live at Charlie Wrights M...   \n",
       "\n",
       "                                         description  \\\n",
       "0  <i>Let us draw near with a true heart in full ...   \n",
       "1  Chyna Whyne from Jamaica Live at Charlie Wrigh...   \n",
       "2  Flirt 69 Birthday Party at Charlie Wrights Mus...   \n",
       "3  BREAKING NEWS My 806th picture to be viewed ov...   \n",
       "4  Ray Estaire Live at Charlie Wrights Music Loun...   \n",
       "\n",
       "                                                tags  faves        lat  \\\n",
       "0  clapham, london, england, ukgarage, dubstep, e...    0.0  51.465164   \n",
       "1  chyna, whyne, from, jamaica, live, charlie, wr...    1.0  51.527672   \n",
       "2  flirt, 69, birthday, party, charlie, wrights, ...    0.0  51.527672   \n",
       "3  bank, ex, cash, point, atm, brick, stone, lond...    5.0  51.513042   \n",
       "4  ray, estaire, jazz, ensemble, the, dominant, 7...    1.0  51.527672   \n",
       "\n",
       "        lon  u_city u_country               taken  \n",
       "0 -0.129085   30307       USA 2014-01-20 15:19:44  \n",
       "1 -0.083648  London   England 2014-02-09 23:05:35  \n",
       "2 -0.083648  London   England 2014-03-14 22:24:02  \n",
       "3 -0.089221     NaN       NaN 2014-03-20 09:13:03  \n",
       "4 -0.083648  London   England 2014-03-21 23:18:39  "
      ]
     },
     "execution_count": 15,
     "metadata": {},
     "output_type": "execute_result"
    }
   ],
   "source": [
    "# Path of file to read\n",
    "data_file_path = f'{input_path}/london_20k.csv'\n",
    "\n",
    "# Change data types\n",
    "data_type = {\n",
    "    'photo_id': 'object',\n",
    "    'owner': 'object',\n",
    "    'faves': 'float16',\n",
    "    'lat': 'float32',\n",
    "    'lon': 'float32',\n",
    "    'taken': 'datetime64'\n",
    "}\n",
    "\n",
    "# Read file into a variable data\n",
    "raw = pd.read_csv(data_file_path, \n",
    "                  engine='python', \n",
    "                  sep=',', \n",
    "                  encoding='utf-8', \n",
    "                  dtype=data_type, \n",
    "                  decimal=',')\n",
    "data_dim = raw.shape\n",
    "\n",
    "print(f'Dataframe dimentions: {data_dim}', f'\\n{\"-\"*50}\\nData Types:\\n{raw.dtypes}')\n",
    "\n",
    "# Show head\n",
    "raw.head()"
   ]
  },
  {
   "cell_type": "markdown",
   "metadata": {},
   "source": [
    "## Data Validation\n",
    "In this step, we find and remove rows including coordinates (latitude and longitude) with <code>NA</code>/<code>Null</code> value."
   ]
  },
  {
   "cell_type": "code",
   "execution_count": 16,
   "metadata": {},
   "outputs": [
    {
     "name": "stdout",
     "output_type": "stream",
     "text": [
      "TOTAL MISSINGS:\n",
      "photo_id    0\n",
      "owner       0\n",
      "lat         0\n",
      "lon         0\n",
      "taken       0\n",
      "dtype: int64\n",
      "--------------------------------------------------\n",
      "0 empty rows are removed.\n"
     ]
    }
   ],
   "source": [
    "# Find total missing values\n",
    "data = raw[['photo_id','owner','lat','lon','taken']]\n",
    "missing_nan = data.isna().sum()\n",
    "\n",
    "print('TOTAL MISSINGS:', missing_nan, sep='\\n')\n",
    "\n",
    "# Remove missing values\n",
    "data = data.dropna(subset=['lat','lon'])\n",
    "new_size = len(data.index)\n",
    "print(f'{\"-\"*50}\\n{data_dim[0]-new_size} empty rows are removed.')"
   ]
  },
  {
   "cell_type": "markdown",
   "metadata": {},
   "source": [
    "<span id=\"prefiltering\"></span>\n",
    "# Pre-Filtering\n",
    "---\n",
    "Using DBSCAN clustering, I try to remove noise coordinates, and find potential locations can be considered as tourist venues. This includes the steps below:\n",
    "1. Determine <code>eps</code> and <code>min_sample</code> parameters for DBSCAN clustering.\n",
    "2. Cluster <code>data</code> with DBSCAN and find potential points in each cluster.\n",
    "3. Find center of each cluster:<br>Because of the arbitrary shape of clusters in DBSCAN method, I find the reference point of each cluster by assuming the summation of latitudes and longitudes divided by numbers of points inside of each cluster. Center is the coordinate of the nearest point to the reference point.\n",
    "4. Profiling locations:<br>This step identifies tourist locations, their time of visits as well as visited pattern of each location in terms of different contextual factors."
   ]
  },
  {
   "cell_type": "markdown",
   "metadata": {},
   "source": [
    "## Finding DBSCAN Parameters\n",
    "We need to know the best performing parameters of DBSCAN clustering. So, through a trial and error approach we determine the appropriate values for <code>eps</code> and <code>min_pts</code>/<code>min_samples</code>."
   ]
  },
  {
   "cell_type": "code",
   "execution_count": 17,
   "metadata": {},
   "outputs": [
    {
     "data": {
      "application/vnd.plotly.v1+json": {
       "config": {
        "plotlyServerURL": "https://plot.ly"
       },
       "data": [
        {
         "line": {
          "shape": "spline",
          "width": 2
         },
         "marker": {
          "size": 8
         },
         "mode": "lines+markers",
         "name": "Min Samples: 10 points",
         "type": "scatter",
         "x": [
          20,
          40,
          60,
          80,
          100,
          120,
          140,
          160,
          180,
          200,
          220,
          240,
          260,
          280,
          300
         ],
         "y": [
          259,
          281,
          263,
          244,
          216,
          195,
          182,
          178,
          179,
          173,
          169,
          161,
          156,
          151,
          145
         ]
        },
        {
         "line": {
          "shape": "spline",
          "width": 2
         },
         "marker": {
          "size": 8
         },
         "mode": "lines+markers",
         "name": "Min Samples: 20 points",
         "type": "scatter",
         "x": [
          20,
          40,
          60,
          80,
          100,
          120,
          140,
          160,
          180,
          200,
          220,
          240,
          260,
          280,
          300
         ],
         "y": [
          123,
          146,
          149,
          145,
          134,
          124,
          119,
          111,
          105,
          106,
          104,
          100,
          95,
          94,
          91
         ]
        },
        {
         "line": {
          "shape": "spline",
          "width": 2
         },
         "marker": {
          "size": 8
         },
         "mode": "lines+markers",
         "name": "Min Samples: 30 points",
         "type": "scatter",
         "x": [
          20,
          40,
          60,
          80,
          100,
          120,
          140,
          160,
          180,
          200,
          220,
          240,
          260,
          280,
          300
         ],
         "y": [
          74,
          84,
          96,
          98,
          98,
          99,
          92,
          82,
          79,
          74,
          71,
          65,
          64,
          62,
          60
         ]
        },
        {
         "line": {
          "shape": "spline",
          "width": 2
         },
         "marker": {
          "size": 8
         },
         "mode": "lines+markers",
         "name": "Min Samples: 40 points",
         "type": "scatter",
         "x": [
          20,
          40,
          60,
          80,
          100,
          120,
          140,
          160,
          180,
          200,
          220,
          240,
          260,
          280,
          300
         ],
         "y": [
          56,
          63,
          77,
          84,
          84,
          81,
          80,
          75,
          70,
          66,
          65,
          61,
          57,
          54,
          51
         ]
        },
        {
         "line": {
          "shape": "spline",
          "width": 2
         },
         "marker": {
          "size": 8
         },
         "mode": "lines+markers",
         "name": "Min Samples: 50 points",
         "type": "scatter",
         "x": [
          20,
          40,
          60,
          80,
          100,
          120,
          140,
          160,
          180,
          200,
          220,
          240,
          260,
          280,
          300
         ],
         "y": [
          37,
          49,
          57,
          65,
          74,
          70,
          70,
          70,
          64,
          60,
          57,
          57,
          52,
          51,
          48
         ]
        }
       ],
       "layout": {
        "template": {
         "data": {
          "bar": [
           {
            "error_x": {
             "color": "#2a3f5f"
            },
            "error_y": {
             "color": "#2a3f5f"
            },
            "marker": {
             "line": {
              "color": "white",
              "width": 0.5
             }
            },
            "type": "bar"
           }
          ],
          "barpolar": [
           {
            "marker": {
             "line": {
              "color": "white",
              "width": 0.5
             }
            },
            "type": "barpolar"
           }
          ],
          "carpet": [
           {
            "aaxis": {
             "endlinecolor": "#2a3f5f",
             "gridcolor": "#C8D4E3",
             "linecolor": "#C8D4E3",
             "minorgridcolor": "#C8D4E3",
             "startlinecolor": "#2a3f5f"
            },
            "baxis": {
             "endlinecolor": "#2a3f5f",
             "gridcolor": "#C8D4E3",
             "linecolor": "#C8D4E3",
             "minorgridcolor": "#C8D4E3",
             "startlinecolor": "#2a3f5f"
            },
            "type": "carpet"
           }
          ],
          "choropleth": [
           {
            "colorbar": {
             "outlinewidth": 0,
             "ticks": ""
            },
            "type": "choropleth"
           }
          ],
          "contour": [
           {
            "colorbar": {
             "outlinewidth": 0,
             "ticks": ""
            },
            "colorscale": [
             [
              0,
              "#0d0887"
             ],
             [
              0.1111111111111111,
              "#46039f"
             ],
             [
              0.2222222222222222,
              "#7201a8"
             ],
             [
              0.3333333333333333,
              "#9c179e"
             ],
             [
              0.4444444444444444,
              "#bd3786"
             ],
             [
              0.5555555555555556,
              "#d8576b"
             ],
             [
              0.6666666666666666,
              "#ed7953"
             ],
             [
              0.7777777777777778,
              "#fb9f3a"
             ],
             [
              0.8888888888888888,
              "#fdca26"
             ],
             [
              1,
              "#f0f921"
             ]
            ],
            "type": "contour"
           }
          ],
          "contourcarpet": [
           {
            "colorbar": {
             "outlinewidth": 0,
             "ticks": ""
            },
            "type": "contourcarpet"
           }
          ],
          "heatmap": [
           {
            "colorbar": {
             "outlinewidth": 0,
             "ticks": ""
            },
            "colorscale": [
             [
              0,
              "#0d0887"
             ],
             [
              0.1111111111111111,
              "#46039f"
             ],
             [
              0.2222222222222222,
              "#7201a8"
             ],
             [
              0.3333333333333333,
              "#9c179e"
             ],
             [
              0.4444444444444444,
              "#bd3786"
             ],
             [
              0.5555555555555556,
              "#d8576b"
             ],
             [
              0.6666666666666666,
              "#ed7953"
             ],
             [
              0.7777777777777778,
              "#fb9f3a"
             ],
             [
              0.8888888888888888,
              "#fdca26"
             ],
             [
              1,
              "#f0f921"
             ]
            ],
            "type": "heatmap"
           }
          ],
          "heatmapgl": [
           {
            "colorbar": {
             "outlinewidth": 0,
             "ticks": ""
            },
            "colorscale": [
             [
              0,
              "#0d0887"
             ],
             [
              0.1111111111111111,
              "#46039f"
             ],
             [
              0.2222222222222222,
              "#7201a8"
             ],
             [
              0.3333333333333333,
              "#9c179e"
             ],
             [
              0.4444444444444444,
              "#bd3786"
             ],
             [
              0.5555555555555556,
              "#d8576b"
             ],
             [
              0.6666666666666666,
              "#ed7953"
             ],
             [
              0.7777777777777778,
              "#fb9f3a"
             ],
             [
              0.8888888888888888,
              "#fdca26"
             ],
             [
              1,
              "#f0f921"
             ]
            ],
            "type": "heatmapgl"
           }
          ],
          "histogram": [
           {
            "marker": {
             "colorbar": {
              "outlinewidth": 0,
              "ticks": ""
             }
            },
            "type": "histogram"
           }
          ],
          "histogram2d": [
           {
            "colorbar": {
             "outlinewidth": 0,
             "ticks": ""
            },
            "colorscale": [
             [
              0,
              "#0d0887"
             ],
             [
              0.1111111111111111,
              "#46039f"
             ],
             [
              0.2222222222222222,
              "#7201a8"
             ],
             [
              0.3333333333333333,
              "#9c179e"
             ],
             [
              0.4444444444444444,
              "#bd3786"
             ],
             [
              0.5555555555555556,
              "#d8576b"
             ],
             [
              0.6666666666666666,
              "#ed7953"
             ],
             [
              0.7777777777777778,
              "#fb9f3a"
             ],
             [
              0.8888888888888888,
              "#fdca26"
             ],
             [
              1,
              "#f0f921"
             ]
            ],
            "type": "histogram2d"
           }
          ],
          "histogram2dcontour": [
           {
            "colorbar": {
             "outlinewidth": 0,
             "ticks": ""
            },
            "colorscale": [
             [
              0,
              "#0d0887"
             ],
             [
              0.1111111111111111,
              "#46039f"
             ],
             [
              0.2222222222222222,
              "#7201a8"
             ],
             [
              0.3333333333333333,
              "#9c179e"
             ],
             [
              0.4444444444444444,
              "#bd3786"
             ],
             [
              0.5555555555555556,
              "#d8576b"
             ],
             [
              0.6666666666666666,
              "#ed7953"
             ],
             [
              0.7777777777777778,
              "#fb9f3a"
             ],
             [
              0.8888888888888888,
              "#fdca26"
             ],
             [
              1,
              "#f0f921"
             ]
            ],
            "type": "histogram2dcontour"
           }
          ],
          "mesh3d": [
           {
            "colorbar": {
             "outlinewidth": 0,
             "ticks": ""
            },
            "type": "mesh3d"
           }
          ],
          "parcoords": [
           {
            "line": {
             "colorbar": {
              "outlinewidth": 0,
              "ticks": ""
             }
            },
            "type": "parcoords"
           }
          ],
          "pie": [
           {
            "automargin": true,
            "type": "pie"
           }
          ],
          "scatter": [
           {
            "marker": {
             "colorbar": {
              "outlinewidth": 0,
              "ticks": ""
             }
            },
            "type": "scatter"
           }
          ],
          "scatter3d": [
           {
            "line": {
             "colorbar": {
              "outlinewidth": 0,
              "ticks": ""
             }
            },
            "marker": {
             "colorbar": {
              "outlinewidth": 0,
              "ticks": ""
             }
            },
            "type": "scatter3d"
           }
          ],
          "scattercarpet": [
           {
            "marker": {
             "colorbar": {
              "outlinewidth": 0,
              "ticks": ""
             }
            },
            "type": "scattercarpet"
           }
          ],
          "scattergeo": [
           {
            "marker": {
             "colorbar": {
              "outlinewidth": 0,
              "ticks": ""
             }
            },
            "type": "scattergeo"
           }
          ],
          "scattergl": [
           {
            "marker": {
             "colorbar": {
              "outlinewidth": 0,
              "ticks": ""
             }
            },
            "type": "scattergl"
           }
          ],
          "scattermapbox": [
           {
            "marker": {
             "colorbar": {
              "outlinewidth": 0,
              "ticks": ""
             }
            },
            "type": "scattermapbox"
           }
          ],
          "scatterpolar": [
           {
            "marker": {
             "colorbar": {
              "outlinewidth": 0,
              "ticks": ""
             }
            },
            "type": "scatterpolar"
           }
          ],
          "scatterpolargl": [
           {
            "marker": {
             "colorbar": {
              "outlinewidth": 0,
              "ticks": ""
             }
            },
            "type": "scatterpolargl"
           }
          ],
          "scatterternary": [
           {
            "marker": {
             "colorbar": {
              "outlinewidth": 0,
              "ticks": ""
             }
            },
            "type": "scatterternary"
           }
          ],
          "surface": [
           {
            "colorbar": {
             "outlinewidth": 0,
             "ticks": ""
            },
            "colorscale": [
             [
              0,
              "#0d0887"
             ],
             [
              0.1111111111111111,
              "#46039f"
             ],
             [
              0.2222222222222222,
              "#7201a8"
             ],
             [
              0.3333333333333333,
              "#9c179e"
             ],
             [
              0.4444444444444444,
              "#bd3786"
             ],
             [
              0.5555555555555556,
              "#d8576b"
             ],
             [
              0.6666666666666666,
              "#ed7953"
             ],
             [
              0.7777777777777778,
              "#fb9f3a"
             ],
             [
              0.8888888888888888,
              "#fdca26"
             ],
             [
              1,
              "#f0f921"
             ]
            ],
            "type": "surface"
           }
          ],
          "table": [
           {
            "cells": {
             "fill": {
              "color": "#EBF0F8"
             },
             "line": {
              "color": "white"
             }
            },
            "header": {
             "fill": {
              "color": "#C8D4E3"
             },
             "line": {
              "color": "white"
             }
            },
            "type": "table"
           }
          ]
         },
         "layout": {
          "annotationdefaults": {
           "arrowcolor": "#2a3f5f",
           "arrowhead": 0,
           "arrowwidth": 1
          },
          "coloraxis": {
           "colorbar": {
            "outlinewidth": 0,
            "ticks": ""
           }
          },
          "colorscale": {
           "diverging": [
            [
             0,
             "#8e0152"
            ],
            [
             0.1,
             "#c51b7d"
            ],
            [
             0.2,
             "#de77ae"
            ],
            [
             0.3,
             "#f1b6da"
            ],
            [
             0.4,
             "#fde0ef"
            ],
            [
             0.5,
             "#f7f7f7"
            ],
            [
             0.6,
             "#e6f5d0"
            ],
            [
             0.7,
             "#b8e186"
            ],
            [
             0.8,
             "#7fbc41"
            ],
            [
             0.9,
             "#4d9221"
            ],
            [
             1,
             "#276419"
            ]
           ],
           "sequential": [
            [
             0,
             "#0d0887"
            ],
            [
             0.1111111111111111,
             "#46039f"
            ],
            [
             0.2222222222222222,
             "#7201a8"
            ],
            [
             0.3333333333333333,
             "#9c179e"
            ],
            [
             0.4444444444444444,
             "#bd3786"
            ],
            [
             0.5555555555555556,
             "#d8576b"
            ],
            [
             0.6666666666666666,
             "#ed7953"
            ],
            [
             0.7777777777777778,
             "#fb9f3a"
            ],
            [
             0.8888888888888888,
             "#fdca26"
            ],
            [
             1,
             "#f0f921"
            ]
           ],
           "sequentialminus": [
            [
             0,
             "#0d0887"
            ],
            [
             0.1111111111111111,
             "#46039f"
            ],
            [
             0.2222222222222222,
             "#7201a8"
            ],
            [
             0.3333333333333333,
             "#9c179e"
            ],
            [
             0.4444444444444444,
             "#bd3786"
            ],
            [
             0.5555555555555556,
             "#d8576b"
            ],
            [
             0.6666666666666666,
             "#ed7953"
            ],
            [
             0.7777777777777778,
             "#fb9f3a"
            ],
            [
             0.8888888888888888,
             "#fdca26"
            ],
            [
             1,
             "#f0f921"
            ]
           ]
          },
          "colorway": [
           "#636efa",
           "#EF553B",
           "#00cc96",
           "#ab63fa",
           "#FFA15A",
           "#19d3f3",
           "#FF6692",
           "#B6E880",
           "#FF97FF",
           "#FECB52"
          ],
          "font": {
           "color": "#2a3f5f"
          },
          "geo": {
           "bgcolor": "white",
           "lakecolor": "white",
           "landcolor": "white",
           "showlakes": true,
           "showland": true,
           "subunitcolor": "#C8D4E3"
          },
          "hoverlabel": {
           "align": "left"
          },
          "hovermode": "closest",
          "mapbox": {
           "style": "light"
          },
          "paper_bgcolor": "white",
          "plot_bgcolor": "white",
          "polar": {
           "angularaxis": {
            "gridcolor": "#EBF0F8",
            "linecolor": "#EBF0F8",
            "ticks": ""
           },
           "bgcolor": "white",
           "radialaxis": {
            "gridcolor": "#EBF0F8",
            "linecolor": "#EBF0F8",
            "ticks": ""
           }
          },
          "scene": {
           "xaxis": {
            "backgroundcolor": "white",
            "gridcolor": "#DFE8F3",
            "gridwidth": 2,
            "linecolor": "#EBF0F8",
            "showbackground": true,
            "ticks": "",
            "zerolinecolor": "#EBF0F8"
           },
           "yaxis": {
            "backgroundcolor": "white",
            "gridcolor": "#DFE8F3",
            "gridwidth": 2,
            "linecolor": "#EBF0F8",
            "showbackground": true,
            "ticks": "",
            "zerolinecolor": "#EBF0F8"
           },
           "zaxis": {
            "backgroundcolor": "white",
            "gridcolor": "#DFE8F3",
            "gridwidth": 2,
            "linecolor": "#EBF0F8",
            "showbackground": true,
            "ticks": "",
            "zerolinecolor": "#EBF0F8"
           }
          },
          "shapedefaults": {
           "line": {
            "color": "#2a3f5f"
           }
          },
          "ternary": {
           "aaxis": {
            "gridcolor": "#DFE8F3",
            "linecolor": "#A2B1C6",
            "ticks": ""
           },
           "baxis": {
            "gridcolor": "#DFE8F3",
            "linecolor": "#A2B1C6",
            "ticks": ""
           },
           "bgcolor": "white",
           "caxis": {
            "gridcolor": "#DFE8F3",
            "linecolor": "#A2B1C6",
            "ticks": ""
           }
          },
          "title": {
           "x": 0.05
          },
          "xaxis": {
           "automargin": true,
           "gridcolor": "#EBF0F8",
           "linecolor": "#EBF0F8",
           "ticks": "",
           "title": {
            "standoff": 15
           },
           "zerolinecolor": "#EBF0F8",
           "zerolinewidth": 2
          },
          "yaxis": {
           "automargin": true,
           "gridcolor": "#EBF0F8",
           "linecolor": "#EBF0F8",
           "ticks": "",
           "title": {
            "standoff": 15
           },
           "zerolinecolor": "#EBF0F8",
           "zerolinewidth": 2
          }
         }
        },
        "title": {
         "text": "The number of detected clusters with different valuses of MinSamples"
        },
        "xaxis": {
         "dtick": 40,
         "title": {
          "text": "Epsilon"
         },
         "zeroline": false
        },
        "yaxis": {
         "title": {
          "text": "Number of cluster"
         },
         "zeroline": false
        }
       }
      },
      "text/html": [
       "<div>\n",
       "        \n",
       "        \n",
       "            <div id=\"64c965cf-622b-4f41-a40f-7e9c6e06315a\" class=\"plotly-graph-div\" style=\"height:525px; width:100%;\"></div>\n",
       "            <script type=\"text/javascript\">\n",
       "                require([\"plotly\"], function(Plotly) {\n",
       "                    window.PLOTLYENV=window.PLOTLYENV || {};\n",
       "                    \n",
       "                if (document.getElementById(\"64c965cf-622b-4f41-a40f-7e9c6e06315a\")) {\n",
       "                    Plotly.newPlot(\n",
       "                        '64c965cf-622b-4f41-a40f-7e9c6e06315a',\n",
       "                        [{\"line\": {\"shape\": \"spline\", \"width\": 2}, \"marker\": {\"size\": 8}, \"mode\": \"lines+markers\", \"name\": \"Min Samples: 10 points\", \"type\": \"scatter\", \"x\": [20, 40, 60, 80, 100, 120, 140, 160, 180, 200, 220, 240, 260, 280, 300], \"y\": [259, 281, 263, 244, 216, 195, 182, 178, 179, 173, 169, 161, 156, 151, 145]}, {\"line\": {\"shape\": \"spline\", \"width\": 2}, \"marker\": {\"size\": 8}, \"mode\": \"lines+markers\", \"name\": \"Min Samples: 20 points\", \"type\": \"scatter\", \"x\": [20, 40, 60, 80, 100, 120, 140, 160, 180, 200, 220, 240, 260, 280, 300], \"y\": [123, 146, 149, 145, 134, 124, 119, 111, 105, 106, 104, 100, 95, 94, 91]}, {\"line\": {\"shape\": \"spline\", \"width\": 2}, \"marker\": {\"size\": 8}, \"mode\": \"lines+markers\", \"name\": \"Min Samples: 30 points\", \"type\": \"scatter\", \"x\": [20, 40, 60, 80, 100, 120, 140, 160, 180, 200, 220, 240, 260, 280, 300], \"y\": [74, 84, 96, 98, 98, 99, 92, 82, 79, 74, 71, 65, 64, 62, 60]}, {\"line\": {\"shape\": \"spline\", \"width\": 2}, \"marker\": {\"size\": 8}, \"mode\": \"lines+markers\", \"name\": \"Min Samples: 40 points\", \"type\": \"scatter\", \"x\": [20, 40, 60, 80, 100, 120, 140, 160, 180, 200, 220, 240, 260, 280, 300], \"y\": [56, 63, 77, 84, 84, 81, 80, 75, 70, 66, 65, 61, 57, 54, 51]}, {\"line\": {\"shape\": \"spline\", \"width\": 2}, \"marker\": {\"size\": 8}, \"mode\": \"lines+markers\", \"name\": \"Min Samples: 50 points\", \"type\": \"scatter\", \"x\": [20, 40, 60, 80, 100, 120, 140, 160, 180, 200, 220, 240, 260, 280, 300], \"y\": [37, 49, 57, 65, 74, 70, 70, 70, 64, 60, 57, 57, 52, 51, 48]}],\n",
       "                        {\"template\": {\"data\": {\"bar\": [{\"error_x\": {\"color\": \"#2a3f5f\"}, \"error_y\": {\"color\": \"#2a3f5f\"}, \"marker\": {\"line\": {\"color\": \"white\", \"width\": 0.5}}, \"type\": \"bar\"}], \"barpolar\": [{\"marker\": {\"line\": {\"color\": \"white\", \"width\": 0.5}}, \"type\": \"barpolar\"}], \"carpet\": [{\"aaxis\": {\"endlinecolor\": \"#2a3f5f\", \"gridcolor\": \"#C8D4E3\", \"linecolor\": \"#C8D4E3\", \"minorgridcolor\": \"#C8D4E3\", \"startlinecolor\": \"#2a3f5f\"}, \"baxis\": {\"endlinecolor\": \"#2a3f5f\", \"gridcolor\": \"#C8D4E3\", \"linecolor\": \"#C8D4E3\", \"minorgridcolor\": \"#C8D4E3\", \"startlinecolor\": \"#2a3f5f\"}, \"type\": \"carpet\"}], \"choropleth\": [{\"colorbar\": {\"outlinewidth\": 0, \"ticks\": \"\"}, \"type\": \"choropleth\"}], \"contour\": [{\"colorbar\": {\"outlinewidth\": 0, \"ticks\": \"\"}, \"colorscale\": [[0.0, \"#0d0887\"], [0.1111111111111111, \"#46039f\"], [0.2222222222222222, \"#7201a8\"], [0.3333333333333333, \"#9c179e\"], [0.4444444444444444, \"#bd3786\"], [0.5555555555555556, \"#d8576b\"], [0.6666666666666666, \"#ed7953\"], [0.7777777777777778, \"#fb9f3a\"], [0.8888888888888888, \"#fdca26\"], [1.0, \"#f0f921\"]], \"type\": \"contour\"}], \"contourcarpet\": [{\"colorbar\": {\"outlinewidth\": 0, \"ticks\": \"\"}, \"type\": \"contourcarpet\"}], \"heatmap\": [{\"colorbar\": {\"outlinewidth\": 0, \"ticks\": \"\"}, \"colorscale\": [[0.0, \"#0d0887\"], [0.1111111111111111, \"#46039f\"], [0.2222222222222222, \"#7201a8\"], [0.3333333333333333, \"#9c179e\"], [0.4444444444444444, \"#bd3786\"], [0.5555555555555556, \"#d8576b\"], [0.6666666666666666, \"#ed7953\"], [0.7777777777777778, \"#fb9f3a\"], [0.8888888888888888, \"#fdca26\"], [1.0, \"#f0f921\"]], \"type\": \"heatmap\"}], \"heatmapgl\": [{\"colorbar\": {\"outlinewidth\": 0, \"ticks\": \"\"}, \"colorscale\": [[0.0, \"#0d0887\"], [0.1111111111111111, \"#46039f\"], [0.2222222222222222, \"#7201a8\"], [0.3333333333333333, \"#9c179e\"], [0.4444444444444444, \"#bd3786\"], [0.5555555555555556, \"#d8576b\"], [0.6666666666666666, \"#ed7953\"], [0.7777777777777778, \"#fb9f3a\"], [0.8888888888888888, \"#fdca26\"], [1.0, \"#f0f921\"]], \"type\": \"heatmapgl\"}], \"histogram\": [{\"marker\": {\"colorbar\": {\"outlinewidth\": 0, \"ticks\": \"\"}}, \"type\": \"histogram\"}], \"histogram2d\": [{\"colorbar\": {\"outlinewidth\": 0, \"ticks\": \"\"}, \"colorscale\": [[0.0, \"#0d0887\"], [0.1111111111111111, \"#46039f\"], [0.2222222222222222, \"#7201a8\"], [0.3333333333333333, \"#9c179e\"], [0.4444444444444444, \"#bd3786\"], [0.5555555555555556, \"#d8576b\"], [0.6666666666666666, \"#ed7953\"], [0.7777777777777778, \"#fb9f3a\"], [0.8888888888888888, \"#fdca26\"], [1.0, \"#f0f921\"]], \"type\": \"histogram2d\"}], \"histogram2dcontour\": [{\"colorbar\": {\"outlinewidth\": 0, \"ticks\": \"\"}, \"colorscale\": [[0.0, \"#0d0887\"], [0.1111111111111111, \"#46039f\"], [0.2222222222222222, \"#7201a8\"], [0.3333333333333333, \"#9c179e\"], [0.4444444444444444, \"#bd3786\"], [0.5555555555555556, \"#d8576b\"], [0.6666666666666666, \"#ed7953\"], [0.7777777777777778, \"#fb9f3a\"], [0.8888888888888888, \"#fdca26\"], [1.0, \"#f0f921\"]], \"type\": \"histogram2dcontour\"}], \"mesh3d\": [{\"colorbar\": {\"outlinewidth\": 0, \"ticks\": \"\"}, \"type\": \"mesh3d\"}], \"parcoords\": [{\"line\": {\"colorbar\": {\"outlinewidth\": 0, \"ticks\": \"\"}}, \"type\": \"parcoords\"}], \"pie\": [{\"automargin\": true, \"type\": \"pie\"}], \"scatter\": [{\"marker\": {\"colorbar\": {\"outlinewidth\": 0, \"ticks\": \"\"}}, \"type\": \"scatter\"}], \"scatter3d\": [{\"line\": {\"colorbar\": {\"outlinewidth\": 0, \"ticks\": \"\"}}, \"marker\": {\"colorbar\": {\"outlinewidth\": 0, \"ticks\": \"\"}}, \"type\": \"scatter3d\"}], \"scattercarpet\": [{\"marker\": {\"colorbar\": {\"outlinewidth\": 0, \"ticks\": \"\"}}, \"type\": \"scattercarpet\"}], \"scattergeo\": [{\"marker\": {\"colorbar\": {\"outlinewidth\": 0, \"ticks\": \"\"}}, \"type\": \"scattergeo\"}], \"scattergl\": [{\"marker\": {\"colorbar\": {\"outlinewidth\": 0, \"ticks\": \"\"}}, \"type\": \"scattergl\"}], \"scattermapbox\": [{\"marker\": {\"colorbar\": {\"outlinewidth\": 0, \"ticks\": \"\"}}, \"type\": \"scattermapbox\"}], \"scatterpolar\": [{\"marker\": {\"colorbar\": {\"outlinewidth\": 0, \"ticks\": \"\"}}, \"type\": \"scatterpolar\"}], \"scatterpolargl\": [{\"marker\": {\"colorbar\": {\"outlinewidth\": 0, \"ticks\": \"\"}}, \"type\": \"scatterpolargl\"}], \"scatterternary\": [{\"marker\": {\"colorbar\": {\"outlinewidth\": 0, \"ticks\": \"\"}}, \"type\": \"scatterternary\"}], \"surface\": [{\"colorbar\": {\"outlinewidth\": 0, \"ticks\": \"\"}, \"colorscale\": [[0.0, \"#0d0887\"], [0.1111111111111111, \"#46039f\"], [0.2222222222222222, \"#7201a8\"], [0.3333333333333333, \"#9c179e\"], [0.4444444444444444, \"#bd3786\"], [0.5555555555555556, \"#d8576b\"], [0.6666666666666666, \"#ed7953\"], [0.7777777777777778, \"#fb9f3a\"], [0.8888888888888888, \"#fdca26\"], [1.0, \"#f0f921\"]], \"type\": \"surface\"}], \"table\": [{\"cells\": {\"fill\": {\"color\": \"#EBF0F8\"}, \"line\": {\"color\": \"white\"}}, \"header\": {\"fill\": {\"color\": \"#C8D4E3\"}, \"line\": {\"color\": \"white\"}}, \"type\": \"table\"}]}, \"layout\": {\"annotationdefaults\": {\"arrowcolor\": \"#2a3f5f\", \"arrowhead\": 0, \"arrowwidth\": 1}, \"coloraxis\": {\"colorbar\": {\"outlinewidth\": 0, \"ticks\": \"\"}}, \"colorscale\": {\"diverging\": [[0, \"#8e0152\"], [0.1, \"#c51b7d\"], [0.2, \"#de77ae\"], [0.3, \"#f1b6da\"], [0.4, \"#fde0ef\"], [0.5, \"#f7f7f7\"], [0.6, \"#e6f5d0\"], [0.7, \"#b8e186\"], [0.8, \"#7fbc41\"], [0.9, \"#4d9221\"], [1, \"#276419\"]], \"sequential\": [[0.0, \"#0d0887\"], [0.1111111111111111, \"#46039f\"], [0.2222222222222222, \"#7201a8\"], [0.3333333333333333, \"#9c179e\"], [0.4444444444444444, \"#bd3786\"], [0.5555555555555556, \"#d8576b\"], [0.6666666666666666, \"#ed7953\"], [0.7777777777777778, \"#fb9f3a\"], [0.8888888888888888, \"#fdca26\"], [1.0, \"#f0f921\"]], \"sequentialminus\": [[0.0, \"#0d0887\"], [0.1111111111111111, \"#46039f\"], [0.2222222222222222, \"#7201a8\"], [0.3333333333333333, \"#9c179e\"], [0.4444444444444444, \"#bd3786\"], [0.5555555555555556, \"#d8576b\"], [0.6666666666666666, \"#ed7953\"], [0.7777777777777778, \"#fb9f3a\"], [0.8888888888888888, \"#fdca26\"], [1.0, \"#f0f921\"]]}, \"colorway\": [\"#636efa\", \"#EF553B\", \"#00cc96\", \"#ab63fa\", \"#FFA15A\", \"#19d3f3\", \"#FF6692\", \"#B6E880\", \"#FF97FF\", \"#FECB52\"], \"font\": {\"color\": \"#2a3f5f\"}, \"geo\": {\"bgcolor\": \"white\", \"lakecolor\": \"white\", \"landcolor\": \"white\", \"showlakes\": true, \"showland\": true, \"subunitcolor\": \"#C8D4E3\"}, \"hoverlabel\": {\"align\": \"left\"}, \"hovermode\": \"closest\", \"mapbox\": {\"style\": \"light\"}, \"paper_bgcolor\": \"white\", \"plot_bgcolor\": \"white\", \"polar\": {\"angularaxis\": {\"gridcolor\": \"#EBF0F8\", \"linecolor\": \"#EBF0F8\", \"ticks\": \"\"}, \"bgcolor\": \"white\", \"radialaxis\": {\"gridcolor\": \"#EBF0F8\", \"linecolor\": \"#EBF0F8\", \"ticks\": \"\"}}, \"scene\": {\"xaxis\": {\"backgroundcolor\": \"white\", \"gridcolor\": \"#DFE8F3\", \"gridwidth\": 2, \"linecolor\": \"#EBF0F8\", \"showbackground\": true, \"ticks\": \"\", \"zerolinecolor\": \"#EBF0F8\"}, \"yaxis\": {\"backgroundcolor\": \"white\", \"gridcolor\": \"#DFE8F3\", \"gridwidth\": 2, \"linecolor\": \"#EBF0F8\", \"showbackground\": true, \"ticks\": \"\", \"zerolinecolor\": \"#EBF0F8\"}, \"zaxis\": {\"backgroundcolor\": \"white\", \"gridcolor\": \"#DFE8F3\", \"gridwidth\": 2, \"linecolor\": \"#EBF0F8\", \"showbackground\": true, \"ticks\": \"\", \"zerolinecolor\": \"#EBF0F8\"}}, \"shapedefaults\": {\"line\": {\"color\": \"#2a3f5f\"}}, \"ternary\": {\"aaxis\": {\"gridcolor\": \"#DFE8F3\", \"linecolor\": \"#A2B1C6\", \"ticks\": \"\"}, \"baxis\": {\"gridcolor\": \"#DFE8F3\", \"linecolor\": \"#A2B1C6\", \"ticks\": \"\"}, \"bgcolor\": \"white\", \"caxis\": {\"gridcolor\": \"#DFE8F3\", \"linecolor\": \"#A2B1C6\", \"ticks\": \"\"}}, \"title\": {\"x\": 0.05}, \"xaxis\": {\"automargin\": true, \"gridcolor\": \"#EBF0F8\", \"linecolor\": \"#EBF0F8\", \"ticks\": \"\", \"title\": {\"standoff\": 15}, \"zerolinecolor\": \"#EBF0F8\", \"zerolinewidth\": 2}, \"yaxis\": {\"automargin\": true, \"gridcolor\": \"#EBF0F8\", \"linecolor\": \"#EBF0F8\", \"ticks\": \"\", \"title\": {\"standoff\": 15}, \"zerolinecolor\": \"#EBF0F8\", \"zerolinewidth\": 2}}}, \"title\": {\"text\": \"The number of detected clusters with different valuses of MinSamples\"}, \"xaxis\": {\"dtick\": 40, \"title\": {\"text\": \"Epsilon\"}, \"zeroline\": false}, \"yaxis\": {\"title\": {\"text\": \"Number of cluster\"}, \"zeroline\": false}},\n",
       "                        {\"responsive\": true}\n",
       "                    ).then(function(){\n",
       "                            \n",
       "var gd = document.getElementById('64c965cf-622b-4f41-a40f-7e9c6e06315a');\n",
       "var x = new MutationObserver(function (mutations, observer) {{\n",
       "        var display = window.getComputedStyle(gd).display;\n",
       "        if (!display || display === 'none') {{\n",
       "            console.log([gd, 'removed!']);\n",
       "            Plotly.purge(gd);\n",
       "            observer.disconnect();\n",
       "        }}\n",
       "}});\n",
       "\n",
       "// Listen for the removal of the full notebook cells\n",
       "var notebookContainer = gd.closest('#notebook-container');\n",
       "if (notebookContainer) {{\n",
       "    x.observe(notebookContainer, {childList: true});\n",
       "}}\n",
       "\n",
       "// Listen for the clearing of the current output cell\n",
       "var outputEl = gd.closest('.output');\n",
       "if (outputEl) {{\n",
       "    x.observe(outputEl, {childList: true});\n",
       "}}\n",
       "\n",
       "                        })\n",
       "                };\n",
       "                });\n",
       "            </script>\n",
       "        </div>"
      ]
     },
     "metadata": {},
     "output_type": "display_data"
    },
    {
     "data": {
      "application/vnd.plotly.v1+json": {
       "config": {
        "plotlyServerURL": "https://plot.ly"
       },
       "data": [
        {
         "line": {
          "shape": "spline",
          "width": 2
         },
         "marker": {
          "size": 8
         },
         "mode": "lines+markers",
         "name": "Epsilon: 40 m",
         "type": "scatter",
         "x": [
          5,
          10,
          15,
          20,
          25,
          30,
          35,
          40,
          45,
          50
         ],
         "y": [
          556,
          281,
          184,
          146,
          113,
          84,
          79,
          63,
          55,
          49
         ]
        },
        {
         "line": {
          "shape": "spline",
          "width": 2
         },
         "marker": {
          "size": 8
         },
         "mode": "lines+markers",
         "name": "Epsilon: 80 m",
         "type": "scatter",
         "x": [
          5,
          10,
          15,
          20,
          25,
          30,
          35,
          40,
          45,
          50
         ],
         "y": [
          458,
          244,
          176,
          145,
          126,
          98,
          93,
          84,
          78,
          65
         ]
        },
        {
         "line": {
          "shape": "spline",
          "width": 2
         },
         "marker": {
          "size": 8
         },
         "mode": "lines+markers",
         "name": "Epsilon: 120 m",
         "type": "scatter",
         "x": [
          5,
          10,
          15,
          20,
          25,
          30,
          35,
          40,
          45,
          50
         ],
         "y": [
          364,
          195,
          145,
          124,
          111,
          99,
          92,
          81,
          72,
          70
         ]
        },
        {
         "line": {
          "shape": "spline",
          "width": 2
         },
         "marker": {
          "size": 8
         },
         "mode": "lines+markers",
         "name": "Epsilon: 160 m",
         "type": "scatter",
         "x": [
          5,
          10,
          15,
          20,
          25,
          30,
          35,
          40,
          45,
          50
         ],
         "y": [
          333,
          178,
          134,
          111,
          93,
          82,
          83,
          75,
          73,
          70
         ]
        },
        {
         "line": {
          "shape": "spline",
          "width": 2
         },
         "marker": {
          "size": 8
         },
         "mode": "lines+markers",
         "name": "Epsilon: 200 m",
         "type": "scatter",
         "x": [
          5,
          10,
          15,
          20,
          25,
          30,
          35,
          40,
          45,
          50
         ],
         "y": [
          317,
          173,
          127,
          106,
          83,
          74,
          69,
          66,
          62,
          60
         ]
        }
       ],
       "layout": {
        "template": {
         "data": {
          "bar": [
           {
            "error_x": {
             "color": "#2a3f5f"
            },
            "error_y": {
             "color": "#2a3f5f"
            },
            "marker": {
             "line": {
              "color": "white",
              "width": 0.5
             }
            },
            "type": "bar"
           }
          ],
          "barpolar": [
           {
            "marker": {
             "line": {
              "color": "white",
              "width": 0.5
             }
            },
            "type": "barpolar"
           }
          ],
          "carpet": [
           {
            "aaxis": {
             "endlinecolor": "#2a3f5f",
             "gridcolor": "#C8D4E3",
             "linecolor": "#C8D4E3",
             "minorgridcolor": "#C8D4E3",
             "startlinecolor": "#2a3f5f"
            },
            "baxis": {
             "endlinecolor": "#2a3f5f",
             "gridcolor": "#C8D4E3",
             "linecolor": "#C8D4E3",
             "minorgridcolor": "#C8D4E3",
             "startlinecolor": "#2a3f5f"
            },
            "type": "carpet"
           }
          ],
          "choropleth": [
           {
            "colorbar": {
             "outlinewidth": 0,
             "ticks": ""
            },
            "type": "choropleth"
           }
          ],
          "contour": [
           {
            "colorbar": {
             "outlinewidth": 0,
             "ticks": ""
            },
            "colorscale": [
             [
              0,
              "#0d0887"
             ],
             [
              0.1111111111111111,
              "#46039f"
             ],
             [
              0.2222222222222222,
              "#7201a8"
             ],
             [
              0.3333333333333333,
              "#9c179e"
             ],
             [
              0.4444444444444444,
              "#bd3786"
             ],
             [
              0.5555555555555556,
              "#d8576b"
             ],
             [
              0.6666666666666666,
              "#ed7953"
             ],
             [
              0.7777777777777778,
              "#fb9f3a"
             ],
             [
              0.8888888888888888,
              "#fdca26"
             ],
             [
              1,
              "#f0f921"
             ]
            ],
            "type": "contour"
           }
          ],
          "contourcarpet": [
           {
            "colorbar": {
             "outlinewidth": 0,
             "ticks": ""
            },
            "type": "contourcarpet"
           }
          ],
          "heatmap": [
           {
            "colorbar": {
             "outlinewidth": 0,
             "ticks": ""
            },
            "colorscale": [
             [
              0,
              "#0d0887"
             ],
             [
              0.1111111111111111,
              "#46039f"
             ],
             [
              0.2222222222222222,
              "#7201a8"
             ],
             [
              0.3333333333333333,
              "#9c179e"
             ],
             [
              0.4444444444444444,
              "#bd3786"
             ],
             [
              0.5555555555555556,
              "#d8576b"
             ],
             [
              0.6666666666666666,
              "#ed7953"
             ],
             [
              0.7777777777777778,
              "#fb9f3a"
             ],
             [
              0.8888888888888888,
              "#fdca26"
             ],
             [
              1,
              "#f0f921"
             ]
            ],
            "type": "heatmap"
           }
          ],
          "heatmapgl": [
           {
            "colorbar": {
             "outlinewidth": 0,
             "ticks": ""
            },
            "colorscale": [
             [
              0,
              "#0d0887"
             ],
             [
              0.1111111111111111,
              "#46039f"
             ],
             [
              0.2222222222222222,
              "#7201a8"
             ],
             [
              0.3333333333333333,
              "#9c179e"
             ],
             [
              0.4444444444444444,
              "#bd3786"
             ],
             [
              0.5555555555555556,
              "#d8576b"
             ],
             [
              0.6666666666666666,
              "#ed7953"
             ],
             [
              0.7777777777777778,
              "#fb9f3a"
             ],
             [
              0.8888888888888888,
              "#fdca26"
             ],
             [
              1,
              "#f0f921"
             ]
            ],
            "type": "heatmapgl"
           }
          ],
          "histogram": [
           {
            "marker": {
             "colorbar": {
              "outlinewidth": 0,
              "ticks": ""
             }
            },
            "type": "histogram"
           }
          ],
          "histogram2d": [
           {
            "colorbar": {
             "outlinewidth": 0,
             "ticks": ""
            },
            "colorscale": [
             [
              0,
              "#0d0887"
             ],
             [
              0.1111111111111111,
              "#46039f"
             ],
             [
              0.2222222222222222,
              "#7201a8"
             ],
             [
              0.3333333333333333,
              "#9c179e"
             ],
             [
              0.4444444444444444,
              "#bd3786"
             ],
             [
              0.5555555555555556,
              "#d8576b"
             ],
             [
              0.6666666666666666,
              "#ed7953"
             ],
             [
              0.7777777777777778,
              "#fb9f3a"
             ],
             [
              0.8888888888888888,
              "#fdca26"
             ],
             [
              1,
              "#f0f921"
             ]
            ],
            "type": "histogram2d"
           }
          ],
          "histogram2dcontour": [
           {
            "colorbar": {
             "outlinewidth": 0,
             "ticks": ""
            },
            "colorscale": [
             [
              0,
              "#0d0887"
             ],
             [
              0.1111111111111111,
              "#46039f"
             ],
             [
              0.2222222222222222,
              "#7201a8"
             ],
             [
              0.3333333333333333,
              "#9c179e"
             ],
             [
              0.4444444444444444,
              "#bd3786"
             ],
             [
              0.5555555555555556,
              "#d8576b"
             ],
             [
              0.6666666666666666,
              "#ed7953"
             ],
             [
              0.7777777777777778,
              "#fb9f3a"
             ],
             [
              0.8888888888888888,
              "#fdca26"
             ],
             [
              1,
              "#f0f921"
             ]
            ],
            "type": "histogram2dcontour"
           }
          ],
          "mesh3d": [
           {
            "colorbar": {
             "outlinewidth": 0,
             "ticks": ""
            },
            "type": "mesh3d"
           }
          ],
          "parcoords": [
           {
            "line": {
             "colorbar": {
              "outlinewidth": 0,
              "ticks": ""
             }
            },
            "type": "parcoords"
           }
          ],
          "pie": [
           {
            "automargin": true,
            "type": "pie"
           }
          ],
          "scatter": [
           {
            "marker": {
             "colorbar": {
              "outlinewidth": 0,
              "ticks": ""
             }
            },
            "type": "scatter"
           }
          ],
          "scatter3d": [
           {
            "line": {
             "colorbar": {
              "outlinewidth": 0,
              "ticks": ""
             }
            },
            "marker": {
             "colorbar": {
              "outlinewidth": 0,
              "ticks": ""
             }
            },
            "type": "scatter3d"
           }
          ],
          "scattercarpet": [
           {
            "marker": {
             "colorbar": {
              "outlinewidth": 0,
              "ticks": ""
             }
            },
            "type": "scattercarpet"
           }
          ],
          "scattergeo": [
           {
            "marker": {
             "colorbar": {
              "outlinewidth": 0,
              "ticks": ""
             }
            },
            "type": "scattergeo"
           }
          ],
          "scattergl": [
           {
            "marker": {
             "colorbar": {
              "outlinewidth": 0,
              "ticks": ""
             }
            },
            "type": "scattergl"
           }
          ],
          "scattermapbox": [
           {
            "marker": {
             "colorbar": {
              "outlinewidth": 0,
              "ticks": ""
             }
            },
            "type": "scattermapbox"
           }
          ],
          "scatterpolar": [
           {
            "marker": {
             "colorbar": {
              "outlinewidth": 0,
              "ticks": ""
             }
            },
            "type": "scatterpolar"
           }
          ],
          "scatterpolargl": [
           {
            "marker": {
             "colorbar": {
              "outlinewidth": 0,
              "ticks": ""
             }
            },
            "type": "scatterpolargl"
           }
          ],
          "scatterternary": [
           {
            "marker": {
             "colorbar": {
              "outlinewidth": 0,
              "ticks": ""
             }
            },
            "type": "scatterternary"
           }
          ],
          "surface": [
           {
            "colorbar": {
             "outlinewidth": 0,
             "ticks": ""
            },
            "colorscale": [
             [
              0,
              "#0d0887"
             ],
             [
              0.1111111111111111,
              "#46039f"
             ],
             [
              0.2222222222222222,
              "#7201a8"
             ],
             [
              0.3333333333333333,
              "#9c179e"
             ],
             [
              0.4444444444444444,
              "#bd3786"
             ],
             [
              0.5555555555555556,
              "#d8576b"
             ],
             [
              0.6666666666666666,
              "#ed7953"
             ],
             [
              0.7777777777777778,
              "#fb9f3a"
             ],
             [
              0.8888888888888888,
              "#fdca26"
             ],
             [
              1,
              "#f0f921"
             ]
            ],
            "type": "surface"
           }
          ],
          "table": [
           {
            "cells": {
             "fill": {
              "color": "#EBF0F8"
             },
             "line": {
              "color": "white"
             }
            },
            "header": {
             "fill": {
              "color": "#C8D4E3"
             },
             "line": {
              "color": "white"
             }
            },
            "type": "table"
           }
          ]
         },
         "layout": {
          "annotationdefaults": {
           "arrowcolor": "#2a3f5f",
           "arrowhead": 0,
           "arrowwidth": 1
          },
          "coloraxis": {
           "colorbar": {
            "outlinewidth": 0,
            "ticks": ""
           }
          },
          "colorscale": {
           "diverging": [
            [
             0,
             "#8e0152"
            ],
            [
             0.1,
             "#c51b7d"
            ],
            [
             0.2,
             "#de77ae"
            ],
            [
             0.3,
             "#f1b6da"
            ],
            [
             0.4,
             "#fde0ef"
            ],
            [
             0.5,
             "#f7f7f7"
            ],
            [
             0.6,
             "#e6f5d0"
            ],
            [
             0.7,
             "#b8e186"
            ],
            [
             0.8,
             "#7fbc41"
            ],
            [
             0.9,
             "#4d9221"
            ],
            [
             1,
             "#276419"
            ]
           ],
           "sequential": [
            [
             0,
             "#0d0887"
            ],
            [
             0.1111111111111111,
             "#46039f"
            ],
            [
             0.2222222222222222,
             "#7201a8"
            ],
            [
             0.3333333333333333,
             "#9c179e"
            ],
            [
             0.4444444444444444,
             "#bd3786"
            ],
            [
             0.5555555555555556,
             "#d8576b"
            ],
            [
             0.6666666666666666,
             "#ed7953"
            ],
            [
             0.7777777777777778,
             "#fb9f3a"
            ],
            [
             0.8888888888888888,
             "#fdca26"
            ],
            [
             1,
             "#f0f921"
            ]
           ],
           "sequentialminus": [
            [
             0,
             "#0d0887"
            ],
            [
             0.1111111111111111,
             "#46039f"
            ],
            [
             0.2222222222222222,
             "#7201a8"
            ],
            [
             0.3333333333333333,
             "#9c179e"
            ],
            [
             0.4444444444444444,
             "#bd3786"
            ],
            [
             0.5555555555555556,
             "#d8576b"
            ],
            [
             0.6666666666666666,
             "#ed7953"
            ],
            [
             0.7777777777777778,
             "#fb9f3a"
            ],
            [
             0.8888888888888888,
             "#fdca26"
            ],
            [
             1,
             "#f0f921"
            ]
           ]
          },
          "colorway": [
           "#636efa",
           "#EF553B",
           "#00cc96",
           "#ab63fa",
           "#FFA15A",
           "#19d3f3",
           "#FF6692",
           "#B6E880",
           "#FF97FF",
           "#FECB52"
          ],
          "font": {
           "color": "#2a3f5f"
          },
          "geo": {
           "bgcolor": "white",
           "lakecolor": "white",
           "landcolor": "white",
           "showlakes": true,
           "showland": true,
           "subunitcolor": "#C8D4E3"
          },
          "hoverlabel": {
           "align": "left"
          },
          "hovermode": "closest",
          "mapbox": {
           "style": "light"
          },
          "paper_bgcolor": "white",
          "plot_bgcolor": "white",
          "polar": {
           "angularaxis": {
            "gridcolor": "#EBF0F8",
            "linecolor": "#EBF0F8",
            "ticks": ""
           },
           "bgcolor": "white",
           "radialaxis": {
            "gridcolor": "#EBF0F8",
            "linecolor": "#EBF0F8",
            "ticks": ""
           }
          },
          "scene": {
           "xaxis": {
            "backgroundcolor": "white",
            "gridcolor": "#DFE8F3",
            "gridwidth": 2,
            "linecolor": "#EBF0F8",
            "showbackground": true,
            "ticks": "",
            "zerolinecolor": "#EBF0F8"
           },
           "yaxis": {
            "backgroundcolor": "white",
            "gridcolor": "#DFE8F3",
            "gridwidth": 2,
            "linecolor": "#EBF0F8",
            "showbackground": true,
            "ticks": "",
            "zerolinecolor": "#EBF0F8"
           },
           "zaxis": {
            "backgroundcolor": "white",
            "gridcolor": "#DFE8F3",
            "gridwidth": 2,
            "linecolor": "#EBF0F8",
            "showbackground": true,
            "ticks": "",
            "zerolinecolor": "#EBF0F8"
           }
          },
          "shapedefaults": {
           "line": {
            "color": "#2a3f5f"
           }
          },
          "ternary": {
           "aaxis": {
            "gridcolor": "#DFE8F3",
            "linecolor": "#A2B1C6",
            "ticks": ""
           },
           "baxis": {
            "gridcolor": "#DFE8F3",
            "linecolor": "#A2B1C6",
            "ticks": ""
           },
           "bgcolor": "white",
           "caxis": {
            "gridcolor": "#DFE8F3",
            "linecolor": "#A2B1C6",
            "ticks": ""
           }
          },
          "title": {
           "x": 0.05
          },
          "xaxis": {
           "automargin": true,
           "gridcolor": "#EBF0F8",
           "linecolor": "#EBF0F8",
           "ticks": "",
           "title": {
            "standoff": 15
           },
           "zerolinecolor": "#EBF0F8",
           "zerolinewidth": 2
          },
          "yaxis": {
           "automargin": true,
           "gridcolor": "#EBF0F8",
           "linecolor": "#EBF0F8",
           "ticks": "",
           "title": {
            "standoff": 15
           },
           "zerolinecolor": "#EBF0F8",
           "zerolinewidth": 2
          }
         }
        },
        "title": {
         "text": "The number of detected clusters with different valuses of Eps"
        },
        "xaxis": {
         "dtick": 5,
         "title": {
          "text": "Minimum samples in the neighborhood"
         },
         "zeroline": false
        },
        "yaxis": {
         "title": {
          "text": "Number of cluster"
         },
         "zeroline": false
        }
       }
      },
      "text/html": [
       "<div>\n",
       "        \n",
       "        \n",
       "            <div id=\"5eb21091-9525-4d8b-845f-a0b71741a733\" class=\"plotly-graph-div\" style=\"height:525px; width:100%;\"></div>\n",
       "            <script type=\"text/javascript\">\n",
       "                require([\"plotly\"], function(Plotly) {\n",
       "                    window.PLOTLYENV=window.PLOTLYENV || {};\n",
       "                    \n",
       "                if (document.getElementById(\"5eb21091-9525-4d8b-845f-a0b71741a733\")) {\n",
       "                    Plotly.newPlot(\n",
       "                        '5eb21091-9525-4d8b-845f-a0b71741a733',\n",
       "                        [{\"line\": {\"shape\": \"spline\", \"width\": 2}, \"marker\": {\"size\": 8}, \"mode\": \"lines+markers\", \"name\": \"Epsilon: 40 m\", \"type\": \"scatter\", \"x\": [5, 10, 15, 20, 25, 30, 35, 40, 45, 50], \"y\": [556, 281, 184, 146, 113, 84, 79, 63, 55, 49]}, {\"line\": {\"shape\": \"spline\", \"width\": 2}, \"marker\": {\"size\": 8}, \"mode\": \"lines+markers\", \"name\": \"Epsilon: 80 m\", \"type\": \"scatter\", \"x\": [5, 10, 15, 20, 25, 30, 35, 40, 45, 50], \"y\": [458, 244, 176, 145, 126, 98, 93, 84, 78, 65]}, {\"line\": {\"shape\": \"spline\", \"width\": 2}, \"marker\": {\"size\": 8}, \"mode\": \"lines+markers\", \"name\": \"Epsilon: 120 m\", \"type\": \"scatter\", \"x\": [5, 10, 15, 20, 25, 30, 35, 40, 45, 50], \"y\": [364, 195, 145, 124, 111, 99, 92, 81, 72, 70]}, {\"line\": {\"shape\": \"spline\", \"width\": 2}, \"marker\": {\"size\": 8}, \"mode\": \"lines+markers\", \"name\": \"Epsilon: 160 m\", \"type\": \"scatter\", \"x\": [5, 10, 15, 20, 25, 30, 35, 40, 45, 50], \"y\": [333, 178, 134, 111, 93, 82, 83, 75, 73, 70]}, {\"line\": {\"shape\": \"spline\", \"width\": 2}, \"marker\": {\"size\": 8}, \"mode\": \"lines+markers\", \"name\": \"Epsilon: 200 m\", \"type\": \"scatter\", \"x\": [5, 10, 15, 20, 25, 30, 35, 40, 45, 50], \"y\": [317, 173, 127, 106, 83, 74, 69, 66, 62, 60]}],\n",
       "                        {\"template\": {\"data\": {\"bar\": [{\"error_x\": {\"color\": \"#2a3f5f\"}, \"error_y\": {\"color\": \"#2a3f5f\"}, \"marker\": {\"line\": {\"color\": \"white\", \"width\": 0.5}}, \"type\": \"bar\"}], \"barpolar\": [{\"marker\": {\"line\": {\"color\": \"white\", \"width\": 0.5}}, \"type\": \"barpolar\"}], \"carpet\": [{\"aaxis\": {\"endlinecolor\": \"#2a3f5f\", \"gridcolor\": \"#C8D4E3\", \"linecolor\": \"#C8D4E3\", \"minorgridcolor\": \"#C8D4E3\", \"startlinecolor\": \"#2a3f5f\"}, \"baxis\": {\"endlinecolor\": \"#2a3f5f\", \"gridcolor\": \"#C8D4E3\", \"linecolor\": \"#C8D4E3\", \"minorgridcolor\": \"#C8D4E3\", \"startlinecolor\": \"#2a3f5f\"}, \"type\": \"carpet\"}], \"choropleth\": [{\"colorbar\": {\"outlinewidth\": 0, \"ticks\": \"\"}, \"type\": \"choropleth\"}], \"contour\": [{\"colorbar\": {\"outlinewidth\": 0, \"ticks\": \"\"}, \"colorscale\": [[0.0, \"#0d0887\"], [0.1111111111111111, \"#46039f\"], [0.2222222222222222, \"#7201a8\"], [0.3333333333333333, \"#9c179e\"], [0.4444444444444444, \"#bd3786\"], [0.5555555555555556, \"#d8576b\"], [0.6666666666666666, \"#ed7953\"], [0.7777777777777778, \"#fb9f3a\"], [0.8888888888888888, \"#fdca26\"], [1.0, \"#f0f921\"]], \"type\": \"contour\"}], \"contourcarpet\": [{\"colorbar\": {\"outlinewidth\": 0, \"ticks\": \"\"}, \"type\": \"contourcarpet\"}], \"heatmap\": [{\"colorbar\": {\"outlinewidth\": 0, \"ticks\": \"\"}, \"colorscale\": [[0.0, \"#0d0887\"], [0.1111111111111111, \"#46039f\"], [0.2222222222222222, \"#7201a8\"], [0.3333333333333333, \"#9c179e\"], [0.4444444444444444, \"#bd3786\"], [0.5555555555555556, \"#d8576b\"], [0.6666666666666666, \"#ed7953\"], [0.7777777777777778, \"#fb9f3a\"], [0.8888888888888888, \"#fdca26\"], [1.0, \"#f0f921\"]], \"type\": \"heatmap\"}], \"heatmapgl\": [{\"colorbar\": {\"outlinewidth\": 0, \"ticks\": \"\"}, \"colorscale\": [[0.0, \"#0d0887\"], [0.1111111111111111, \"#46039f\"], [0.2222222222222222, \"#7201a8\"], [0.3333333333333333, \"#9c179e\"], [0.4444444444444444, \"#bd3786\"], [0.5555555555555556, \"#d8576b\"], [0.6666666666666666, \"#ed7953\"], [0.7777777777777778, \"#fb9f3a\"], [0.8888888888888888, \"#fdca26\"], [1.0, \"#f0f921\"]], \"type\": \"heatmapgl\"}], \"histogram\": [{\"marker\": {\"colorbar\": {\"outlinewidth\": 0, \"ticks\": \"\"}}, \"type\": \"histogram\"}], \"histogram2d\": [{\"colorbar\": {\"outlinewidth\": 0, \"ticks\": \"\"}, \"colorscale\": [[0.0, \"#0d0887\"], [0.1111111111111111, \"#46039f\"], [0.2222222222222222, \"#7201a8\"], [0.3333333333333333, \"#9c179e\"], [0.4444444444444444, \"#bd3786\"], [0.5555555555555556, \"#d8576b\"], [0.6666666666666666, \"#ed7953\"], [0.7777777777777778, \"#fb9f3a\"], [0.8888888888888888, \"#fdca26\"], [1.0, \"#f0f921\"]], \"type\": \"histogram2d\"}], \"histogram2dcontour\": [{\"colorbar\": {\"outlinewidth\": 0, \"ticks\": \"\"}, \"colorscale\": [[0.0, \"#0d0887\"], [0.1111111111111111, \"#46039f\"], [0.2222222222222222, \"#7201a8\"], [0.3333333333333333, \"#9c179e\"], [0.4444444444444444, \"#bd3786\"], [0.5555555555555556, \"#d8576b\"], [0.6666666666666666, \"#ed7953\"], [0.7777777777777778, \"#fb9f3a\"], [0.8888888888888888, \"#fdca26\"], [1.0, \"#f0f921\"]], \"type\": \"histogram2dcontour\"}], \"mesh3d\": [{\"colorbar\": {\"outlinewidth\": 0, \"ticks\": \"\"}, \"type\": \"mesh3d\"}], \"parcoords\": [{\"line\": {\"colorbar\": {\"outlinewidth\": 0, \"ticks\": \"\"}}, \"type\": \"parcoords\"}], \"pie\": [{\"automargin\": true, \"type\": \"pie\"}], \"scatter\": [{\"marker\": {\"colorbar\": {\"outlinewidth\": 0, \"ticks\": \"\"}}, \"type\": \"scatter\"}], \"scatter3d\": [{\"line\": {\"colorbar\": {\"outlinewidth\": 0, \"ticks\": \"\"}}, \"marker\": {\"colorbar\": {\"outlinewidth\": 0, \"ticks\": \"\"}}, \"type\": \"scatter3d\"}], \"scattercarpet\": [{\"marker\": {\"colorbar\": {\"outlinewidth\": 0, \"ticks\": \"\"}}, \"type\": \"scattercarpet\"}], \"scattergeo\": [{\"marker\": {\"colorbar\": {\"outlinewidth\": 0, \"ticks\": \"\"}}, \"type\": \"scattergeo\"}], \"scattergl\": [{\"marker\": {\"colorbar\": {\"outlinewidth\": 0, \"ticks\": \"\"}}, \"type\": \"scattergl\"}], \"scattermapbox\": [{\"marker\": {\"colorbar\": {\"outlinewidth\": 0, \"ticks\": \"\"}}, \"type\": \"scattermapbox\"}], \"scatterpolar\": [{\"marker\": {\"colorbar\": {\"outlinewidth\": 0, \"ticks\": \"\"}}, \"type\": \"scatterpolar\"}], \"scatterpolargl\": [{\"marker\": {\"colorbar\": {\"outlinewidth\": 0, \"ticks\": \"\"}}, \"type\": \"scatterpolargl\"}], \"scatterternary\": [{\"marker\": {\"colorbar\": {\"outlinewidth\": 0, \"ticks\": \"\"}}, \"type\": \"scatterternary\"}], \"surface\": [{\"colorbar\": {\"outlinewidth\": 0, \"ticks\": \"\"}, \"colorscale\": [[0.0, \"#0d0887\"], [0.1111111111111111, \"#46039f\"], [0.2222222222222222, \"#7201a8\"], [0.3333333333333333, \"#9c179e\"], [0.4444444444444444, \"#bd3786\"], [0.5555555555555556, \"#d8576b\"], [0.6666666666666666, \"#ed7953\"], [0.7777777777777778, \"#fb9f3a\"], [0.8888888888888888, \"#fdca26\"], [1.0, \"#f0f921\"]], \"type\": \"surface\"}], \"table\": [{\"cells\": {\"fill\": {\"color\": \"#EBF0F8\"}, \"line\": {\"color\": \"white\"}}, \"header\": {\"fill\": {\"color\": \"#C8D4E3\"}, \"line\": {\"color\": \"white\"}}, \"type\": \"table\"}]}, \"layout\": {\"annotationdefaults\": {\"arrowcolor\": \"#2a3f5f\", \"arrowhead\": 0, \"arrowwidth\": 1}, \"coloraxis\": {\"colorbar\": {\"outlinewidth\": 0, \"ticks\": \"\"}}, \"colorscale\": {\"diverging\": [[0, \"#8e0152\"], [0.1, \"#c51b7d\"], [0.2, \"#de77ae\"], [0.3, \"#f1b6da\"], [0.4, \"#fde0ef\"], [0.5, \"#f7f7f7\"], [0.6, \"#e6f5d0\"], [0.7, \"#b8e186\"], [0.8, \"#7fbc41\"], [0.9, \"#4d9221\"], [1, \"#276419\"]], \"sequential\": [[0.0, \"#0d0887\"], [0.1111111111111111, \"#46039f\"], [0.2222222222222222, \"#7201a8\"], [0.3333333333333333, \"#9c179e\"], [0.4444444444444444, \"#bd3786\"], [0.5555555555555556, \"#d8576b\"], [0.6666666666666666, \"#ed7953\"], [0.7777777777777778, \"#fb9f3a\"], [0.8888888888888888, \"#fdca26\"], [1.0, \"#f0f921\"]], \"sequentialminus\": [[0.0, \"#0d0887\"], [0.1111111111111111, \"#46039f\"], [0.2222222222222222, \"#7201a8\"], [0.3333333333333333, \"#9c179e\"], [0.4444444444444444, \"#bd3786\"], [0.5555555555555556, \"#d8576b\"], [0.6666666666666666, \"#ed7953\"], [0.7777777777777778, \"#fb9f3a\"], [0.8888888888888888, \"#fdca26\"], [1.0, \"#f0f921\"]]}, \"colorway\": [\"#636efa\", \"#EF553B\", \"#00cc96\", \"#ab63fa\", \"#FFA15A\", \"#19d3f3\", \"#FF6692\", \"#B6E880\", \"#FF97FF\", \"#FECB52\"], \"font\": {\"color\": \"#2a3f5f\"}, \"geo\": {\"bgcolor\": \"white\", \"lakecolor\": \"white\", \"landcolor\": \"white\", \"showlakes\": true, \"showland\": true, \"subunitcolor\": \"#C8D4E3\"}, \"hoverlabel\": {\"align\": \"left\"}, \"hovermode\": \"closest\", \"mapbox\": {\"style\": \"light\"}, \"paper_bgcolor\": \"white\", \"plot_bgcolor\": \"white\", \"polar\": {\"angularaxis\": {\"gridcolor\": \"#EBF0F8\", \"linecolor\": \"#EBF0F8\", \"ticks\": \"\"}, \"bgcolor\": \"white\", \"radialaxis\": {\"gridcolor\": \"#EBF0F8\", \"linecolor\": \"#EBF0F8\", \"ticks\": \"\"}}, \"scene\": {\"xaxis\": {\"backgroundcolor\": \"white\", \"gridcolor\": \"#DFE8F3\", \"gridwidth\": 2, \"linecolor\": \"#EBF0F8\", \"showbackground\": true, \"ticks\": \"\", \"zerolinecolor\": \"#EBF0F8\"}, \"yaxis\": {\"backgroundcolor\": \"white\", \"gridcolor\": \"#DFE8F3\", \"gridwidth\": 2, \"linecolor\": \"#EBF0F8\", \"showbackground\": true, \"ticks\": \"\", \"zerolinecolor\": \"#EBF0F8\"}, \"zaxis\": {\"backgroundcolor\": \"white\", \"gridcolor\": \"#DFE8F3\", \"gridwidth\": 2, \"linecolor\": \"#EBF0F8\", \"showbackground\": true, \"ticks\": \"\", \"zerolinecolor\": \"#EBF0F8\"}}, \"shapedefaults\": {\"line\": {\"color\": \"#2a3f5f\"}}, \"ternary\": {\"aaxis\": {\"gridcolor\": \"#DFE8F3\", \"linecolor\": \"#A2B1C6\", \"ticks\": \"\"}, \"baxis\": {\"gridcolor\": \"#DFE8F3\", \"linecolor\": \"#A2B1C6\", \"ticks\": \"\"}, \"bgcolor\": \"white\", \"caxis\": {\"gridcolor\": \"#DFE8F3\", \"linecolor\": \"#A2B1C6\", \"ticks\": \"\"}}, \"title\": {\"x\": 0.05}, \"xaxis\": {\"automargin\": true, \"gridcolor\": \"#EBF0F8\", \"linecolor\": \"#EBF0F8\", \"ticks\": \"\", \"title\": {\"standoff\": 15}, \"zerolinecolor\": \"#EBF0F8\", \"zerolinewidth\": 2}, \"yaxis\": {\"automargin\": true, \"gridcolor\": \"#EBF0F8\", \"linecolor\": \"#EBF0F8\", \"ticks\": \"\", \"title\": {\"standoff\": 15}, \"zerolinecolor\": \"#EBF0F8\", \"zerolinewidth\": 2}}}, \"title\": {\"text\": \"The number of detected clusters with different valuses of Eps\"}, \"xaxis\": {\"dtick\": 5, \"title\": {\"text\": \"Minimum samples in the neighborhood\"}, \"zeroline\": false}, \"yaxis\": {\"title\": {\"text\": \"Number of cluster\"}, \"zeroline\": false}},\n",
       "                        {\"responsive\": true}\n",
       "                    ).then(function(){\n",
       "                            \n",
       "var gd = document.getElementById('5eb21091-9525-4d8b-845f-a0b71741a733');\n",
       "var x = new MutationObserver(function (mutations, observer) {{\n",
       "        var display = window.getComputedStyle(gd).display;\n",
       "        if (!display || display === 'none') {{\n",
       "            console.log([gd, 'removed!']);\n",
       "            Plotly.purge(gd);\n",
       "            observer.disconnect();\n",
       "        }}\n",
       "}});\n",
       "\n",
       "// Listen for the removal of the full notebook cells\n",
       "var notebookContainer = gd.closest('#notebook-container');\n",
       "if (notebookContainer) {{\n",
       "    x.observe(notebookContainer, {childList: true});\n",
       "}}\n",
       "\n",
       "// Listen for the clearing of the current output cell\n",
       "var outputEl = gd.closest('.output');\n",
       "if (outputEl) {{\n",
       "    x.observe(outputEl, {childList: true});\n",
       "}}\n",
       "\n",
       "                        })\n",
       "                };\n",
       "                });\n",
       "            </script>\n",
       "        </div>"
      ]
     },
     "metadata": {},
     "output_type": "display_data"
    }
   ],
   "source": [
    "# Create dataframe filled with DBSCAN params and clusters\n",
    "def paramsClusters(data, eps_range, minPts_range):\n",
    "    m_per_rad = 6371.0088 * 1000\n",
    "    df = pd.DataFrame(columns=['eps','min_pts','num_clusters'])\n",
    "    for m in minPts_range:\n",
    "        for e in eps_range:\n",
    "            eps_rad = e/m_per_rad\n",
    "            eps_rad = eps_rad\n",
    "            db = DBSCAN(eps=eps_rad, min_samples=m, algorithm='ball_tree', metric='haversine').fit(np.radians(data[['lat','lon']]))\n",
    "            c = len(set(db.labels_ + 1))\n",
    "            df = df.append({'eps': e, 'min_pts': m, 'num_clusters': c}, ignore_index=True)\n",
    "    \n",
    "    return df\n",
    "\n",
    "# DBSCAN trend - epsilons and clusters\n",
    "epsilons = list(map(lambda n: n*20, range(1,16)))\n",
    "min_points = list(map(lambda n: n*10, range(1,6)))\n",
    "pc = paramsClusters(data, epsilons, min_points)\n",
    "EVC = go.Figure()\n",
    "\n",
    "for m in pc.min_pts.unique():\n",
    "    df = pc[pc.min_pts == m]\n",
    "    EVC.add_trace(go.Scatter(\n",
    "        x=df.eps,\n",
    "        y=df.num_clusters,\n",
    "        name=f'Min Samples: {m} points',\n",
    "        mode='lines+markers',\n",
    "        marker=dict(size=8),\n",
    "        line=dict(width=2),\n",
    "        line_shape='spline'\n",
    "    ))\n",
    "    \n",
    "EVC.update_layout(\n",
    "    title='The number of detected clusters with different valuses of MinSamples',\n",
    "    xaxis=dict(title='Epsilon', zeroline=False, dtick=40),\n",
    "    yaxis=dict(title='Number of cluster', zeroline=False),\n",
    "    template=plot_template\n",
    ")\n",
    "\n",
    "# DBSCAN trend - samples and clusters\n",
    "epsilons = list(map(lambda n: n*40, range(1,6)))\n",
    "min_points = list(map(lambda n: n*5, range(1,11)))\n",
    "pc = paramsClusters(data, epsilons, min_points)\n",
    "MVC = go.Figure()\n",
    "    \n",
    "for e in pc.eps.unique():\n",
    "    df = pc[pc.eps == e]\n",
    "    MVC.add_trace(go.Scatter(\n",
    "        x=df.min_pts,\n",
    "        y=df.num_clusters,\n",
    "        name=f'Epsilon: {e} m',\n",
    "        mode='lines+markers',\n",
    "        marker=dict(size=8),\n",
    "        line=dict(width=2),\n",
    "        line_shape='spline'\n",
    "    ))\n",
    "\n",
    "MVC.update_layout(\n",
    "    title='The number of detected clusters with different valuses of Eps',\n",
    "    xaxis=dict(title='Minimum samples in the neighborhood', zeroline=False, dtick=5),\n",
    "    yaxis=dict(title='Number of cluster', zeroline=False),\n",
    "    template=plot_template\n",
    ")\n",
    "\n",
    "EVC.show()\n",
    "MVC.show()"
   ]
  },
  {
   "cell_type": "code",
   "execution_count": 18,
   "metadata": {},
   "outputs": [
    {
     "ename": "ValueError",
     "evalue": "Image generation requires the psutil package.\n\nInstall using pip:\n    $ pip install psutil\n\nInstall using conda:\n    $ conda install psutil\n",
     "output_type": "error",
     "traceback": [
      "\u001b[0;31m---------------------------------------------------------------------------\u001b[0m",
      "\u001b[0;31mValueError\u001b[0m                                Traceback (most recent call last)",
      "\u001b[0;32m<ipython-input-18-c9081986f4b5>\u001b[0m in \u001b[0;36m<module>\u001b[0;34m\u001b[0m\n\u001b[0;32m----> 1\u001b[0;31m \u001b[0mEVC\u001b[0m\u001b[0;34m.\u001b[0m\u001b[0mwrite_image\u001b[0m\u001b[0;34m(\u001b[0m\u001b[0;34mf'./plots/epsilon_by_cluster.jpeg'\u001b[0m\u001b[0;34m,\u001b[0m \u001b[0mscale\u001b[0m\u001b[0;34m=\u001b[0m\u001b[0;36m3\u001b[0m\u001b[0;34m)\u001b[0m\u001b[0;34m\u001b[0m\u001b[0;34m\u001b[0m\u001b[0m\n\u001b[0m\u001b[1;32m      2\u001b[0m \u001b[0mMVC\u001b[0m\u001b[0;34m.\u001b[0m\u001b[0mwrite_image\u001b[0m\u001b[0;34m(\u001b[0m\u001b[0;34mf'./plots/minpoint_by_cluster.jpeg'\u001b[0m\u001b[0;34m,\u001b[0m \u001b[0mscale\u001b[0m\u001b[0;34m=\u001b[0m\u001b[0;36m3\u001b[0m\u001b[0;34m)\u001b[0m\u001b[0;34m\u001b[0m\u001b[0;34m\u001b[0m\u001b[0m\n",
      "\u001b[0;32m~/Code/jupyter/.env/lib/python3.7/site-packages/plotly/basedatatypes.py\u001b[0m in \u001b[0;36mwrite_image\u001b[0;34m(self, *args, **kwargs)\u001b[0m\n\u001b[1;32m   2822\u001b[0m         \u001b[0;32mimport\u001b[0m \u001b[0mplotly\u001b[0m\u001b[0;34m.\u001b[0m\u001b[0mio\u001b[0m \u001b[0;32mas\u001b[0m \u001b[0mpio\u001b[0m\u001b[0;34m\u001b[0m\u001b[0;34m\u001b[0m\u001b[0m\n\u001b[1;32m   2823\u001b[0m \u001b[0;34m\u001b[0m\u001b[0m\n\u001b[0;32m-> 2824\u001b[0;31m         \u001b[0;32mreturn\u001b[0m \u001b[0mpio\u001b[0m\u001b[0;34m.\u001b[0m\u001b[0mwrite_image\u001b[0m\u001b[0;34m(\u001b[0m\u001b[0mself\u001b[0m\u001b[0;34m,\u001b[0m \u001b[0;34m*\u001b[0m\u001b[0margs\u001b[0m\u001b[0;34m,\u001b[0m \u001b[0;34m**\u001b[0m\u001b[0mkwargs\u001b[0m\u001b[0;34m)\u001b[0m\u001b[0;34m\u001b[0m\u001b[0;34m\u001b[0m\u001b[0m\n\u001b[0m\u001b[1;32m   2825\u001b[0m \u001b[0;34m\u001b[0m\u001b[0m\n\u001b[1;32m   2826\u001b[0m     \u001b[0;31m# Static helpers\u001b[0m\u001b[0;34m\u001b[0m\u001b[0;34m\u001b[0m\u001b[0;34m\u001b[0m\u001b[0m\n",
      "\u001b[0;32m~/Code/jupyter/.env/lib/python3.7/site-packages/plotly/io/_orca.py\u001b[0m in \u001b[0;36mwrite_image\u001b[0;34m(fig, file, format, scale, width, height, validate)\u001b[0m\n\u001b[1;32m   1768\u001b[0m     \u001b[0;31m# Do this first so we don't create a file if image conversion fails\u001b[0m\u001b[0;34m\u001b[0m\u001b[0;34m\u001b[0m\u001b[0;34m\u001b[0m\u001b[0m\n\u001b[1;32m   1769\u001b[0m     img_data = to_image(\n\u001b[0;32m-> 1770\u001b[0;31m         \u001b[0mfig\u001b[0m\u001b[0;34m,\u001b[0m \u001b[0mformat\u001b[0m\u001b[0;34m=\u001b[0m\u001b[0mformat\u001b[0m\u001b[0;34m,\u001b[0m \u001b[0mscale\u001b[0m\u001b[0;34m=\u001b[0m\u001b[0mscale\u001b[0m\u001b[0;34m,\u001b[0m \u001b[0mwidth\u001b[0m\u001b[0;34m=\u001b[0m\u001b[0mwidth\u001b[0m\u001b[0;34m,\u001b[0m \u001b[0mheight\u001b[0m\u001b[0;34m=\u001b[0m\u001b[0mheight\u001b[0m\u001b[0;34m,\u001b[0m \u001b[0mvalidate\u001b[0m\u001b[0;34m=\u001b[0m\u001b[0mvalidate\u001b[0m\u001b[0;34m\u001b[0m\u001b[0;34m\u001b[0m\u001b[0m\n\u001b[0m\u001b[1;32m   1771\u001b[0m     )\n\u001b[1;32m   1772\u001b[0m \u001b[0;34m\u001b[0m\u001b[0m\n",
      "\u001b[0;32m~/Code/jupyter/.env/lib/python3.7/site-packages/plotly/io/_orca.py\u001b[0m in \u001b[0;36mto_image\u001b[0;34m(fig, format, width, height, scale, validate)\u001b[0m\n\u001b[1;32m   1533\u001b[0m     \u001b[0;31m# Make sure orca sever is running\u001b[0m\u001b[0;34m\u001b[0m\u001b[0;34m\u001b[0m\u001b[0;34m\u001b[0m\u001b[0m\n\u001b[1;32m   1534\u001b[0m     \u001b[0;31m# -------------------------------\u001b[0m\u001b[0;34m\u001b[0m\u001b[0;34m\u001b[0m\u001b[0;34m\u001b[0m\u001b[0m\n\u001b[0;32m-> 1535\u001b[0;31m     \u001b[0mensure_server\u001b[0m\u001b[0;34m(\u001b[0m\u001b[0;34m)\u001b[0m\u001b[0;34m\u001b[0m\u001b[0;34m\u001b[0m\u001b[0m\n\u001b[0m\u001b[1;32m   1536\u001b[0m \u001b[0;34m\u001b[0m\u001b[0m\n\u001b[1;32m   1537\u001b[0m     \u001b[0;31m# Handle defaults\u001b[0m\u001b[0;34m\u001b[0m\u001b[0;34m\u001b[0m\u001b[0;34m\u001b[0m\u001b[0m\n",
      "\u001b[0;32m~/Code/jupyter/.env/lib/python3.7/site-packages/plotly/io/_orca.py\u001b[0m in \u001b[0;36mensure_server\u001b[0;34m()\u001b[0m\n\u001b[1;32m   1368\u001b[0m \u001b[0mInstall\u001b[0m \u001b[0musing\u001b[0m \u001b[0mconda\u001b[0m\u001b[0;34m:\u001b[0m\u001b[0;34m\u001b[0m\u001b[0;34m\u001b[0m\u001b[0m\n\u001b[1;32m   1369\u001b[0m     \u001b[0;31m$\u001b[0m \u001b[0mconda\u001b[0m \u001b[0minstall\u001b[0m \u001b[0mpsutil\u001b[0m\u001b[0;34m\u001b[0m\u001b[0;34m\u001b[0m\u001b[0m\n\u001b[0;32m-> 1370\u001b[0;31m \"\"\"\n\u001b[0m\u001b[1;32m   1371\u001b[0m         )\n\u001b[1;32m   1372\u001b[0m \u001b[0;34m\u001b[0m\u001b[0m\n",
      "\u001b[0;31mValueError\u001b[0m: Image generation requires the psutil package.\n\nInstall using pip:\n    $ pip install psutil\n\nInstall using conda:\n    $ conda install psutil\n"
     ]
    }
   ],
   "source": [
    "EVC.write_image(f'./plots/epsilon_by_cluster.jpeg', scale=3)\n",
    "MVC.write_image(f'./plots/minpoint_by_cluster.jpeg', scale=3)"
   ]
  },
  {
   "cell_type": "markdown",
   "metadata": {},
   "source": [
    "## DBSCAN\n",
    "I choose <code>eps = 120</code> and <code>min_sample = 10</code> based on a trial and error technique."
   ]
  },
  {
   "cell_type": "code",
   "execution_count": 24,
   "metadata": {
    "_kg_hide-output": true
   },
   "outputs": [
    {
     "name": "stdout",
     "output_type": "stream",
     "text": [
      "Number of clusters: 195\n"
     ]
    }
   ],
   "source": [
    "# Calculate DBSCAN based on Haversine metric    \n",
    "def HDBSCAN(df, epsilon, minPts, x='lat', y='lon'):\n",
    "    \n",
    "    # Find most centered sample in a cluster\n",
    "    def getCenterMostPts(cluster):\n",
    "        centroid = (MultiPoint(cluster.values).centroid.x, MultiPoint(cluster.values).centroid.y)\n",
    "        centermost_point = min(cluster.values, key=lambda point: great_circle(point, centroid).m)\n",
    "        return tuple(centermost_point)\n",
    "\n",
    "    m_per_rad = 6371.0088 * 1000\n",
    "    eps_rad = epsilon/m_per_rad\n",
    "    photo_coords = df.loc[:, {x,y}]\n",
    "    photo_coords = photo_coords[['lat','lon']]\n",
    "    db = DBSCAN(eps=eps_rad, min_samples=minPts, algorithm='ball_tree', metric='haversine').fit(np.radians(photo_coords))\n",
    "    cluster_labels = db.labels_ + 1\n",
    "    num_clusters = len(set(cluster_labels))\n",
    "\n",
    "    # Put clusters and their subset of coords in an array\n",
    "    clusters = pd.Series([photo_coords[cluster_labels==n] for n in range(num_clusters)])\n",
    "\n",
    "    # Find centroid of each cluster\n",
    "    centroids = clusters.map(getCenterMostPts)\n",
    "    \n",
    "    # Pull rows from original data frame where row numbers match the clustered data\n",
    "    rows = clusters.apply(lambda c: c.index.values)\n",
    "    clustered_df = rows.apply(lambda row_num: df.loc[row_num])\n",
    "    \n",
    "    # Append cluster numbers and centroid coords to each clustered dataframe\n",
    "    lats,lons = zip(*centroids)\n",
    "    new_df = []\n",
    "    for i, v in clustered_df.iteritems():\n",
    "        v.loc[:, 'cluster_num'] = i\n",
    "        v.loc[:, 'cent_lat'] = lats[i]\n",
    "        v.loc[:, 'cent_lon'] = lons[i]\n",
    "        new_df.append(v)    \n",
    "    new_df = pd.concat(new_df)\n",
    "    \n",
    "    return new_df\n",
    "    \n",
    "cdata = HDBSCAN(data, epsilon=120, minPts=10)\n",
    "print(f'Number of clusters: {len(cdata.cluster_num.unique())}')"
   ]
  },
  {
   "cell_type": "markdown",
   "metadata": {},
   "source": [
    "## Cluster Analysis\n",
    "The plots below illustrate all clusters and their centroids in two geographical and non-geographical views. The output of DBSCAN is a set of photo clusters $L=\\{l_1,l_2,...,l_n\\}$. Each member of this set is a tourist venue that can be considered as $l_i=\\{P_{l_i},g_{l_i}\\}$. $P_{l_i}$ is the set of all photos taken in location $l_i$, in which the geographical coordinate of the centroid is $g_{l_i}$."
   ]
  },
  {
   "cell_type": "code",
   "execution_count": 25,
   "metadata": {
    "_kg_hide-input": true
   },
   "outputs": [
    {
     "ename": "NameError",
     "evalue": "name 'folium' is not defined",
     "output_type": "error",
     "traceback": [
      "\u001b[0;31m---------------------------------------------------------------------------\u001b[0m",
      "\u001b[0;31mNameError\u001b[0m                                 Traceback (most recent call last)",
      "\u001b[0;32m<ipython-input-25-e5b74930e298>\u001b[0m in \u001b[0;36m<module>\u001b[0;34m\u001b[0m\n\u001b[1;32m     15\u001b[0m \u001b[0mcolors\u001b[0m \u001b[0;34m=\u001b[0m \u001b[0mmatplotlibToPlotly\u001b[0m\u001b[0;34m(\u001b[0m\u001b[0mplt\u001b[0m\u001b[0;34m.\u001b[0m\u001b[0mcm\u001b[0m\u001b[0;34m.\u001b[0m\u001b[0mSpectral\u001b[0m\u001b[0;34m,\u001b[0m \u001b[0mlen\u001b[0m\u001b[0;34m(\u001b[0m\u001b[0munique_labels\u001b[0m\u001b[0;34m)\u001b[0m\u001b[0;34m)\u001b[0m\u001b[0;34m\u001b[0m\u001b[0;34m\u001b[0m\u001b[0m\n\u001b[1;32m     16\u001b[0m \u001b[0mDB\u001b[0m \u001b[0;34m=\u001b[0m \u001b[0mgo\u001b[0m\u001b[0;34m.\u001b[0m\u001b[0mFigure\u001b[0m\u001b[0;34m(\u001b[0m\u001b[0;34m)\u001b[0m\u001b[0;34m\u001b[0m\u001b[0;34m\u001b[0m\u001b[0m\n\u001b[0;32m---> 17\u001b[0;31m \u001b[0mleaflet_map\u001b[0m \u001b[0;34m=\u001b[0m \u001b[0mfolium\u001b[0m\u001b[0;34m.\u001b[0m\u001b[0mMap\u001b[0m\u001b[0;34m(\u001b[0m\u001b[0mlocation\u001b[0m\u001b[0;34m=\u001b[0m\u001b[0;34m[\u001b[0m\u001b[0;36m51.514205\u001b[0m\u001b[0;34m,\u001b[0m\u001b[0;34m-\u001b[0m\u001b[0;36m0.104371\u001b[0m\u001b[0;34m]\u001b[0m\u001b[0;34m,\u001b[0m \u001b[0mzoom_start\u001b[0m\u001b[0;34m=\u001b[0m\u001b[0;36m12\u001b[0m\u001b[0;34m,\u001b[0m \u001b[0mtiles\u001b[0m\u001b[0;34m=\u001b[0m\u001b[0;34m'Cartodb Positron'\u001b[0m\u001b[0;34m)\u001b[0m\u001b[0;34m\u001b[0m\u001b[0;34m\u001b[0m\u001b[0m\n\u001b[0m\u001b[1;32m     18\u001b[0m \u001b[0;34m\u001b[0m\u001b[0m\n\u001b[1;32m     19\u001b[0m \u001b[0;32mfor\u001b[0m \u001b[0mk\u001b[0m\u001b[0;34m,\u001b[0m\u001b[0mcol\u001b[0m \u001b[0;32min\u001b[0m \u001b[0mzip\u001b[0m\u001b[0;34m(\u001b[0m\u001b[0munique_labels\u001b[0m\u001b[0;34m,\u001b[0m \u001b[0mcolors\u001b[0m\u001b[0;34m)\u001b[0m\u001b[0;34m:\u001b[0m\u001b[0;34m\u001b[0m\u001b[0;34m\u001b[0m\u001b[0m\n",
      "\u001b[0;31mNameError\u001b[0m: name 'folium' is not defined"
     ]
    }
   ],
   "source": [
    "# Convet matplotlib colormap to plotly\n",
    "def matplotlibToPlotly(cmap, pl_entries):\n",
    "    h = 1.0/(pl_entries-1)\n",
    "    pl_colorscale = []\n",
    "    \n",
    "    for k in range(pl_entries):\n",
    "        C = list(map(np.uint8, np.array(cmap(k*h)[:3])*255))\n",
    "        pl_colorscale.append('rgb'+str((C[0], C[1], C[2])))\n",
    "        \n",
    "    return pl_colorscale\n",
    "\n",
    "\n",
    "# Show plot\n",
    "unique_labels = cdata.cluster_num.unique()\n",
    "colors = matplotlibToPlotly(plt.cm.Spectral, len(unique_labels))\n",
    "DB = go.Figure()\n",
    "leaflet_map = folium.Map(location=[51.514205,-0.104371], zoom_start=12, tiles='Cartodb Positron')\n",
    "\n",
    "for k,col in zip(unique_labels, colors):\n",
    "    # Check if label number is 0, then create noisy points \n",
    "    if k == 0:\n",
    "        col = 'gray'\n",
    "        df = cdata[cdata.cluster_num == 0]\n",
    "        \n",
    "        DB.add_trace(go.Scatter(\n",
    "            x=df.lat,\n",
    "            y=df.lon,\n",
    "            mode='markers',\n",
    "            name='noise',\n",
    "            marker=dict(size=3, color=col),\n",
    "            hoverinfo='none'\n",
    "        ))\n",
    "        \n",
    "    # Check the remaining clusters\n",
    "    else:\n",
    "        col = col\n",
    "        df = cdata[cdata.cluster_num == k]\n",
    "        lat = df.lat\n",
    "        lon = df.lon\n",
    "        cent_lat = df.cent_lat.unique()\n",
    "        cent_lon = df.cent_lon.unique()\n",
    "        \n",
    "        # Bokeh plot\n",
    "        DB.add_trace(go.Scatter(\n",
    "            x=lat,\n",
    "            y=lon,\n",
    "            mode='markers',\n",
    "            name='point',\n",
    "            marker=dict(size=5, color=col),\n",
    "            text=df.photo_id.apply(lambda id: f'photo_id: {id}'),\n",
    "            hoverinfo='none',\n",
    "            showlegend=False\n",
    "        ))\n",
    "        DB.add_trace(go.Scatter(\n",
    "            x=cent_lat,\n",
    "            y=cent_lon,\n",
    "            mode='markers',\n",
    "            name='centroid',\n",
    "            text=f'cluster: {k}',\n",
    "            marker=dict(\n",
    "                size=12,\n",
    "                color=col,\n",
    "                line=dict(color='gray', width=1)\n",
    "            ),\n",
    "            hoverinfo='x+y+name+text'\n",
    "        ))\n",
    "        \n",
    "        # Map plot\n",
    "        folium.Marker(\n",
    "            location=[cent_lat, cent_lon],\n",
    "            icon=folium.Icon(icon='map-marker')\n",
    "        ).add_to(leaflet_map)\n",
    "        \n",
    "        \n",
    "DB.update_layout(\n",
    "#     title='DBSCAN Based on Haversine Including Center Most Points',\n",
    "    hovermode='closest',\n",
    "    showlegend=False,\n",
    "    xaxis=dict(title='Latitude', zeroline=False),\n",
    "    yaxis=dict(title='Longitude', zeroline=False),\n",
    "    template=plot_template\n",
    ")\n",
    "\n",
    "DB.show()\n",
    "leaflet_map"
   ]
  },
  {
   "cell_type": "code",
   "execution_count": 8,
   "metadata": {},
   "outputs": [],
   "source": [
    "DB.write_image(f'./plots/dbscan_clusters.jpeg', scale=3)"
   ]
  },
  {
   "cell_type": "code",
   "execution_count": 26,
   "metadata": {
    "scrolled": false
   },
   "outputs": [
    {
     "data": {
      "application/vnd.plotly.v1+json": {
       "config": {
        "plotlyServerURL": "https://plot.ly"
       },
       "data": [
        {
         "type": "bar",
         "x": [
          1,
          2,
          3,
          4,
          5,
          6,
          7,
          8,
          9,
          10,
          11,
          12,
          13,
          14,
          15,
          16,
          17,
          18,
          19,
          20,
          21,
          22,
          23,
          24,
          25,
          26,
          27,
          28,
          29,
          30,
          31,
          32,
          33,
          34,
          35,
          36,
          37,
          38,
          39,
          40,
          41,
          42,
          43,
          44,
          45,
          46,
          47,
          48,
          49,
          50
         ],
         "y": [
          418,
          5175,
          251,
          101,
          62,
          337,
          25,
          155,
          230,
          54,
          38,
          102,
          187,
          24,
          76,
          25,
          282,
          26,
          64,
          18,
          147,
          12,
          176,
          71,
          203,
          16,
          52,
          75,
          25,
          81,
          343,
          16,
          103,
          37,
          30,
          20,
          21,
          166,
          45,
          10,
          184,
          56,
          14,
          262,
          823,
          61,
          72,
          14,
          14,
          10
         ]
        }
       ],
       "layout": {
        "template": {
         "data": {
          "bar": [
           {
            "error_x": {
             "color": "#2a3f5f"
            },
            "error_y": {
             "color": "#2a3f5f"
            },
            "marker": {
             "line": {
              "color": "white",
              "width": 0.5
             }
            },
            "type": "bar"
           }
          ],
          "barpolar": [
           {
            "marker": {
             "line": {
              "color": "white",
              "width": 0.5
             }
            },
            "type": "barpolar"
           }
          ],
          "carpet": [
           {
            "aaxis": {
             "endlinecolor": "#2a3f5f",
             "gridcolor": "#C8D4E3",
             "linecolor": "#C8D4E3",
             "minorgridcolor": "#C8D4E3",
             "startlinecolor": "#2a3f5f"
            },
            "baxis": {
             "endlinecolor": "#2a3f5f",
             "gridcolor": "#C8D4E3",
             "linecolor": "#C8D4E3",
             "minorgridcolor": "#C8D4E3",
             "startlinecolor": "#2a3f5f"
            },
            "type": "carpet"
           }
          ],
          "choropleth": [
           {
            "colorbar": {
             "outlinewidth": 0,
             "ticks": ""
            },
            "type": "choropleth"
           }
          ],
          "contour": [
           {
            "colorbar": {
             "outlinewidth": 0,
             "ticks": ""
            },
            "colorscale": [
             [
              0,
              "#0d0887"
             ],
             [
              0.1111111111111111,
              "#46039f"
             ],
             [
              0.2222222222222222,
              "#7201a8"
             ],
             [
              0.3333333333333333,
              "#9c179e"
             ],
             [
              0.4444444444444444,
              "#bd3786"
             ],
             [
              0.5555555555555556,
              "#d8576b"
             ],
             [
              0.6666666666666666,
              "#ed7953"
             ],
             [
              0.7777777777777778,
              "#fb9f3a"
             ],
             [
              0.8888888888888888,
              "#fdca26"
             ],
             [
              1,
              "#f0f921"
             ]
            ],
            "type": "contour"
           }
          ],
          "contourcarpet": [
           {
            "colorbar": {
             "outlinewidth": 0,
             "ticks": ""
            },
            "type": "contourcarpet"
           }
          ],
          "heatmap": [
           {
            "colorbar": {
             "outlinewidth": 0,
             "ticks": ""
            },
            "colorscale": [
             [
              0,
              "#0d0887"
             ],
             [
              0.1111111111111111,
              "#46039f"
             ],
             [
              0.2222222222222222,
              "#7201a8"
             ],
             [
              0.3333333333333333,
              "#9c179e"
             ],
             [
              0.4444444444444444,
              "#bd3786"
             ],
             [
              0.5555555555555556,
              "#d8576b"
             ],
             [
              0.6666666666666666,
              "#ed7953"
             ],
             [
              0.7777777777777778,
              "#fb9f3a"
             ],
             [
              0.8888888888888888,
              "#fdca26"
             ],
             [
              1,
              "#f0f921"
             ]
            ],
            "type": "heatmap"
           }
          ],
          "heatmapgl": [
           {
            "colorbar": {
             "outlinewidth": 0,
             "ticks": ""
            },
            "colorscale": [
             [
              0,
              "#0d0887"
             ],
             [
              0.1111111111111111,
              "#46039f"
             ],
             [
              0.2222222222222222,
              "#7201a8"
             ],
             [
              0.3333333333333333,
              "#9c179e"
             ],
             [
              0.4444444444444444,
              "#bd3786"
             ],
             [
              0.5555555555555556,
              "#d8576b"
             ],
             [
              0.6666666666666666,
              "#ed7953"
             ],
             [
              0.7777777777777778,
              "#fb9f3a"
             ],
             [
              0.8888888888888888,
              "#fdca26"
             ],
             [
              1,
              "#f0f921"
             ]
            ],
            "type": "heatmapgl"
           }
          ],
          "histogram": [
           {
            "marker": {
             "colorbar": {
              "outlinewidth": 0,
              "ticks": ""
             }
            },
            "type": "histogram"
           }
          ],
          "histogram2d": [
           {
            "colorbar": {
             "outlinewidth": 0,
             "ticks": ""
            },
            "colorscale": [
             [
              0,
              "#0d0887"
             ],
             [
              0.1111111111111111,
              "#46039f"
             ],
             [
              0.2222222222222222,
              "#7201a8"
             ],
             [
              0.3333333333333333,
              "#9c179e"
             ],
             [
              0.4444444444444444,
              "#bd3786"
             ],
             [
              0.5555555555555556,
              "#d8576b"
             ],
             [
              0.6666666666666666,
              "#ed7953"
             ],
             [
              0.7777777777777778,
              "#fb9f3a"
             ],
             [
              0.8888888888888888,
              "#fdca26"
             ],
             [
              1,
              "#f0f921"
             ]
            ],
            "type": "histogram2d"
           }
          ],
          "histogram2dcontour": [
           {
            "colorbar": {
             "outlinewidth": 0,
             "ticks": ""
            },
            "colorscale": [
             [
              0,
              "#0d0887"
             ],
             [
              0.1111111111111111,
              "#46039f"
             ],
             [
              0.2222222222222222,
              "#7201a8"
             ],
             [
              0.3333333333333333,
              "#9c179e"
             ],
             [
              0.4444444444444444,
              "#bd3786"
             ],
             [
              0.5555555555555556,
              "#d8576b"
             ],
             [
              0.6666666666666666,
              "#ed7953"
             ],
             [
              0.7777777777777778,
              "#fb9f3a"
             ],
             [
              0.8888888888888888,
              "#fdca26"
             ],
             [
              1,
              "#f0f921"
             ]
            ],
            "type": "histogram2dcontour"
           }
          ],
          "mesh3d": [
           {
            "colorbar": {
             "outlinewidth": 0,
             "ticks": ""
            },
            "type": "mesh3d"
           }
          ],
          "parcoords": [
           {
            "line": {
             "colorbar": {
              "outlinewidth": 0,
              "ticks": ""
             }
            },
            "type": "parcoords"
           }
          ],
          "pie": [
           {
            "automargin": true,
            "type": "pie"
           }
          ],
          "scatter": [
           {
            "marker": {
             "colorbar": {
              "outlinewidth": 0,
              "ticks": ""
             }
            },
            "type": "scatter"
           }
          ],
          "scatter3d": [
           {
            "line": {
             "colorbar": {
              "outlinewidth": 0,
              "ticks": ""
             }
            },
            "marker": {
             "colorbar": {
              "outlinewidth": 0,
              "ticks": ""
             }
            },
            "type": "scatter3d"
           }
          ],
          "scattercarpet": [
           {
            "marker": {
             "colorbar": {
              "outlinewidth": 0,
              "ticks": ""
             }
            },
            "type": "scattercarpet"
           }
          ],
          "scattergeo": [
           {
            "marker": {
             "colorbar": {
              "outlinewidth": 0,
              "ticks": ""
             }
            },
            "type": "scattergeo"
           }
          ],
          "scattergl": [
           {
            "marker": {
             "colorbar": {
              "outlinewidth": 0,
              "ticks": ""
             }
            },
            "type": "scattergl"
           }
          ],
          "scattermapbox": [
           {
            "marker": {
             "colorbar": {
              "outlinewidth": 0,
              "ticks": ""
             }
            },
            "type": "scattermapbox"
           }
          ],
          "scatterpolar": [
           {
            "marker": {
             "colorbar": {
              "outlinewidth": 0,
              "ticks": ""
             }
            },
            "type": "scatterpolar"
           }
          ],
          "scatterpolargl": [
           {
            "marker": {
             "colorbar": {
              "outlinewidth": 0,
              "ticks": ""
             }
            },
            "type": "scatterpolargl"
           }
          ],
          "scatterternary": [
           {
            "marker": {
             "colorbar": {
              "outlinewidth": 0,
              "ticks": ""
             }
            },
            "type": "scatterternary"
           }
          ],
          "surface": [
           {
            "colorbar": {
             "outlinewidth": 0,
             "ticks": ""
            },
            "colorscale": [
             [
              0,
              "#0d0887"
             ],
             [
              0.1111111111111111,
              "#46039f"
             ],
             [
              0.2222222222222222,
              "#7201a8"
             ],
             [
              0.3333333333333333,
              "#9c179e"
             ],
             [
              0.4444444444444444,
              "#bd3786"
             ],
             [
              0.5555555555555556,
              "#d8576b"
             ],
             [
              0.6666666666666666,
              "#ed7953"
             ],
             [
              0.7777777777777778,
              "#fb9f3a"
             ],
             [
              0.8888888888888888,
              "#fdca26"
             ],
             [
              1,
              "#f0f921"
             ]
            ],
            "type": "surface"
           }
          ],
          "table": [
           {
            "cells": {
             "fill": {
              "color": "#EBF0F8"
             },
             "line": {
              "color": "white"
             }
            },
            "header": {
             "fill": {
              "color": "#C8D4E3"
             },
             "line": {
              "color": "white"
             }
            },
            "type": "table"
           }
          ]
         },
         "layout": {
          "annotationdefaults": {
           "arrowcolor": "#2a3f5f",
           "arrowhead": 0,
           "arrowwidth": 1
          },
          "coloraxis": {
           "colorbar": {
            "outlinewidth": 0,
            "ticks": ""
           }
          },
          "colorscale": {
           "diverging": [
            [
             0,
             "#8e0152"
            ],
            [
             0.1,
             "#c51b7d"
            ],
            [
             0.2,
             "#de77ae"
            ],
            [
             0.3,
             "#f1b6da"
            ],
            [
             0.4,
             "#fde0ef"
            ],
            [
             0.5,
             "#f7f7f7"
            ],
            [
             0.6,
             "#e6f5d0"
            ],
            [
             0.7,
             "#b8e186"
            ],
            [
             0.8,
             "#7fbc41"
            ],
            [
             0.9,
             "#4d9221"
            ],
            [
             1,
             "#276419"
            ]
           ],
           "sequential": [
            [
             0,
             "#0d0887"
            ],
            [
             0.1111111111111111,
             "#46039f"
            ],
            [
             0.2222222222222222,
             "#7201a8"
            ],
            [
             0.3333333333333333,
             "#9c179e"
            ],
            [
             0.4444444444444444,
             "#bd3786"
            ],
            [
             0.5555555555555556,
             "#d8576b"
            ],
            [
             0.6666666666666666,
             "#ed7953"
            ],
            [
             0.7777777777777778,
             "#fb9f3a"
            ],
            [
             0.8888888888888888,
             "#fdca26"
            ],
            [
             1,
             "#f0f921"
            ]
           ],
           "sequentialminus": [
            [
             0,
             "#0d0887"
            ],
            [
             0.1111111111111111,
             "#46039f"
            ],
            [
             0.2222222222222222,
             "#7201a8"
            ],
            [
             0.3333333333333333,
             "#9c179e"
            ],
            [
             0.4444444444444444,
             "#bd3786"
            ],
            [
             0.5555555555555556,
             "#d8576b"
            ],
            [
             0.6666666666666666,
             "#ed7953"
            ],
            [
             0.7777777777777778,
             "#fb9f3a"
            ],
            [
             0.8888888888888888,
             "#fdca26"
            ],
            [
             1,
             "#f0f921"
            ]
           ]
          },
          "colorway": [
           "#636efa",
           "#EF553B",
           "#00cc96",
           "#ab63fa",
           "#FFA15A",
           "#19d3f3",
           "#FF6692",
           "#B6E880",
           "#FF97FF",
           "#FECB52"
          ],
          "font": {
           "color": "#2a3f5f"
          },
          "geo": {
           "bgcolor": "white",
           "lakecolor": "white",
           "landcolor": "white",
           "showlakes": true,
           "showland": true,
           "subunitcolor": "#C8D4E3"
          },
          "hoverlabel": {
           "align": "left"
          },
          "hovermode": "closest",
          "mapbox": {
           "style": "light"
          },
          "paper_bgcolor": "white",
          "plot_bgcolor": "white",
          "polar": {
           "angularaxis": {
            "gridcolor": "#EBF0F8",
            "linecolor": "#EBF0F8",
            "ticks": ""
           },
           "bgcolor": "white",
           "radialaxis": {
            "gridcolor": "#EBF0F8",
            "linecolor": "#EBF0F8",
            "ticks": ""
           }
          },
          "scene": {
           "xaxis": {
            "backgroundcolor": "white",
            "gridcolor": "#DFE8F3",
            "gridwidth": 2,
            "linecolor": "#EBF0F8",
            "showbackground": true,
            "ticks": "",
            "zerolinecolor": "#EBF0F8"
           },
           "yaxis": {
            "backgroundcolor": "white",
            "gridcolor": "#DFE8F3",
            "gridwidth": 2,
            "linecolor": "#EBF0F8",
            "showbackground": true,
            "ticks": "",
            "zerolinecolor": "#EBF0F8"
           },
           "zaxis": {
            "backgroundcolor": "white",
            "gridcolor": "#DFE8F3",
            "gridwidth": 2,
            "linecolor": "#EBF0F8",
            "showbackground": true,
            "ticks": "",
            "zerolinecolor": "#EBF0F8"
           }
          },
          "shapedefaults": {
           "line": {
            "color": "#2a3f5f"
           }
          },
          "ternary": {
           "aaxis": {
            "gridcolor": "#DFE8F3",
            "linecolor": "#A2B1C6",
            "ticks": ""
           },
           "baxis": {
            "gridcolor": "#DFE8F3",
            "linecolor": "#A2B1C6",
            "ticks": ""
           },
           "bgcolor": "white",
           "caxis": {
            "gridcolor": "#DFE8F3",
            "linecolor": "#A2B1C6",
            "ticks": ""
           }
          },
          "title": {
           "x": 0.05
          },
          "xaxis": {
           "automargin": true,
           "gridcolor": "#EBF0F8",
           "linecolor": "#EBF0F8",
           "ticks": "",
           "title": {
            "standoff": 15
           },
           "zerolinecolor": "#EBF0F8",
           "zerolinewidth": 2
          },
          "yaxis": {
           "automargin": true,
           "gridcolor": "#EBF0F8",
           "linecolor": "#EBF0F8",
           "ticks": "",
           "title": {
            "standoff": 15
           },
           "zerolinecolor": "#EBF0F8",
           "zerolinewidth": 2
          }
         }
        },
        "xaxis": {
         "dtick": 1,
         "title": {
          "text": "Cluster id"
         }
        },
        "yaxis": {
         "title": {
          "text": "Number of images"
         }
        }
       }
      },
      "text/html": [
       "<div>\n",
       "        \n",
       "        \n",
       "            <div id=\"f7c5086d-2ce3-4d2a-97f5-d369ff7222a6\" class=\"plotly-graph-div\" style=\"height:525px; width:100%;\"></div>\n",
       "            <script type=\"text/javascript\">\n",
       "                require([\"plotly\"], function(Plotly) {\n",
       "                    window.PLOTLYENV=window.PLOTLYENV || {};\n",
       "                    \n",
       "                if (document.getElementById(\"f7c5086d-2ce3-4d2a-97f5-d369ff7222a6\")) {\n",
       "                    Plotly.newPlot(\n",
       "                        'f7c5086d-2ce3-4d2a-97f5-d369ff7222a6',\n",
       "                        [{\"type\": \"bar\", \"x\": [1, 2, 3, 4, 5, 6, 7, 8, 9, 10, 11, 12, 13, 14, 15, 16, 17, 18, 19, 20, 21, 22, 23, 24, 25, 26, 27, 28, 29, 30, 31, 32, 33, 34, 35, 36, 37, 38, 39, 40, 41, 42, 43, 44, 45, 46, 47, 48, 49, 50], \"y\": [418, 5175, 251, 101, 62, 337, 25, 155, 230, 54, 38, 102, 187, 24, 76, 25, 282, 26, 64, 18, 147, 12, 176, 71, 203, 16, 52, 75, 25, 81, 343, 16, 103, 37, 30, 20, 21, 166, 45, 10, 184, 56, 14, 262, 823, 61, 72, 14, 14, 10]}],\n",
       "                        {\"template\": {\"data\": {\"bar\": [{\"error_x\": {\"color\": \"#2a3f5f\"}, \"error_y\": {\"color\": \"#2a3f5f\"}, \"marker\": {\"line\": {\"color\": \"white\", \"width\": 0.5}}, \"type\": \"bar\"}], \"barpolar\": [{\"marker\": {\"line\": {\"color\": \"white\", \"width\": 0.5}}, \"type\": \"barpolar\"}], \"carpet\": [{\"aaxis\": {\"endlinecolor\": \"#2a3f5f\", \"gridcolor\": \"#C8D4E3\", \"linecolor\": \"#C8D4E3\", \"minorgridcolor\": \"#C8D4E3\", \"startlinecolor\": \"#2a3f5f\"}, \"baxis\": {\"endlinecolor\": \"#2a3f5f\", \"gridcolor\": \"#C8D4E3\", \"linecolor\": \"#C8D4E3\", \"minorgridcolor\": \"#C8D4E3\", \"startlinecolor\": \"#2a3f5f\"}, \"type\": \"carpet\"}], \"choropleth\": [{\"colorbar\": {\"outlinewidth\": 0, \"ticks\": \"\"}, \"type\": \"choropleth\"}], \"contour\": [{\"colorbar\": {\"outlinewidth\": 0, \"ticks\": \"\"}, \"colorscale\": [[0.0, \"#0d0887\"], [0.1111111111111111, \"#46039f\"], [0.2222222222222222, \"#7201a8\"], [0.3333333333333333, \"#9c179e\"], [0.4444444444444444, \"#bd3786\"], [0.5555555555555556, \"#d8576b\"], [0.6666666666666666, \"#ed7953\"], [0.7777777777777778, \"#fb9f3a\"], [0.8888888888888888, \"#fdca26\"], [1.0, \"#f0f921\"]], \"type\": \"contour\"}], \"contourcarpet\": [{\"colorbar\": {\"outlinewidth\": 0, \"ticks\": \"\"}, \"type\": \"contourcarpet\"}], \"heatmap\": [{\"colorbar\": {\"outlinewidth\": 0, \"ticks\": \"\"}, \"colorscale\": [[0.0, \"#0d0887\"], [0.1111111111111111, \"#46039f\"], [0.2222222222222222, \"#7201a8\"], [0.3333333333333333, \"#9c179e\"], [0.4444444444444444, \"#bd3786\"], [0.5555555555555556, \"#d8576b\"], [0.6666666666666666, \"#ed7953\"], [0.7777777777777778, \"#fb9f3a\"], [0.8888888888888888, \"#fdca26\"], [1.0, \"#f0f921\"]], \"type\": \"heatmap\"}], \"heatmapgl\": [{\"colorbar\": {\"outlinewidth\": 0, \"ticks\": \"\"}, \"colorscale\": [[0.0, \"#0d0887\"], [0.1111111111111111, \"#46039f\"], [0.2222222222222222, \"#7201a8\"], [0.3333333333333333, \"#9c179e\"], [0.4444444444444444, \"#bd3786\"], [0.5555555555555556, \"#d8576b\"], [0.6666666666666666, \"#ed7953\"], [0.7777777777777778, \"#fb9f3a\"], [0.8888888888888888, \"#fdca26\"], [1.0, \"#f0f921\"]], \"type\": \"heatmapgl\"}], \"histogram\": [{\"marker\": {\"colorbar\": {\"outlinewidth\": 0, \"ticks\": \"\"}}, \"type\": \"histogram\"}], \"histogram2d\": [{\"colorbar\": {\"outlinewidth\": 0, \"ticks\": \"\"}, \"colorscale\": [[0.0, \"#0d0887\"], [0.1111111111111111, \"#46039f\"], [0.2222222222222222, \"#7201a8\"], [0.3333333333333333, \"#9c179e\"], [0.4444444444444444, \"#bd3786\"], [0.5555555555555556, \"#d8576b\"], [0.6666666666666666, \"#ed7953\"], [0.7777777777777778, \"#fb9f3a\"], [0.8888888888888888, \"#fdca26\"], [1.0, \"#f0f921\"]], \"type\": \"histogram2d\"}], \"histogram2dcontour\": [{\"colorbar\": {\"outlinewidth\": 0, \"ticks\": \"\"}, \"colorscale\": [[0.0, \"#0d0887\"], [0.1111111111111111, \"#46039f\"], [0.2222222222222222, \"#7201a8\"], [0.3333333333333333, \"#9c179e\"], [0.4444444444444444, \"#bd3786\"], [0.5555555555555556, \"#d8576b\"], [0.6666666666666666, \"#ed7953\"], [0.7777777777777778, \"#fb9f3a\"], [0.8888888888888888, \"#fdca26\"], [1.0, \"#f0f921\"]], \"type\": \"histogram2dcontour\"}], \"mesh3d\": [{\"colorbar\": {\"outlinewidth\": 0, \"ticks\": \"\"}, \"type\": \"mesh3d\"}], \"parcoords\": [{\"line\": {\"colorbar\": {\"outlinewidth\": 0, \"ticks\": \"\"}}, \"type\": \"parcoords\"}], \"pie\": [{\"automargin\": true, \"type\": \"pie\"}], \"scatter\": [{\"marker\": {\"colorbar\": {\"outlinewidth\": 0, \"ticks\": \"\"}}, \"type\": \"scatter\"}], \"scatter3d\": [{\"line\": {\"colorbar\": {\"outlinewidth\": 0, \"ticks\": \"\"}}, \"marker\": {\"colorbar\": {\"outlinewidth\": 0, \"ticks\": \"\"}}, \"type\": \"scatter3d\"}], \"scattercarpet\": [{\"marker\": {\"colorbar\": {\"outlinewidth\": 0, \"ticks\": \"\"}}, \"type\": \"scattercarpet\"}], \"scattergeo\": [{\"marker\": {\"colorbar\": {\"outlinewidth\": 0, \"ticks\": \"\"}}, \"type\": \"scattergeo\"}], \"scattergl\": [{\"marker\": {\"colorbar\": {\"outlinewidth\": 0, \"ticks\": \"\"}}, \"type\": \"scattergl\"}], \"scattermapbox\": [{\"marker\": {\"colorbar\": {\"outlinewidth\": 0, \"ticks\": \"\"}}, \"type\": \"scattermapbox\"}], \"scatterpolar\": [{\"marker\": {\"colorbar\": {\"outlinewidth\": 0, \"ticks\": \"\"}}, \"type\": \"scatterpolar\"}], \"scatterpolargl\": [{\"marker\": {\"colorbar\": {\"outlinewidth\": 0, \"ticks\": \"\"}}, \"type\": \"scatterpolargl\"}], \"scatterternary\": [{\"marker\": {\"colorbar\": {\"outlinewidth\": 0, \"ticks\": \"\"}}, \"type\": \"scatterternary\"}], \"surface\": [{\"colorbar\": {\"outlinewidth\": 0, \"ticks\": \"\"}, \"colorscale\": [[0.0, \"#0d0887\"], [0.1111111111111111, \"#46039f\"], [0.2222222222222222, \"#7201a8\"], [0.3333333333333333, \"#9c179e\"], [0.4444444444444444, \"#bd3786\"], [0.5555555555555556, \"#d8576b\"], [0.6666666666666666, \"#ed7953\"], [0.7777777777777778, \"#fb9f3a\"], [0.8888888888888888, \"#fdca26\"], [1.0, \"#f0f921\"]], \"type\": \"surface\"}], \"table\": [{\"cells\": {\"fill\": {\"color\": \"#EBF0F8\"}, \"line\": {\"color\": \"white\"}}, \"header\": {\"fill\": {\"color\": \"#C8D4E3\"}, \"line\": {\"color\": \"white\"}}, \"type\": \"table\"}]}, \"layout\": {\"annotationdefaults\": {\"arrowcolor\": \"#2a3f5f\", \"arrowhead\": 0, \"arrowwidth\": 1}, \"coloraxis\": {\"colorbar\": {\"outlinewidth\": 0, \"ticks\": \"\"}}, \"colorscale\": {\"diverging\": [[0, \"#8e0152\"], [0.1, \"#c51b7d\"], [0.2, \"#de77ae\"], [0.3, \"#f1b6da\"], [0.4, \"#fde0ef\"], [0.5, \"#f7f7f7\"], [0.6, \"#e6f5d0\"], [0.7, \"#b8e186\"], [0.8, \"#7fbc41\"], [0.9, \"#4d9221\"], [1, \"#276419\"]], \"sequential\": [[0.0, \"#0d0887\"], [0.1111111111111111, \"#46039f\"], [0.2222222222222222, \"#7201a8\"], [0.3333333333333333, \"#9c179e\"], [0.4444444444444444, \"#bd3786\"], [0.5555555555555556, \"#d8576b\"], [0.6666666666666666, \"#ed7953\"], [0.7777777777777778, \"#fb9f3a\"], [0.8888888888888888, \"#fdca26\"], [1.0, \"#f0f921\"]], \"sequentialminus\": [[0.0, \"#0d0887\"], [0.1111111111111111, \"#46039f\"], [0.2222222222222222, \"#7201a8\"], [0.3333333333333333, \"#9c179e\"], [0.4444444444444444, \"#bd3786\"], [0.5555555555555556, \"#d8576b\"], [0.6666666666666666, \"#ed7953\"], [0.7777777777777778, \"#fb9f3a\"], [0.8888888888888888, \"#fdca26\"], [1.0, \"#f0f921\"]]}, \"colorway\": [\"#636efa\", \"#EF553B\", \"#00cc96\", \"#ab63fa\", \"#FFA15A\", \"#19d3f3\", \"#FF6692\", \"#B6E880\", \"#FF97FF\", \"#FECB52\"], \"font\": {\"color\": \"#2a3f5f\"}, \"geo\": {\"bgcolor\": \"white\", \"lakecolor\": \"white\", \"landcolor\": \"white\", \"showlakes\": true, \"showland\": true, \"subunitcolor\": \"#C8D4E3\"}, \"hoverlabel\": {\"align\": \"left\"}, \"hovermode\": \"closest\", \"mapbox\": {\"style\": \"light\"}, \"paper_bgcolor\": \"white\", \"plot_bgcolor\": \"white\", \"polar\": {\"angularaxis\": {\"gridcolor\": \"#EBF0F8\", \"linecolor\": \"#EBF0F8\", \"ticks\": \"\"}, \"bgcolor\": \"white\", \"radialaxis\": {\"gridcolor\": \"#EBF0F8\", \"linecolor\": \"#EBF0F8\", \"ticks\": \"\"}}, \"scene\": {\"xaxis\": {\"backgroundcolor\": \"white\", \"gridcolor\": \"#DFE8F3\", \"gridwidth\": 2, \"linecolor\": \"#EBF0F8\", \"showbackground\": true, \"ticks\": \"\", \"zerolinecolor\": \"#EBF0F8\"}, \"yaxis\": {\"backgroundcolor\": \"white\", \"gridcolor\": \"#DFE8F3\", \"gridwidth\": 2, \"linecolor\": \"#EBF0F8\", \"showbackground\": true, \"ticks\": \"\", \"zerolinecolor\": \"#EBF0F8\"}, \"zaxis\": {\"backgroundcolor\": \"white\", \"gridcolor\": \"#DFE8F3\", \"gridwidth\": 2, \"linecolor\": \"#EBF0F8\", \"showbackground\": true, \"ticks\": \"\", \"zerolinecolor\": \"#EBF0F8\"}}, \"shapedefaults\": {\"line\": {\"color\": \"#2a3f5f\"}}, \"ternary\": {\"aaxis\": {\"gridcolor\": \"#DFE8F3\", \"linecolor\": \"#A2B1C6\", \"ticks\": \"\"}, \"baxis\": {\"gridcolor\": \"#DFE8F3\", \"linecolor\": \"#A2B1C6\", \"ticks\": \"\"}, \"bgcolor\": \"white\", \"caxis\": {\"gridcolor\": \"#DFE8F3\", \"linecolor\": \"#A2B1C6\", \"ticks\": \"\"}}, \"title\": {\"x\": 0.05}, \"xaxis\": {\"automargin\": true, \"gridcolor\": \"#EBF0F8\", \"linecolor\": \"#EBF0F8\", \"ticks\": \"\", \"title\": {\"standoff\": 15}, \"zerolinecolor\": \"#EBF0F8\", \"zerolinewidth\": 2}, \"yaxis\": {\"automargin\": true, \"gridcolor\": \"#EBF0F8\", \"linecolor\": \"#EBF0F8\", \"ticks\": \"\", \"title\": {\"standoff\": 15}, \"zerolinecolor\": \"#EBF0F8\", \"zerolinewidth\": 2}}}, \"xaxis\": {\"dtick\": 1, \"title\": {\"text\": \"Cluster id\"}}, \"yaxis\": {\"title\": {\"text\": \"Number of images\"}}},\n",
       "                        {\"responsive\": true}\n",
       "                    ).then(function(){\n",
       "                            \n",
       "var gd = document.getElementById('f7c5086d-2ce3-4d2a-97f5-d369ff7222a6');\n",
       "var x = new MutationObserver(function (mutations, observer) {{\n",
       "        var display = window.getComputedStyle(gd).display;\n",
       "        if (!display || display === 'none') {{\n",
       "            console.log([gd, 'removed!']);\n",
       "            Plotly.purge(gd);\n",
       "            observer.disconnect();\n",
       "        }}\n",
       "}});\n",
       "\n",
       "// Listen for the removal of the full notebook cells\n",
       "var notebookContainer = gd.closest('#notebook-container');\n",
       "if (notebookContainer) {{\n",
       "    x.observe(notebookContainer, {childList: true});\n",
       "}}\n",
       "\n",
       "// Listen for the clearing of the current output cell\n",
       "var outputEl = gd.closest('.output');\n",
       "if (outputEl) {{\n",
       "    x.observe(outputEl, {childList: true});\n",
       "}}\n",
       "\n",
       "                        })\n",
       "                };\n",
       "                });\n",
       "            </script>\n",
       "        </div>"
      ]
     },
     "metadata": {},
     "output_type": "display_data"
    },
    {
     "ename": "ValueError",
     "evalue": "Image generation requires the psutil package.\n\nInstall using pip:\n    $ pip install psutil\n\nInstall using conda:\n    $ conda install psutil\n",
     "output_type": "error",
     "traceback": [
      "\u001b[0;31m---------------------------------------------------------------------------\u001b[0m",
      "\u001b[0;31mValueError\u001b[0m                                Traceback (most recent call last)",
      "\u001b[0;32m<ipython-input-26-d7c8a206e2f0>\u001b[0m in \u001b[0;36m<module>\u001b[0;34m\u001b[0m\n\u001b[1;32m     17\u001b[0m     )\n\u001b[1;32m     18\u001b[0m     \u001b[0mcluster_distrib\u001b[0m\u001b[0;34m.\u001b[0m\u001b[0mshow\u001b[0m\u001b[0;34m(\u001b[0m\u001b[0;34m)\u001b[0m\u001b[0;34m\u001b[0m\u001b[0;34m\u001b[0m\u001b[0m\n\u001b[0;32m---> 19\u001b[0;31m     \u001b[0mcluster_distrib\u001b[0m\u001b[0;34m.\u001b[0m\u001b[0mwrite_image\u001b[0m\u001b[0;34m(\u001b[0m\u001b[0;34mf'./plots/cluster_distrib{i}.jpeg'\u001b[0m\u001b[0;34m,\u001b[0m \u001b[0mscale\u001b[0m\u001b[0;34m=\u001b[0m\u001b[0;36m3\u001b[0m\u001b[0;34m)\u001b[0m\u001b[0;34m\u001b[0m\u001b[0;34m\u001b[0m\u001b[0m\n\u001b[0m",
      "\u001b[0;32m~/Code/jupyter/.env/lib/python3.7/site-packages/plotly/basedatatypes.py\u001b[0m in \u001b[0;36mwrite_image\u001b[0;34m(self, *args, **kwargs)\u001b[0m\n\u001b[1;32m   2822\u001b[0m         \u001b[0;32mimport\u001b[0m \u001b[0mplotly\u001b[0m\u001b[0;34m.\u001b[0m\u001b[0mio\u001b[0m \u001b[0;32mas\u001b[0m \u001b[0mpio\u001b[0m\u001b[0;34m\u001b[0m\u001b[0;34m\u001b[0m\u001b[0m\n\u001b[1;32m   2823\u001b[0m \u001b[0;34m\u001b[0m\u001b[0m\n\u001b[0;32m-> 2824\u001b[0;31m         \u001b[0;32mreturn\u001b[0m \u001b[0mpio\u001b[0m\u001b[0;34m.\u001b[0m\u001b[0mwrite_image\u001b[0m\u001b[0;34m(\u001b[0m\u001b[0mself\u001b[0m\u001b[0;34m,\u001b[0m \u001b[0;34m*\u001b[0m\u001b[0margs\u001b[0m\u001b[0;34m,\u001b[0m \u001b[0;34m**\u001b[0m\u001b[0mkwargs\u001b[0m\u001b[0;34m)\u001b[0m\u001b[0;34m\u001b[0m\u001b[0;34m\u001b[0m\u001b[0m\n\u001b[0m\u001b[1;32m   2825\u001b[0m \u001b[0;34m\u001b[0m\u001b[0m\n\u001b[1;32m   2826\u001b[0m     \u001b[0;31m# Static helpers\u001b[0m\u001b[0;34m\u001b[0m\u001b[0;34m\u001b[0m\u001b[0;34m\u001b[0m\u001b[0m\n",
      "\u001b[0;32m~/Code/jupyter/.env/lib/python3.7/site-packages/plotly/io/_orca.py\u001b[0m in \u001b[0;36mwrite_image\u001b[0;34m(fig, file, format, scale, width, height, validate)\u001b[0m\n\u001b[1;32m   1768\u001b[0m     \u001b[0;31m# Do this first so we don't create a file if image conversion fails\u001b[0m\u001b[0;34m\u001b[0m\u001b[0;34m\u001b[0m\u001b[0;34m\u001b[0m\u001b[0m\n\u001b[1;32m   1769\u001b[0m     img_data = to_image(\n\u001b[0;32m-> 1770\u001b[0;31m         \u001b[0mfig\u001b[0m\u001b[0;34m,\u001b[0m \u001b[0mformat\u001b[0m\u001b[0;34m=\u001b[0m\u001b[0mformat\u001b[0m\u001b[0;34m,\u001b[0m \u001b[0mscale\u001b[0m\u001b[0;34m=\u001b[0m\u001b[0mscale\u001b[0m\u001b[0;34m,\u001b[0m \u001b[0mwidth\u001b[0m\u001b[0;34m=\u001b[0m\u001b[0mwidth\u001b[0m\u001b[0;34m,\u001b[0m \u001b[0mheight\u001b[0m\u001b[0;34m=\u001b[0m\u001b[0mheight\u001b[0m\u001b[0;34m,\u001b[0m \u001b[0mvalidate\u001b[0m\u001b[0;34m=\u001b[0m\u001b[0mvalidate\u001b[0m\u001b[0;34m\u001b[0m\u001b[0;34m\u001b[0m\u001b[0m\n\u001b[0m\u001b[1;32m   1771\u001b[0m     )\n\u001b[1;32m   1772\u001b[0m \u001b[0;34m\u001b[0m\u001b[0m\n",
      "\u001b[0;32m~/Code/jupyter/.env/lib/python3.7/site-packages/plotly/io/_orca.py\u001b[0m in \u001b[0;36mto_image\u001b[0;34m(fig, format, width, height, scale, validate)\u001b[0m\n\u001b[1;32m   1533\u001b[0m     \u001b[0;31m# Make sure orca sever is running\u001b[0m\u001b[0;34m\u001b[0m\u001b[0;34m\u001b[0m\u001b[0;34m\u001b[0m\u001b[0m\n\u001b[1;32m   1534\u001b[0m     \u001b[0;31m# -------------------------------\u001b[0m\u001b[0;34m\u001b[0m\u001b[0;34m\u001b[0m\u001b[0;34m\u001b[0m\u001b[0m\n\u001b[0;32m-> 1535\u001b[0;31m     \u001b[0mensure_server\u001b[0m\u001b[0;34m(\u001b[0m\u001b[0;34m)\u001b[0m\u001b[0;34m\u001b[0m\u001b[0;34m\u001b[0m\u001b[0m\n\u001b[0m\u001b[1;32m   1536\u001b[0m \u001b[0;34m\u001b[0m\u001b[0m\n\u001b[1;32m   1537\u001b[0m     \u001b[0;31m# Handle defaults\u001b[0m\u001b[0;34m\u001b[0m\u001b[0;34m\u001b[0m\u001b[0;34m\u001b[0m\u001b[0m\n",
      "\u001b[0;32m~/Code/jupyter/.env/lib/python3.7/site-packages/plotly/io/_orca.py\u001b[0m in \u001b[0;36mensure_server\u001b[0;34m()\u001b[0m\n\u001b[1;32m   1368\u001b[0m \u001b[0mInstall\u001b[0m \u001b[0musing\u001b[0m \u001b[0mconda\u001b[0m\u001b[0;34m:\u001b[0m\u001b[0;34m\u001b[0m\u001b[0;34m\u001b[0m\u001b[0m\n\u001b[1;32m   1369\u001b[0m     \u001b[0;31m$\u001b[0m \u001b[0mconda\u001b[0m \u001b[0minstall\u001b[0m \u001b[0mpsutil\u001b[0m\u001b[0;34m\u001b[0m\u001b[0;34m\u001b[0m\u001b[0m\n\u001b[0;32m-> 1370\u001b[0;31m \"\"\"\n\u001b[0m\u001b[1;32m   1371\u001b[0m         )\n\u001b[1;32m   1372\u001b[0m \u001b[0;34m\u001b[0m\u001b[0m\n",
      "\u001b[0;31mValueError\u001b[0m: Image generation requires the psutil package.\n\nInstall using pip:\n    $ pip install psutil\n\nInstall using conda:\n    $ conda install psutil\n"
     ]
    }
   ],
   "source": [
    "# Remove noise cluster from the training set\n",
    "clean_data = cdata[cdata.cluster_num!=0]\n",
    "\n",
    "# Distribution plot\n",
    "def chunk(seq, size):\n",
    "    return (seq[pos:pos + size] for pos in range(0, len(seq), size))\n",
    "\n",
    "distrib_df = clean_data.groupby(['cluster_num'])['cluster_num'].count().reset_index(name='photo_num')\n",
    "chunked_distrib = enumerate(chunk(distrib_df, 50))\n",
    "\n",
    "for i, v in chunked_distrib:\n",
    "    cluster_distrib = go.Figure([go.Bar(x=v.cluster_num, y=v.photo_num)])\n",
    "    cluster_distrib.update_layout(\n",
    "        xaxis=dict(title='Cluster id', dtick=1),\n",
    "        yaxis=dict(title='Number of images'),\n",
    "        template=plot_template\n",
    "    )\n",
    "    cluster_distrib.show()\n",
    "    cluster_distrib.write_image(f'./plots/cluster_distrib{i}.jpeg', scale=3)"
   ]
  },
  {
   "cell_type": "markdown",
   "metadata": {},
   "source": [
    "## Location's Profile\n",
    "At this step, we are looking for features related to each tourist location, extracted from the previous step. Each location identified in the clustering contains information such as the geographical location, id of the user who visited the venue, visiting time and visiting contexts. It is important to know that a user may take more than one photo of the place while visiting a venue. Therefore, if the duration between the time-stamps of two photos taken by a user at the same location is less than visit duration threshold (<code>threshold</code>), we can cosider that both photos belong to a same location. If not, the <code>median</code> of timestamps can be considered as the time of the visit with new contexts.\n",
    "<br><br>\n",
    "Next, the outcome dataframe, <code>POI</code>, is exported in order to extract contextual features based on photos' taken times, then it will be imported again."
   ]
  },
  {
   "cell_type": "code",
   "execution_count": 27,
   "metadata": {},
   "outputs": [
    {
     "data": {
      "text/html": [
       "<div>\n",
       "<style scoped>\n",
       "    .dataframe tbody tr th:only-of-type {\n",
       "        vertical-align: middle;\n",
       "    }\n",
       "\n",
       "    .dataframe tbody tr th {\n",
       "        vertical-align: top;\n",
       "    }\n",
       "\n",
       "    .dataframe thead th {\n",
       "        text-align: right;\n",
       "    }\n",
       "</style>\n",
       "<table border=\"1\" class=\"dataframe\">\n",
       "  <thead>\n",
       "    <tr style=\"text-align: right;\">\n",
       "      <th></th>\n",
       "      <th>location_id</th>\n",
       "      <th>user_id</th>\n",
       "      <th>lat</th>\n",
       "      <th>lon</th>\n",
       "      <th>visit_time</th>\n",
       "    </tr>\n",
       "  </thead>\n",
       "  <tbody>\n",
       "    <tr>\n",
       "      <th>0</th>\n",
       "      <td>290360</td>\n",
       "      <td>41087279@N00</td>\n",
       "      <td>51.523766</td>\n",
       "      <td>-0.076417</td>\n",
       "      <td>2014-02-09 23:05:35</td>\n",
       "    </tr>\n",
       "    <tr>\n",
       "      <th>1</th>\n",
       "      <td>290360</td>\n",
       "      <td>41087279@N00</td>\n",
       "      <td>51.523766</td>\n",
       "      <td>-0.076417</td>\n",
       "      <td>2014-03-14 22:24:02</td>\n",
       "    </tr>\n",
       "    <tr>\n",
       "      <th>2</th>\n",
       "      <td>290360</td>\n",
       "      <td>41087279@N00</td>\n",
       "      <td>51.523766</td>\n",
       "      <td>-0.076417</td>\n",
       "      <td>2014-03-21 23:18:39</td>\n",
       "    </tr>\n",
       "    <tr>\n",
       "      <th>3</th>\n",
       "      <td>290360</td>\n",
       "      <td>41087279@N00</td>\n",
       "      <td>51.523766</td>\n",
       "      <td>-0.076417</td>\n",
       "      <td>2014-05-11 12:48:26</td>\n",
       "    </tr>\n",
       "    <tr>\n",
       "      <th>4</th>\n",
       "      <td>290360</td>\n",
       "      <td>41087279@N00</td>\n",
       "      <td>51.523766</td>\n",
       "      <td>-0.076417</td>\n",
       "      <td>2014-06-16 15:50:27</td>\n",
       "    </tr>\n",
       "    <tr>\n",
       "      <th>5</th>\n",
       "      <td>290360</td>\n",
       "      <td>41087279@N00</td>\n",
       "      <td>51.523766</td>\n",
       "      <td>-0.076417</td>\n",
       "      <td>2014-08-24 20:13:12</td>\n",
       "    </tr>\n",
       "    <tr>\n",
       "      <th>6</th>\n",
       "      <td>290360</td>\n",
       "      <td>41087279@N00</td>\n",
       "      <td>51.523766</td>\n",
       "      <td>-0.076417</td>\n",
       "      <td>2014-08-30 01:44:15</td>\n",
       "    </tr>\n",
       "    <tr>\n",
       "      <th>7</th>\n",
       "      <td>290360</td>\n",
       "      <td>41087279@N00</td>\n",
       "      <td>51.523766</td>\n",
       "      <td>-0.076417</td>\n",
       "      <td>2014-09-24 17:00:31</td>\n",
       "    </tr>\n",
       "    <tr>\n",
       "      <th>8</th>\n",
       "      <td>290360</td>\n",
       "      <td>41087279@N00</td>\n",
       "      <td>51.523766</td>\n",
       "      <td>-0.076417</td>\n",
       "      <td>2014-10-15 10:59:42</td>\n",
       "    </tr>\n",
       "    <tr>\n",
       "      <th>9</th>\n",
       "      <td>290360</td>\n",
       "      <td>41087279@N00</td>\n",
       "      <td>51.523766</td>\n",
       "      <td>-0.076417</td>\n",
       "      <td>2014-10-18 02:36:48</td>\n",
       "    </tr>\n",
       "  </tbody>\n",
       "</table>\n",
       "</div>"
      ],
      "text/plain": [
       "  location_id       user_id        lat       lon          visit_time\n",
       "0      290360  41087279@N00  51.523766 -0.076417 2014-02-09 23:05:35\n",
       "1      290360  41087279@N00  51.523766 -0.076417 2014-03-14 22:24:02\n",
       "2      290360  41087279@N00  51.523766 -0.076417 2014-03-21 23:18:39\n",
       "3      290360  41087279@N00  51.523766 -0.076417 2014-05-11 12:48:26\n",
       "4      290360  41087279@N00  51.523766 -0.076417 2014-06-16 15:50:27\n",
       "5      290360  41087279@N00  51.523766 -0.076417 2014-08-24 20:13:12\n",
       "6      290360  41087279@N00  51.523766 -0.076417 2014-08-30 01:44:15\n",
       "7      290360  41087279@N00  51.523766 -0.076417 2014-09-24 17:00:31\n",
       "8      290360  41087279@N00  51.523766 -0.076417 2014-10-15 10:59:42\n",
       "9      290360  41087279@N00  51.523766 -0.076417 2014-10-18 02:36:48"
      ]
     },
     "metadata": {},
     "output_type": "display_data"
    }
   ],
   "source": [
    "# Find most frequent string in array\n",
    "def mostFreqStr(array):\n",
    "    array = [i for i in array if str(i) != 'nan']\n",
    "    if len(array) != 0:\n",
    "        counts = np.unique(array, return_counts=True)[1]\n",
    "        max_index = np.argmax(counts)\n",
    "        freq_bin = array[max_index]\n",
    "        return freq_bin\n",
    "    else:\n",
    "        return np.nan\n",
    "\n",
    "# Find median of array included Timestamps\n",
    "def medTimestamps(array):\n",
    "    if len(array) == 1:\n",
    "        return array[0]\n",
    "    else:\n",
    "        if len(array) % 2 == 0:\n",
    "            delta = array[int(len(array)/2)] - array[int(len(array)/2-1)]\n",
    "            median = pd.Timestamp(array[int(len(array)/2-1)] + delta)\n",
    "        else:\n",
    "            time = pd.Timestamp(array[int(len(array)/2)]).time()\n",
    "            ser = pd.Series(array)\n",
    "            date = pd.Timestamp.fromordinal(int(ser.apply(lambda x: pd.to_datetime(x).toordinal()).median(skipna=True))).date()\n",
    "            median = pd.Timestamp.combine(date,time)     \n",
    "        return median\n",
    "\n",
    "# Create database of locations\n",
    "POI = pd.DataFrame(columns=['location_id', 'user_id', 'lat', 'lon', 'visit_time'])\n",
    "threshold = np.timedelta64(6, 'h')\n",
    "\n",
    "for i,g in clean_data.groupby(by='cluster_num'):\n",
    "    l = {}\n",
    "    l['location_id'] = randint(100000,999999)\n",
    "    l['lat'] = g.cent_lat.unique()[0]\n",
    "    l['lon'] = g.cent_lon.unique()[0]\n",
    "    \n",
    "    for u in g.owner.unique():\n",
    "        l['user_id'] = u\n",
    "        taken = g.loc[g.owner == u, 'taken'].sort_values()\n",
    "        t_indices = taken.keys()\n",
    "        t_values = taken.values\n",
    "        visit_times = []\n",
    "        \n",
    "        if len(t_values) == 1:\n",
    "            l['visit_time'] = pd.Timestamp(t_values[0])\n",
    "            POI = POI.append(l, ignore_index=True)\n",
    "        \n",
    "        else:\n",
    "            for t in range(1, len(t_values)):\n",
    "                if t_values[t]-t_values[t-1] < threshold:\n",
    "                    visit_times.append(t_values[t-1])\n",
    "                else:\n",
    "                    visit_times.append(t_values[t-1])\n",
    "                    l['visit_time'] = medTimestamps(visit_times)\n",
    "                    POI = POI.append(l, ignore_index=True)\n",
    "                    visit_times = []\n",
    "\n",
    "display(POI.head(10))"
   ]
  },
  {
   "cell_type": "markdown",
   "metadata": {},
   "source": [
    "<span id=\"model\"></span>\n",
    "# Recommendation Model\n",
    "---\n",
    "The <code>POI</code> dataset including contextual factors is imported. This dataset is assumed as <code>LPD</code>, Location Profile Dataframe. For making recommendation model, only tourists who have visited at least 4 distinct locations were selected. Data then is split into training data and test data. "
   ]
  },
  {
   "cell_type": "code",
   "execution_count": 28,
   "metadata": {
    "_kg_hide-input": true
   },
   "outputs": [
    {
     "data": {
      "text/html": [
       "<div>\n",
       "<style scoped>\n",
       "    .dataframe tbody tr th:only-of-type {\n",
       "        vertical-align: middle;\n",
       "    }\n",
       "\n",
       "    .dataframe tbody tr th {\n",
       "        vertical-align: top;\n",
       "    }\n",
       "\n",
       "    .dataframe thead th {\n",
       "        text-align: right;\n",
       "    }\n",
       "</style>\n",
       "<table border=\"1\" class=\"dataframe\">\n",
       "  <thead>\n",
       "    <tr style=\"text-align: right;\">\n",
       "      <th></th>\n",
       "      <th></th>\n",
       "      <th>lat</th>\n",
       "      <th>lon</th>\n",
       "      <th>visit_time</th>\n",
       "    </tr>\n",
       "    <tr>\n",
       "      <th>user_id</th>\n",
       "      <th>location_id</th>\n",
       "      <th></th>\n",
       "      <th></th>\n",
       "      <th></th>\n",
       "    </tr>\n",
       "  </thead>\n",
       "  <tbody>\n",
       "    <tr>\n",
       "      <th rowspan=\"10\" valign=\"top\">41087279@N00</th>\n",
       "      <th>290360</th>\n",
       "      <td>51.523766</td>\n",
       "      <td>-0.076417</td>\n",
       "      <td>2014-02-09 23:05:35</td>\n",
       "    </tr>\n",
       "    <tr>\n",
       "      <th>290360</th>\n",
       "      <td>51.523766</td>\n",
       "      <td>-0.076417</td>\n",
       "      <td>2014-03-14 22:24:02</td>\n",
       "    </tr>\n",
       "    <tr>\n",
       "      <th>290360</th>\n",
       "      <td>51.523766</td>\n",
       "      <td>-0.076417</td>\n",
       "      <td>2014-03-21 23:18:39</td>\n",
       "    </tr>\n",
       "    <tr>\n",
       "      <th>290360</th>\n",
       "      <td>51.523766</td>\n",
       "      <td>-0.076417</td>\n",
       "      <td>2014-05-11 12:48:26</td>\n",
       "    </tr>\n",
       "    <tr>\n",
       "      <th>290360</th>\n",
       "      <td>51.523766</td>\n",
       "      <td>-0.076417</td>\n",
       "      <td>2014-06-16 15:50:27</td>\n",
       "    </tr>\n",
       "    <tr>\n",
       "      <th>290360</th>\n",
       "      <td>51.523766</td>\n",
       "      <td>-0.076417</td>\n",
       "      <td>2014-08-24 20:13:12</td>\n",
       "    </tr>\n",
       "    <tr>\n",
       "      <th>290360</th>\n",
       "      <td>51.523766</td>\n",
       "      <td>-0.076417</td>\n",
       "      <td>2014-08-30 01:44:15</td>\n",
       "    </tr>\n",
       "    <tr>\n",
       "      <th>290360</th>\n",
       "      <td>51.523766</td>\n",
       "      <td>-0.076417</td>\n",
       "      <td>2014-09-24 17:00:31</td>\n",
       "    </tr>\n",
       "    <tr>\n",
       "      <th>290360</th>\n",
       "      <td>51.523766</td>\n",
       "      <td>-0.076417</td>\n",
       "      <td>2014-10-15 10:59:42</td>\n",
       "    </tr>\n",
       "    <tr>\n",
       "      <th>290360</th>\n",
       "      <td>51.523766</td>\n",
       "      <td>-0.076417</td>\n",
       "      <td>2014-10-18 02:36:48</td>\n",
       "    </tr>\n",
       "  </tbody>\n",
       "</table>\n",
       "</div>"
      ],
      "text/plain": [
       "                                lat       lon          visit_time\n",
       "user_id      location_id                                         \n",
       "41087279@N00 290360       51.523766 -0.076417 2014-02-09 23:05:35\n",
       "             290360       51.523766 -0.076417 2014-03-14 22:24:02\n",
       "             290360       51.523766 -0.076417 2014-03-21 23:18:39\n",
       "             290360       51.523766 -0.076417 2014-05-11 12:48:26\n",
       "             290360       51.523766 -0.076417 2014-06-16 15:50:27\n",
       "             290360       51.523766 -0.076417 2014-08-24 20:13:12\n",
       "             290360       51.523766 -0.076417 2014-08-30 01:44:15\n",
       "             290360       51.523766 -0.076417 2014-09-24 17:00:31\n",
       "             290360       51.523766 -0.076417 2014-10-15 10:59:42\n",
       "             290360       51.523766 -0.076417 2014-10-18 02:36:48"
      ]
     },
     "metadata": {},
     "output_type": "display_data"
    }
   ],
   "source": [
    "# Path of file to read\n",
    "# prefiltered_file_path = f'./prefiltered.csv'\n",
    "\n",
    "# Change data types\n",
    "# data_type = {\n",
    "#     'faves': 'float16',\n",
    "#     'lat': 'float32',\n",
    "#     'lon': 'float32',\n",
    "#     'visit_time': 'datetime64'\n",
    "# }\n",
    "\n",
    "# Read csv file and convert it to a Multiindex\n",
    "# LPD = pd.read_csv(prefiltered_file_path, engine='python', sep=',', encoding='utf-8', dtype=data_type, decimal=',')\n",
    "LPD = POI.set_index(keys=['user_id', 'location_id'])\n",
    "display(LPD.head(10))\n",
    "\n",
    "# Split dataset\n",
    "visit_twice = LPD.groupby(level=[0,1])['visit_time'].count()\n",
    "visit_twice = visit_twice[visit_twice>3]\n",
    "mask = LPD.index.isin(visit_twice.index) == True\n",
    "X = LPD[mask]\n",
    "y = X.index.get_level_values(0)\n",
    "X_train, X_test, y_train, y_test = train_test_split(X, y, stratify=y, test_size=0.2, random_state=70)"
   ]
  },
  {
   "cell_type": "markdown",
   "metadata": {},
   "source": [
    "## Creating User-Location Matrix\n",
    "To create rating matrix, we need to know the number of times when each user has visited different venues. Ratings is also normilized by the min-max normalization method."
   ]
  },
  {
   "cell_type": "code",
   "execution_count": 29,
   "metadata": {},
   "outputs": [
    {
     "data": {
      "text/html": [
       "<div>\n",
       "<style scoped>\n",
       "    .dataframe tbody tr th:only-of-type {\n",
       "        vertical-align: middle;\n",
       "    }\n",
       "\n",
       "    .dataframe tbody tr th {\n",
       "        vertical-align: top;\n",
       "    }\n",
       "\n",
       "    .dataframe thead th {\n",
       "        text-align: right;\n",
       "    }\n",
       "</style>\n",
       "<table border=\"1\" class=\"dataframe\">\n",
       "  <thead>\n",
       "    <tr style=\"text-align: right;\">\n",
       "      <th></th>\n",
       "      <th>location_id</th>\n",
       "      <th>user_id</th>\n",
       "      <th>rating</th>\n",
       "    </tr>\n",
       "  </thead>\n",
       "  <tbody>\n",
       "    <tr>\n",
       "      <th>0</th>\n",
       "      <td>148526</td>\n",
       "      <td>107026173@N05</td>\n",
       "      <td>3</td>\n",
       "    </tr>\n",
       "    <tr>\n",
       "      <th>1</th>\n",
       "      <td>148526</td>\n",
       "      <td>110405086@N05</td>\n",
       "      <td>3</td>\n",
       "    </tr>\n",
       "    <tr>\n",
       "      <th>2</th>\n",
       "      <td>148526</td>\n",
       "      <td>11200205@N02</td>\n",
       "      <td>6</td>\n",
       "    </tr>\n",
       "    <tr>\n",
       "      <th>3</th>\n",
       "      <td>148526</td>\n",
       "      <td>115168634@N05</td>\n",
       "      <td>3</td>\n",
       "    </tr>\n",
       "    <tr>\n",
       "      <th>4</th>\n",
       "      <td>148526</td>\n",
       "      <td>124483065@N03</td>\n",
       "      <td>3</td>\n",
       "    </tr>\n",
       "    <tr>\n",
       "      <th>5</th>\n",
       "      <td>148526</td>\n",
       "      <td>133876835@N08</td>\n",
       "      <td>3</td>\n",
       "    </tr>\n",
       "    <tr>\n",
       "      <th>6</th>\n",
       "      <td>148526</td>\n",
       "      <td>136315829@N03</td>\n",
       "      <td>3</td>\n",
       "    </tr>\n",
       "    <tr>\n",
       "      <th>7</th>\n",
       "      <td>148526</td>\n",
       "      <td>13816725@N04</td>\n",
       "      <td>4</td>\n",
       "    </tr>\n",
       "    <tr>\n",
       "      <th>8</th>\n",
       "      <td>148526</td>\n",
       "      <td>141330063@N03</td>\n",
       "      <td>4</td>\n",
       "    </tr>\n",
       "    <tr>\n",
       "      <th>9</th>\n",
       "      <td>148526</td>\n",
       "      <td>141443760@N06</td>\n",
       "      <td>4</td>\n",
       "    </tr>\n",
       "  </tbody>\n",
       "</table>\n",
       "</div>"
      ],
      "text/plain": [
       "   location_id        user_id  rating\n",
       "0       148526  107026173@N05       3\n",
       "1       148526  110405086@N05       3\n",
       "2       148526   11200205@N02       6\n",
       "3       148526  115168634@N05       3\n",
       "4       148526  124483065@N03       3\n",
       "5       148526  133876835@N08       3\n",
       "6       148526  136315829@N03       3\n",
       "7       148526   13816725@N04       4\n",
       "8       148526  141330063@N03       4\n",
       "9       148526  141443760@N06       4"
      ]
     },
     "execution_count": 29,
     "metadata": {},
     "output_type": "execute_result"
    }
   ],
   "source": [
    "# Find ratings\n",
    "train_rating = X_train.groupby(['location_id','user_id'])['visit_time'].count().reset_index(name='rating')\n",
    "train_rating.head(10)"
   ]
  },
  {
   "cell_type": "code",
   "execution_count": 30,
   "metadata": {
    "_kg_hide-input": false,
    "_kg_hide-output": false
   },
   "outputs": [
    {
     "data": {
      "text/html": [
       "<div>\n",
       "<style scoped>\n",
       "    .dataframe tbody tr th:only-of-type {\n",
       "        vertical-align: middle;\n",
       "    }\n",
       "\n",
       "    .dataframe tbody tr th {\n",
       "        vertical-align: top;\n",
       "    }\n",
       "\n",
       "    .dataframe thead th {\n",
       "        text-align: right;\n",
       "    }\n",
       "</style>\n",
       "<table border=\"1\" class=\"dataframe\">\n",
       "  <thead>\n",
       "    <tr style=\"text-align: right;\">\n",
       "      <th>location_id</th>\n",
       "      <th>148526</th>\n",
       "      <th>175122</th>\n",
       "      <th>290360</th>\n",
       "      <th>322960</th>\n",
       "      <th>340215</th>\n",
       "      <th>390609</th>\n",
       "      <th>413307</th>\n",
       "      <th>428653</th>\n",
       "      <th>446461</th>\n",
       "      <th>484510</th>\n",
       "      <th>...</th>\n",
       "      <th>568004</th>\n",
       "      <th>585726</th>\n",
       "      <th>587892</th>\n",
       "      <th>672362</th>\n",
       "      <th>675139</th>\n",
       "      <th>680638</th>\n",
       "      <th>742516</th>\n",
       "      <th>877042</th>\n",
       "      <th>974912</th>\n",
       "      <th>992183</th>\n",
       "    </tr>\n",
       "    <tr>\n",
       "      <th>user_id</th>\n",
       "      <th></th>\n",
       "      <th></th>\n",
       "      <th></th>\n",
       "      <th></th>\n",
       "      <th></th>\n",
       "      <th></th>\n",
       "      <th></th>\n",
       "      <th></th>\n",
       "      <th></th>\n",
       "      <th></th>\n",
       "      <th></th>\n",
       "      <th></th>\n",
       "      <th></th>\n",
       "      <th></th>\n",
       "      <th></th>\n",
       "      <th></th>\n",
       "      <th></th>\n",
       "      <th></th>\n",
       "      <th></th>\n",
       "      <th></th>\n",
       "      <th></th>\n",
       "    </tr>\n",
       "  </thead>\n",
       "  <tbody>\n",
       "    <tr>\n",
       "      <th>107026173@N05</th>\n",
       "      <td>1.000000</td>\n",
       "      <td>0.0</td>\n",
       "      <td>0</td>\n",
       "      <td>0.0</td>\n",
       "      <td>0.0</td>\n",
       "      <td>0.0</td>\n",
       "      <td>0</td>\n",
       "      <td>0.0</td>\n",
       "      <td>0.0</td>\n",
       "      <td>0</td>\n",
       "      <td>...</td>\n",
       "      <td>0.0</td>\n",
       "      <td>0.0</td>\n",
       "      <td>0.0</td>\n",
       "      <td>0.0</td>\n",
       "      <td>0.0</td>\n",
       "      <td>0.0</td>\n",
       "      <td>0.0</td>\n",
       "      <td>0.0</td>\n",
       "      <td>0.0</td>\n",
       "      <td>0.0</td>\n",
       "    </tr>\n",
       "    <tr>\n",
       "      <th>110405086@N05</th>\n",
       "      <td>1.000000</td>\n",
       "      <td>0.0</td>\n",
       "      <td>0</td>\n",
       "      <td>0.0</td>\n",
       "      <td>0.0</td>\n",
       "      <td>0.0</td>\n",
       "      <td>0</td>\n",
       "      <td>0.0</td>\n",
       "      <td>0.0</td>\n",
       "      <td>0</td>\n",
       "      <td>...</td>\n",
       "      <td>0.0</td>\n",
       "      <td>0.0</td>\n",
       "      <td>0.0</td>\n",
       "      <td>0.0</td>\n",
       "      <td>0.0</td>\n",
       "      <td>0.0</td>\n",
       "      <td>0.0</td>\n",
       "      <td>0.0</td>\n",
       "      <td>0.0</td>\n",
       "      <td>0.0</td>\n",
       "    </tr>\n",
       "    <tr>\n",
       "      <th>11200205@N02</th>\n",
       "      <td>1.363636</td>\n",
       "      <td>0.0</td>\n",
       "      <td>0</td>\n",
       "      <td>0.0</td>\n",
       "      <td>0.0</td>\n",
       "      <td>0.0</td>\n",
       "      <td>0</td>\n",
       "      <td>0.0</td>\n",
       "      <td>0.0</td>\n",
       "      <td>0</td>\n",
       "      <td>...</td>\n",
       "      <td>0.0</td>\n",
       "      <td>0.0</td>\n",
       "      <td>0.0</td>\n",
       "      <td>0.0</td>\n",
       "      <td>0.0</td>\n",
       "      <td>0.0</td>\n",
       "      <td>0.0</td>\n",
       "      <td>0.0</td>\n",
       "      <td>0.0</td>\n",
       "      <td>0.0</td>\n",
       "    </tr>\n",
       "    <tr>\n",
       "      <th>115168634@N05</th>\n",
       "      <td>1.000000</td>\n",
       "      <td>0.0</td>\n",
       "      <td>0</td>\n",
       "      <td>0.0</td>\n",
       "      <td>0.0</td>\n",
       "      <td>0.0</td>\n",
       "      <td>0</td>\n",
       "      <td>0.0</td>\n",
       "      <td>0.0</td>\n",
       "      <td>0</td>\n",
       "      <td>...</td>\n",
       "      <td>0.0</td>\n",
       "      <td>0.0</td>\n",
       "      <td>0.0</td>\n",
       "      <td>0.0</td>\n",
       "      <td>0.0</td>\n",
       "      <td>0.0</td>\n",
       "      <td>0.0</td>\n",
       "      <td>0.0</td>\n",
       "      <td>0.0</td>\n",
       "      <td>0.0</td>\n",
       "    </tr>\n",
       "    <tr>\n",
       "      <th>124483065@N03</th>\n",
       "      <td>1.000000</td>\n",
       "      <td>0.0</td>\n",
       "      <td>0</td>\n",
       "      <td>0.0</td>\n",
       "      <td>0.0</td>\n",
       "      <td>0.0</td>\n",
       "      <td>0</td>\n",
       "      <td>0.0</td>\n",
       "      <td>0.0</td>\n",
       "      <td>0</td>\n",
       "      <td>...</td>\n",
       "      <td>0.0</td>\n",
       "      <td>0.0</td>\n",
       "      <td>0.0</td>\n",
       "      <td>0.0</td>\n",
       "      <td>0.0</td>\n",
       "      <td>0.0</td>\n",
       "      <td>0.0</td>\n",
       "      <td>0.0</td>\n",
       "      <td>0.0</td>\n",
       "      <td>0.0</td>\n",
       "    </tr>\n",
       "  </tbody>\n",
       "</table>\n",
       "<p>5 rows × 22 columns</p>\n",
       "</div>"
      ],
      "text/plain": [
       "location_id      148526  175122  290360  322960  340215  390609  413307  \\\n",
       "user_id                                                                   \n",
       "107026173@N05  1.000000     0.0       0     0.0     0.0     0.0       0   \n",
       "110405086@N05  1.000000     0.0       0     0.0     0.0     0.0       0   \n",
       "11200205@N02   1.363636     0.0       0     0.0     0.0     0.0       0   \n",
       "115168634@N05  1.000000     0.0       0     0.0     0.0     0.0       0   \n",
       "124483065@N03  1.000000     0.0       0     0.0     0.0     0.0       0   \n",
       "\n",
       "location_id    428653  446461  484510  ...  568004  585726  587892  672362  \\\n",
       "user_id                                ...                                   \n",
       "107026173@N05     0.0     0.0       0  ...     0.0     0.0     0.0     0.0   \n",
       "110405086@N05     0.0     0.0       0  ...     0.0     0.0     0.0     0.0   \n",
       "11200205@N02      0.0     0.0       0  ...     0.0     0.0     0.0     0.0   \n",
       "115168634@N05     0.0     0.0       0  ...     0.0     0.0     0.0     0.0   \n",
       "124483065@N03     0.0     0.0       0  ...     0.0     0.0     0.0     0.0   \n",
       "\n",
       "location_id    675139  680638  742516  877042  974912  992183  \n",
       "user_id                                                        \n",
       "107026173@N05     0.0     0.0     0.0     0.0     0.0     0.0  \n",
       "110405086@N05     0.0     0.0     0.0     0.0     0.0     0.0  \n",
       "11200205@N02      0.0     0.0     0.0     0.0     0.0     0.0  \n",
       "115168634@N05     0.0     0.0     0.0     0.0     0.0     0.0  \n",
       "124483065@N03     0.0     0.0     0.0     0.0     0.0     0.0  \n",
       "\n",
       "[5 rows x 22 columns]"
      ]
     },
     "metadata": {},
     "output_type": "display_data"
    },
    {
     "name": "stdout",
     "output_type": "stream",
     "text": [
      "The sparcity percentage of matrix is %95.0\n"
     ]
    }
   ],
   "source": [
    "def normalize(df):\n",
    "    # Normalize number of visit into a range of 1 to 5\n",
    "    df['rating'] = minmax_scale(df.rating, feature_range=[1,5])\n",
    "    return df\n",
    "\n",
    "r_df = normalize(train_rating)\n",
    "\n",
    "# Create a rating matrix\n",
    "r_df = train_rating.pivot_table(\n",
    "    index='user_id', \n",
    "    columns='location_id', \n",
    "    values='rating', \n",
    "    fill_value=0\n",
    ")\n",
    "    \n",
    "# Calculate the sparcity percentage of matrix\n",
    "def calSparcity(m):\n",
    "    m = m.fillna(0)\n",
    "    non_zeros = np.count_nonzero(m)/np.prod(m.shape) * 100\n",
    "    sparcity = 100 - non_zeros\n",
    "    print(f'The sparcity percentage of matrix is %{round(sparcity,2)}')\n",
    "\n",
    "display(r_df.head())\n",
    "calSparcity(r_df)"
   ]
  },
  {
   "cell_type": "markdown",
   "metadata": {},
   "source": [
    "In the next step, the user similarity should be calculated. According to the asymmetric similarity concept:\n",
    "> Most of the traditional similarity metrics assign equal value for the similarity relation between two users, This means, these methods are based on the assumption that $sim(u,v) = sim(v,u)$. Traditional methods cannot differentiate between these two users. However based on asymmetric similarity user $u$ is similar to user $v$, but not vice versa [[1]](http://dx.doi.org/10.1016/j.knosys.2015.03.006).\n",
    "\n",
    "The user's similarity based on an asymmetric cosine similarity proposed by [Pirasteh et al [1]](http://dx.doi.org/10.1016/j.knosys.2015.03.006) is as follow:\n",
    "<br><br>\n",
    "\\begin{equation}\n",
    "ACOS(u,v)=\\frac{\\overrightarrow{r_1}.\\overrightarrow{r_2}}{||\\overrightarrow{r_1}||.||\\overrightarrow{r_2}||}.\\frac{|u \\cap v|}{|u|}.\\frac{2*|u \\cap v|}{|u| + |v|}\n",
    "\\end{equation}\n",
    "<br>\n",
    "In case of having same numbers of items/venues rated by both users, the $ACOS(u_1,u_2)$ will be equal to $ACOS(u_2,u_1)$. So to address this problem a weighted user's influence coefficient is suggested.<br><br>\n",
    "\\begin{equation}\n",
    "\\bar{r_{u}} = \\frac{\\sum_{j=1}^{n}r_{i,j}}{n_i}\n",
    "\\end{equation}\n",
    "<br>\n",
    "\\begin{equation}\n",
    "r_{u}^\\prime = \n",
    "    \\begin{cases}\n",
    "    1, \\qquad if \\quad r_u \\geq \\bar{r_{u}} \\\\\n",
    "    0, \\qquad otherwise\n",
    "    \\end{cases}\n",
    "\\end{equation}\n",
    "<br>\n",
    "\\begin{equation}\n",
    "W_{u,v}^\\prime = \\frac{\\sum_{i=1}^{n} r_{u,i}^\\prime \\times r_{v,i}^\\prime}{\\sum_{i=1}^{n} r_{v,i}^\\prime}\n",
    "\\end{equation}\n",
    "<br><br>\n",
    "We propose an extended version of $ACOS(u,v)$:\n",
    "<br><br>\n",
    "\\begin{equation}\n",
    "ACOS(u,v)=\\frac{\\overrightarrow{r_u}.\\overrightarrow{r_v}}{||\\overrightarrow{r_u}||.||\\overrightarrow{r_v}||}.\\frac{|u \\cap v|}{|u|}.\\frac{2*|u \\cap v|}{|u| + |v|}.\\frac{\\sum_{i=1}^{n} r_{u,i}^\\prime \\times r_{v,i}^\\prime}{\\sum_{i=1}^{n} r_{v,i}^\\prime}\n",
    "\\end{equation}\n",
    "<br><br>"
   ]
  },
  {
   "cell_type": "markdown",
   "metadata": {},
   "source": [
    "### Creating User-User Similarity Matrix\n",
    "Now let's create the user-user similarity matrix."
   ]
  },
  {
   "cell_type": "code",
   "execution_count": 31,
   "metadata": {},
   "outputs": [
    {
     "data": {
      "text/html": [
       "<div>\n",
       "<style scoped>\n",
       "    .dataframe tbody tr th:only-of-type {\n",
       "        vertical-align: middle;\n",
       "    }\n",
       "\n",
       "    .dataframe tbody tr th {\n",
       "        vertical-align: top;\n",
       "    }\n",
       "\n",
       "    .dataframe thead th {\n",
       "        text-align: right;\n",
       "    }\n",
       "</style>\n",
       "<table border=\"1\" class=\"dataframe\">\n",
       "  <thead>\n",
       "    <tr style=\"text-align: right;\">\n",
       "      <th>user_id</th>\n",
       "      <th>107026173@N05</th>\n",
       "      <th>110405086@N05</th>\n",
       "      <th>11200205@N02</th>\n",
       "      <th>115168634@N05</th>\n",
       "      <th>124483065@N03</th>\n",
       "      <th>133876835@N08</th>\n",
       "      <th>136315829@N03</th>\n",
       "      <th>13816725@N04</th>\n",
       "      <th>141330063@N03</th>\n",
       "      <th>141443760@N06</th>\n",
       "      <th>...</th>\n",
       "      <th>7344912@N05</th>\n",
       "      <th>74925381@N03</th>\n",
       "      <th>75374243@N00</th>\n",
       "      <th>79986881@N00</th>\n",
       "      <th>81065266@N00</th>\n",
       "      <th>87402959@N02</th>\n",
       "      <th>89313125@N00</th>\n",
       "      <th>8952616@N07</th>\n",
       "      <th>95419715@N08</th>\n",
       "      <th>95665996@N03</th>\n",
       "    </tr>\n",
       "    <tr>\n",
       "      <th>user_id</th>\n",
       "      <th></th>\n",
       "      <th></th>\n",
       "      <th></th>\n",
       "      <th></th>\n",
       "      <th></th>\n",
       "      <th></th>\n",
       "      <th></th>\n",
       "      <th></th>\n",
       "      <th></th>\n",
       "      <th></th>\n",
       "      <th></th>\n",
       "      <th></th>\n",
       "      <th></th>\n",
       "      <th></th>\n",
       "      <th></th>\n",
       "      <th></th>\n",
       "      <th></th>\n",
       "      <th></th>\n",
       "      <th></th>\n",
       "      <th></th>\n",
       "      <th></th>\n",
       "    </tr>\n",
       "  </thead>\n",
       "  <tbody>\n",
       "    <tr>\n",
       "      <th>107026173@N05</th>\n",
       "      <td>1.0</td>\n",
       "      <td>1.0</td>\n",
       "      <td>1.0</td>\n",
       "      <td>1.0</td>\n",
       "      <td>1.0</td>\n",
       "      <td>1.0</td>\n",
       "      <td>1.0</td>\n",
       "      <td>1.0</td>\n",
       "      <td>1.0</td>\n",
       "      <td>1.0</td>\n",
       "      <td>...</td>\n",
       "      <td>0.0</td>\n",
       "      <td>1.0</td>\n",
       "      <td>0.0</td>\n",
       "      <td>1.0</td>\n",
       "      <td>1.0</td>\n",
       "      <td>1.0</td>\n",
       "      <td>0.0</td>\n",
       "      <td>1.0</td>\n",
       "      <td>1.0</td>\n",
       "      <td>0.0</td>\n",
       "    </tr>\n",
       "    <tr>\n",
       "      <th>110405086@N05</th>\n",
       "      <td>1.0</td>\n",
       "      <td>1.0</td>\n",
       "      <td>1.0</td>\n",
       "      <td>1.0</td>\n",
       "      <td>1.0</td>\n",
       "      <td>1.0</td>\n",
       "      <td>1.0</td>\n",
       "      <td>1.0</td>\n",
       "      <td>1.0</td>\n",
       "      <td>1.0</td>\n",
       "      <td>...</td>\n",
       "      <td>0.0</td>\n",
       "      <td>1.0</td>\n",
       "      <td>0.0</td>\n",
       "      <td>1.0</td>\n",
       "      <td>1.0</td>\n",
       "      <td>1.0</td>\n",
       "      <td>0.0</td>\n",
       "      <td>1.0</td>\n",
       "      <td>1.0</td>\n",
       "      <td>0.0</td>\n",
       "    </tr>\n",
       "    <tr>\n",
       "      <th>11200205@N02</th>\n",
       "      <td>1.0</td>\n",
       "      <td>1.0</td>\n",
       "      <td>1.0</td>\n",
       "      <td>1.0</td>\n",
       "      <td>1.0</td>\n",
       "      <td>1.0</td>\n",
       "      <td>1.0</td>\n",
       "      <td>1.0</td>\n",
       "      <td>1.0</td>\n",
       "      <td>1.0</td>\n",
       "      <td>...</td>\n",
       "      <td>0.0</td>\n",
       "      <td>1.0</td>\n",
       "      <td>0.0</td>\n",
       "      <td>1.0</td>\n",
       "      <td>1.0</td>\n",
       "      <td>1.0</td>\n",
       "      <td>0.0</td>\n",
       "      <td>1.0</td>\n",
       "      <td>1.0</td>\n",
       "      <td>0.0</td>\n",
       "    </tr>\n",
       "    <tr>\n",
       "      <th>115168634@N05</th>\n",
       "      <td>1.0</td>\n",
       "      <td>1.0</td>\n",
       "      <td>1.0</td>\n",
       "      <td>1.0</td>\n",
       "      <td>1.0</td>\n",
       "      <td>1.0</td>\n",
       "      <td>1.0</td>\n",
       "      <td>1.0</td>\n",
       "      <td>1.0</td>\n",
       "      <td>1.0</td>\n",
       "      <td>...</td>\n",
       "      <td>0.0</td>\n",
       "      <td>1.0</td>\n",
       "      <td>0.0</td>\n",
       "      <td>1.0</td>\n",
       "      <td>1.0</td>\n",
       "      <td>1.0</td>\n",
       "      <td>0.0</td>\n",
       "      <td>1.0</td>\n",
       "      <td>1.0</td>\n",
       "      <td>0.0</td>\n",
       "    </tr>\n",
       "    <tr>\n",
       "      <th>124483065@N03</th>\n",
       "      <td>1.0</td>\n",
       "      <td>1.0</td>\n",
       "      <td>1.0</td>\n",
       "      <td>1.0</td>\n",
       "      <td>1.0</td>\n",
       "      <td>1.0</td>\n",
       "      <td>1.0</td>\n",
       "      <td>1.0</td>\n",
       "      <td>1.0</td>\n",
       "      <td>1.0</td>\n",
       "      <td>...</td>\n",
       "      <td>0.0</td>\n",
       "      <td>1.0</td>\n",
       "      <td>0.0</td>\n",
       "      <td>1.0</td>\n",
       "      <td>1.0</td>\n",
       "      <td>1.0</td>\n",
       "      <td>0.0</td>\n",
       "      <td>1.0</td>\n",
       "      <td>1.0</td>\n",
       "      <td>0.0</td>\n",
       "    </tr>\n",
       "  </tbody>\n",
       "</table>\n",
       "<p>5 rows × 60 columns</p>\n",
       "</div>"
      ],
      "text/plain": [
       "user_id        107026173@N05  110405086@N05  11200205@N02  115168634@N05  \\\n",
       "user_id                                                                    \n",
       "107026173@N05            1.0            1.0           1.0            1.0   \n",
       "110405086@N05            1.0            1.0           1.0            1.0   \n",
       "11200205@N02             1.0            1.0           1.0            1.0   \n",
       "115168634@N05            1.0            1.0           1.0            1.0   \n",
       "124483065@N03            1.0            1.0           1.0            1.0   \n",
       "\n",
       "user_id        124483065@N03  133876835@N08  136315829@N03  13816725@N04  \\\n",
       "user_id                                                                    \n",
       "107026173@N05            1.0            1.0            1.0           1.0   \n",
       "110405086@N05            1.0            1.0            1.0           1.0   \n",
       "11200205@N02             1.0            1.0            1.0           1.0   \n",
       "115168634@N05            1.0            1.0            1.0           1.0   \n",
       "124483065@N03            1.0            1.0            1.0           1.0   \n",
       "\n",
       "user_id        141330063@N03  141443760@N06  ...  7344912@N05  74925381@N03  \\\n",
       "user_id                                      ...                              \n",
       "107026173@N05            1.0            1.0  ...          0.0           1.0   \n",
       "110405086@N05            1.0            1.0  ...          0.0           1.0   \n",
       "11200205@N02             1.0            1.0  ...          0.0           1.0   \n",
       "115168634@N05            1.0            1.0  ...          0.0           1.0   \n",
       "124483065@N03            1.0            1.0  ...          0.0           1.0   \n",
       "\n",
       "user_id        75374243@N00  79986881@N00  81065266@N00  87402959@N02  \\\n",
       "user_id                                                                 \n",
       "107026173@N05           0.0           1.0           1.0           1.0   \n",
       "110405086@N05           0.0           1.0           1.0           1.0   \n",
       "11200205@N02            0.0           1.0           1.0           1.0   \n",
       "115168634@N05           0.0           1.0           1.0           1.0   \n",
       "124483065@N03           0.0           1.0           1.0           1.0   \n",
       "\n",
       "user_id        89313125@N00  8952616@N07  95419715@N08  95665996@N03  \n",
       "user_id                                                               \n",
       "107026173@N05           0.0          1.0           1.0           0.0  \n",
       "110405086@N05           0.0          1.0           1.0           0.0  \n",
       "11200205@N02            0.0          1.0           1.0           0.0  \n",
       "115168634@N05           0.0          1.0           1.0           0.0  \n",
       "124483065@N03           0.0          1.0           1.0           0.0  \n",
       "\n",
       "[5 rows x 60 columns]"
      ]
     },
     "metadata": {},
     "output_type": "display_data"
    },
    {
     "name": "stdout",
     "output_type": "stream",
     "text": [
      "The sparcity percentage of matrix is %50.44\n"
     ]
    }
   ],
   "source": [
    "# Create user-user similarity matrix\n",
    "def improved_asym_cosine(m, mf=False,**kwarg):\n",
    "    # Cosine similarity matrix distance\n",
    "    cosine = cosine_similarity(m)\n",
    "\n",
    "    # Asymmetric coefficient\n",
    "    def asymCo(X,Y):\n",
    "        co_rated_item = np.intersect1d(np.nonzero(X),np.nonzero(Y)).size\n",
    "        coeff = co_rated_item / np.count_nonzero(X)\n",
    "        return coeff\n",
    "    asym_ind = pairwise_distances(m, metric=asymCo)\n",
    "\n",
    "    # Sorensen similarity matrix distance\n",
    "    sorensen = 1 - pairwise_distances(np.array(m, dtype=bool), metric='dice')\n",
    "\n",
    "    # User influence coefficient\n",
    "    def usrInfCo(m):\n",
    "        binary = m.transform(lambda x: x >= x[x!=0].mean(), axis=1)*1\n",
    "        res = pairwise_distances(binary, metric=lambda x,y: (x*y).sum()/y.sum() if y.sum()!=0 else 0)\n",
    "        return res       \n",
    "    usr_inf_ind = usrInfCo(m)\n",
    "\n",
    "    similarity_matrix = np.multiply(np.multiply(cosine,asym_ind),np.multiply(sorensen,usr_inf_ind))\n",
    "\n",
    "    usim = pd.DataFrame(similarity_matrix, m.index, m.index)\n",
    "    \n",
    "    # Check if matrix factorization was True\n",
    "    if mf:\n",
    "        # Binary similarity matrix\n",
    "        binary = np.invert(usim.values.astype(bool))*1\n",
    "        model = NMF(**kwarg)\n",
    "        W = model.fit_transform(usim)\n",
    "        H = model.components_\n",
    "        factorized_usim = np.dot(W,H)*binary + usim\n",
    "        usim = pd.DataFrame(factorized_usim, m.index, m.index)\n",
    "                \n",
    "    return usim\n",
    "\n",
    "s_df = improved_asym_cosine(r_df)\n",
    "display(s_df.head())\n",
    "calSparcity(s_df)"
   ]
  },
  {
   "cell_type": "markdown",
   "metadata": {},
   "source": [
    "### Creating Context-Location Matrix\n",
    "The matrix below shows the number of visits from venues in various contexts. For example, a venue has been visited 3 times in the context <code>(1,1,9)</code> which [according to the discription of dataset](http://www.kaggle.com/amiralisa/flickr_london#readme.txt), means this context is equal to:\n",
    "\n",
    "* season: spring\n",
    "* daytime: partly-cloudy-day\n",
    "* weather: day\n",
    "<br><br>\n",
    "We use a method based on TF-IDF to find the visit probability of locations [[2]](https://www.researchgate.net/publication/309541764_Context-Aware_Location_Recommendation_Using_Geotagged_Photos_in_Social_Media).\n",
    "<br><br>\n",
    "> We use the term frequency-inverse document frequency (TF-IDF) measure to compute the usage of a location in a specific situation $w_l^c$. TF-IDF is used in the field of information retrieval to measure how important a word is to a document in a collection or corpus. It increases proportionally with the number of times a word appears in the document, is offset by the frequency of the word in the corpus [[2]](https://www.researchgate.net/publication/309541764_Context-Aware_Location_Recommendation_Using_Geotagged_Photos_in_Social_Media).\n",
    "<br><br>\n",
    "\n",
    "\\begin{equation}\n",
    "w_l^c = TF_l \\times IDF_l = \\frac{N_{c,l}}{N_{c,\\oslash}} \\times \\log\\frac{N_{\\oslash,\\oslash}}{N_{\\oslash,l}}\n",
    "\\end{equation}\n",
    "<br><br>\n",
    "$N_{c,l}$ is the number of visits in context $c$ that visited location $l$. $N_{c,\\oslash}$ shows the number of visits to all locations in the context $c$. $N_{\\oslash,\\oslash}$ is the total number of visits to all locations, and $N_{\\oslash,l}$ represents the total number of visits to the location $l$."
   ]
  },
  {
   "cell_type": "code",
   "execution_count": 15,
   "metadata": {},
   "outputs": [
    {
     "data": {
      "text/html": [
       "<div>\n",
       "<style scoped>\n",
       "    .dataframe tbody tr th:only-of-type {\n",
       "        vertical-align: middle;\n",
       "    }\n",
       "\n",
       "    .dataframe tbody tr th {\n",
       "        vertical-align: top;\n",
       "    }\n",
       "\n",
       "    .dataframe thead th {\n",
       "        text-align: right;\n",
       "    }\n",
       "</style>\n",
       "<table border=\"1\" class=\"dataframe\">\n",
       "  <thead>\n",
       "    <tr style=\"text-align: right;\">\n",
       "      <th>location_id</th>\n",
       "      <th>140662</th>\n",
       "      <th>165202</th>\n",
       "      <th>185565</th>\n",
       "      <th>186890</th>\n",
       "      <th>220206</th>\n",
       "      <th>299823</th>\n",
       "      <th>330684</th>\n",
       "      <th>335960</th>\n",
       "      <th>422774</th>\n",
       "      <th>505088</th>\n",
       "      <th>...</th>\n",
       "      <th>594032</th>\n",
       "      <th>594659</th>\n",
       "      <th>606447</th>\n",
       "      <th>615127</th>\n",
       "      <th>675366</th>\n",
       "      <th>721771</th>\n",
       "      <th>767961</th>\n",
       "      <th>784986</th>\n",
       "      <th>934575</th>\n",
       "      <th>950630</th>\n",
       "    </tr>\n",
       "    <tr>\n",
       "      <th>context</th>\n",
       "      <th></th>\n",
       "      <th></th>\n",
       "      <th></th>\n",
       "      <th></th>\n",
       "      <th></th>\n",
       "      <th></th>\n",
       "      <th></th>\n",
       "      <th></th>\n",
       "      <th></th>\n",
       "      <th></th>\n",
       "      <th></th>\n",
       "      <th></th>\n",
       "      <th></th>\n",
       "      <th></th>\n",
       "      <th></th>\n",
       "      <th></th>\n",
       "      <th></th>\n",
       "      <th></th>\n",
       "      <th></th>\n",
       "      <th></th>\n",
       "      <th></th>\n",
       "    </tr>\n",
       "  </thead>\n",
       "  <tbody>\n",
       "    <tr>\n",
       "      <td>(1, 1, 1)</td>\n",
       "      <td>0.000000</td>\n",
       "      <td>0.0</td>\n",
       "      <td>0.113734</td>\n",
       "      <td>0.0</td>\n",
       "      <td>0.0</td>\n",
       "      <td>0.146529</td>\n",
       "      <td>0.164374</td>\n",
       "      <td>0.300584</td>\n",
       "      <td>0.0</td>\n",
       "      <td>0.000000</td>\n",
       "      <td>...</td>\n",
       "      <td>0.0</td>\n",
       "      <td>0.0</td>\n",
       "      <td>0.164374</td>\n",
       "      <td>0.0</td>\n",
       "      <td>0.000000</td>\n",
       "      <td>0.000000</td>\n",
       "      <td>0.0</td>\n",
       "      <td>0.000000</td>\n",
       "      <td>0.258684</td>\n",
       "      <td>0.00000</td>\n",
       "    </tr>\n",
       "    <tr>\n",
       "      <td>(1, 1, 3)</td>\n",
       "      <td>0.139086</td>\n",
       "      <td>0.0</td>\n",
       "      <td>0.168414</td>\n",
       "      <td>0.0</td>\n",
       "      <td>0.0</td>\n",
       "      <td>0.061993</td>\n",
       "      <td>0.000000</td>\n",
       "      <td>0.000000</td>\n",
       "      <td>0.0</td>\n",
       "      <td>0.000000</td>\n",
       "      <td>...</td>\n",
       "      <td>0.0</td>\n",
       "      <td>0.0</td>\n",
       "      <td>0.000000</td>\n",
       "      <td>0.0</td>\n",
       "      <td>0.170437</td>\n",
       "      <td>0.057965</td>\n",
       "      <td>0.0</td>\n",
       "      <td>0.055734</td>\n",
       "      <td>0.164165</td>\n",
       "      <td>0.00000</td>\n",
       "    </tr>\n",
       "    <tr>\n",
       "      <td>(1, 1, 7)</td>\n",
       "      <td>0.000000</td>\n",
       "      <td>0.0</td>\n",
       "      <td>0.208512</td>\n",
       "      <td>0.0</td>\n",
       "      <td>0.0</td>\n",
       "      <td>0.000000</td>\n",
       "      <td>0.000000</td>\n",
       "      <td>0.000000</td>\n",
       "      <td>0.0</td>\n",
       "      <td>0.000000</td>\n",
       "      <td>...</td>\n",
       "      <td>0.0</td>\n",
       "      <td>0.0</td>\n",
       "      <td>0.000000</td>\n",
       "      <td>0.0</td>\n",
       "      <td>0.000000</td>\n",
       "      <td>0.000000</td>\n",
       "      <td>0.0</td>\n",
       "      <td>0.000000</td>\n",
       "      <td>0.474255</td>\n",
       "      <td>0.00000</td>\n",
       "    </tr>\n",
       "    <tr>\n",
       "      <td>(1, 1, 8)</td>\n",
       "      <td>0.000000</td>\n",
       "      <td>0.0</td>\n",
       "      <td>0.156384</td>\n",
       "      <td>0.0</td>\n",
       "      <td>0.0</td>\n",
       "      <td>0.000000</td>\n",
       "      <td>0.000000</td>\n",
       "      <td>0.000000</td>\n",
       "      <td>0.0</td>\n",
       "      <td>0.000000</td>\n",
       "      <td>...</td>\n",
       "      <td>0.0</td>\n",
       "      <td>0.0</td>\n",
       "      <td>0.000000</td>\n",
       "      <td>0.0</td>\n",
       "      <td>0.000000</td>\n",
       "      <td>0.000000</td>\n",
       "      <td>0.0</td>\n",
       "      <td>0.000000</td>\n",
       "      <td>0.711382</td>\n",
       "      <td>0.00000</td>\n",
       "    </tr>\n",
       "    <tr>\n",
       "      <td>(1, 1, 9)</td>\n",
       "      <td>0.038471</td>\n",
       "      <td>0.0</td>\n",
       "      <td>0.146402</td>\n",
       "      <td>0.0</td>\n",
       "      <td>0.0</td>\n",
       "      <td>0.102882</td>\n",
       "      <td>0.076941</td>\n",
       "      <td>0.035175</td>\n",
       "      <td>0.0</td>\n",
       "      <td>0.093354</td>\n",
       "      <td>...</td>\n",
       "      <td>0.0</td>\n",
       "      <td>0.0</td>\n",
       "      <td>0.000000</td>\n",
       "      <td>0.0</td>\n",
       "      <td>0.031428</td>\n",
       "      <td>0.000000</td>\n",
       "      <td>0.0</td>\n",
       "      <td>0.061664</td>\n",
       "      <td>0.121086</td>\n",
       "      <td>0.04158</td>\n",
       "    </tr>\n",
       "  </tbody>\n",
       "</table>\n",
       "<p>5 rows × 22 columns</p>\n",
       "</div>"
      ],
      "text/plain": [
       "location_id    140662  165202    185565  186890  220206    299823    330684  \\\n",
       "context                                                                       \n",
       "(1, 1, 1)    0.000000     0.0  0.113734     0.0     0.0  0.146529  0.164374   \n",
       "(1, 1, 3)    0.139086     0.0  0.168414     0.0     0.0  0.061993  0.000000   \n",
       "(1, 1, 7)    0.000000     0.0  0.208512     0.0     0.0  0.000000  0.000000   \n",
       "(1, 1, 8)    0.000000     0.0  0.156384     0.0     0.0  0.000000  0.000000   \n",
       "(1, 1, 9)    0.038471     0.0  0.146402     0.0     0.0  0.102882  0.076941   \n",
       "\n",
       "location_id    335960  422774    505088  ...  594032  594659    606447  \\\n",
       "context                                  ...                             \n",
       "(1, 1, 1)    0.300584     0.0  0.000000  ...     0.0     0.0  0.164374   \n",
       "(1, 1, 3)    0.000000     0.0  0.000000  ...     0.0     0.0  0.000000   \n",
       "(1, 1, 7)    0.000000     0.0  0.000000  ...     0.0     0.0  0.000000   \n",
       "(1, 1, 8)    0.000000     0.0  0.000000  ...     0.0     0.0  0.000000   \n",
       "(1, 1, 9)    0.035175     0.0  0.093354  ...     0.0     0.0  0.000000   \n",
       "\n",
       "location_id  615127    675366    721771  767961    784986    934575   950630  \n",
       "context                                                                       \n",
       "(1, 1, 1)       0.0  0.000000  0.000000     0.0  0.000000  0.258684  0.00000  \n",
       "(1, 1, 3)       0.0  0.170437  0.057965     0.0  0.055734  0.164165  0.00000  \n",
       "(1, 1, 7)       0.0  0.000000  0.000000     0.0  0.000000  0.474255  0.00000  \n",
       "(1, 1, 8)       0.0  0.000000  0.000000     0.0  0.000000  0.711382  0.00000  \n",
       "(1, 1, 9)       0.0  0.031428  0.000000     0.0  0.061664  0.121086  0.04158  \n",
       "\n",
       "[5 rows x 22 columns]"
      ]
     },
     "metadata": {},
     "output_type": "display_data"
    },
    {
     "name": "stdout",
     "output_type": "stream",
     "text": [
      "The sparcity percentage of matrix is %82.71\n"
     ]
    }
   ],
   "source": [
    "# Find probability of contexts\n",
    "contexts = X_train.filter(['season','daytime','weather']).apply(lambda x: (x.season,x.daytime,x.weather), axis=1).reset_index(name='context')\n",
    "IF = contexts.groupby(['location_id','context'])['context'].count()/contexts.groupby(['context'])['context'].count()\n",
    "IDF = np.log10(contexts.groupby(['location_id','user_id'])['user_id'].count().sum()/contexts.groupby(['location_id'])['user_id'].count())\n",
    "contexts_weight = (IF * IDF).to_frame().rename(columns={0: 'weight'})\n",
    "\n",
    "# Create a context-location matrix\n",
    "lc_df = contexts_weight.pivot_table(\n",
    "    index='context', \n",
    "    columns='location_id', \n",
    "    values='weight',\n",
    "    fill_value=0\n",
    ")\n",
    "\n",
    "\n",
    "display(lc_df.head())\n",
    "calSparcity(lc_df)"
   ]
  },
  {
   "cell_type": "markdown",
   "metadata": {},
   "source": [
    "### Creating Context-Context Matrix"
   ]
  },
  {
   "cell_type": "code",
   "execution_count": 16,
   "metadata": {},
   "outputs": [
    {
     "data": {
      "text/html": [
       "<div>\n",
       "<style scoped>\n",
       "    .dataframe tbody tr th:only-of-type {\n",
       "        vertical-align: middle;\n",
       "    }\n",
       "\n",
       "    .dataframe tbody tr th {\n",
       "        vertical-align: top;\n",
       "    }\n",
       "\n",
       "    .dataframe thead th {\n",
       "        text-align: right;\n",
       "    }\n",
       "</style>\n",
       "<table border=\"1\" class=\"dataframe\">\n",
       "  <thead>\n",
       "    <tr style=\"text-align: right;\">\n",
       "      <th>context</th>\n",
       "      <th>(1, 1, 1)</th>\n",
       "      <th>(1, 1, 3)</th>\n",
       "      <th>(1, 1, 7)</th>\n",
       "      <th>(1, 1, 8)</th>\n",
       "      <th>(1, 1, 9)</th>\n",
       "      <th>(1, 2, 1)</th>\n",
       "      <th>(1, 2, 3)</th>\n",
       "      <th>(1, 2, 7)</th>\n",
       "      <th>(1, 2, 9)</th>\n",
       "      <th>(1, 3, 1)</th>\n",
       "      <th>...</th>\n",
       "      <th>(4, 1, 1)</th>\n",
       "      <th>(4, 1, 3)</th>\n",
       "      <th>(4, 1, 7)</th>\n",
       "      <th>(4, 1, 8)</th>\n",
       "      <th>(4, 1, 9)</th>\n",
       "      <th>(4, 2, 3)</th>\n",
       "      <th>(4, 2, 7)</th>\n",
       "      <th>(4, 2, 9)</th>\n",
       "      <th>(4, 3, 1)</th>\n",
       "      <th>(4, 3, 3)</th>\n",
       "    </tr>\n",
       "    <tr>\n",
       "      <th>context</th>\n",
       "      <th></th>\n",
       "      <th></th>\n",
       "      <th></th>\n",
       "      <th></th>\n",
       "      <th></th>\n",
       "      <th></th>\n",
       "      <th></th>\n",
       "      <th></th>\n",
       "      <th></th>\n",
       "      <th></th>\n",
       "      <th></th>\n",
       "      <th></th>\n",
       "      <th></th>\n",
       "      <th></th>\n",
       "      <th></th>\n",
       "      <th></th>\n",
       "      <th></th>\n",
       "      <th></th>\n",
       "      <th></th>\n",
       "      <th></th>\n",
       "      <th></th>\n",
       "    </tr>\n",
       "  </thead>\n",
       "  <tbody>\n",
       "    <tr>\n",
       "      <td>(1, 1, 1)</td>\n",
       "      <td>1.000000</td>\n",
       "      <td>0.419170</td>\n",
       "      <td>0.570075</td>\n",
       "      <td>0.558956</td>\n",
       "      <td>0.579610</td>\n",
       "      <td>0.229444</td>\n",
       "      <td>0.186359</td>\n",
       "      <td>0.229444</td>\n",
       "      <td>0.266180</td>\n",
       "      <td>0.0</td>\n",
       "      <td>...</td>\n",
       "      <td>0.072998</td>\n",
       "      <td>0.383062</td>\n",
       "      <td>0.034587</td>\n",
       "      <td>0.000000</td>\n",
       "      <td>0.481680</td>\n",
       "      <td>0.494282</td>\n",
       "      <td>0.032384</td>\n",
       "      <td>0.115255</td>\n",
       "      <td>0.0</td>\n",
       "      <td>0.000000</td>\n",
       "    </tr>\n",
       "    <tr>\n",
       "      <td>(1, 1, 3)</td>\n",
       "      <td>0.419170</td>\n",
       "      <td>1.000000</td>\n",
       "      <td>0.640823</td>\n",
       "      <td>0.577439</td>\n",
       "      <td>0.694518</td>\n",
       "      <td>0.494915</td>\n",
       "      <td>0.684546</td>\n",
       "      <td>0.494915</td>\n",
       "      <td>0.547822</td>\n",
       "      <td>0.0</td>\n",
       "      <td>...</td>\n",
       "      <td>0.288025</td>\n",
       "      <td>0.464719</td>\n",
       "      <td>0.074604</td>\n",
       "      <td>0.000000</td>\n",
       "      <td>0.461028</td>\n",
       "      <td>0.330401</td>\n",
       "      <td>0.069853</td>\n",
       "      <td>0.248106</td>\n",
       "      <td>0.0</td>\n",
       "      <td>0.163786</td>\n",
       "    </tr>\n",
       "    <tr>\n",
       "      <td>(1, 1, 7)</td>\n",
       "      <td>0.570075</td>\n",
       "      <td>0.640823</td>\n",
       "      <td>1.000000</td>\n",
       "      <td>0.980494</td>\n",
       "      <td>0.565397</td>\n",
       "      <td>0.402480</td>\n",
       "      <td>0.326903</td>\n",
       "      <td>0.402480</td>\n",
       "      <td>0.130567</td>\n",
       "      <td>0.0</td>\n",
       "      <td>...</td>\n",
       "      <td>0.128049</td>\n",
       "      <td>0.204247</td>\n",
       "      <td>0.060671</td>\n",
       "      <td>0.000000</td>\n",
       "      <td>0.209789</td>\n",
       "      <td>0.228537</td>\n",
       "      <td>0.056806</td>\n",
       "      <td>0.046803</td>\n",
       "      <td>0.0</td>\n",
       "      <td>0.000000</td>\n",
       "    </tr>\n",
       "    <tr>\n",
       "      <td>(1, 1, 8)</td>\n",
       "      <td>0.558956</td>\n",
       "      <td>0.577439</td>\n",
       "      <td>0.980494</td>\n",
       "      <td>1.000000</td>\n",
       "      <td>0.498543</td>\n",
       "      <td>0.214705</td>\n",
       "      <td>0.300153</td>\n",
       "      <td>0.214705</td>\n",
       "      <td>0.069651</td>\n",
       "      <td>0.0</td>\n",
       "      <td>...</td>\n",
       "      <td>0.068308</td>\n",
       "      <td>0.108957</td>\n",
       "      <td>0.032365</td>\n",
       "      <td>0.000000</td>\n",
       "      <td>0.111913</td>\n",
       "      <td>0.121914</td>\n",
       "      <td>0.030304</td>\n",
       "      <td>0.024967</td>\n",
       "      <td>0.0</td>\n",
       "      <td>0.000000</td>\n",
       "    </tr>\n",
       "    <tr>\n",
       "      <td>(1, 1, 9)</td>\n",
       "      <td>0.579610</td>\n",
       "      <td>0.694518</td>\n",
       "      <td>0.565397</td>\n",
       "      <td>0.498543</td>\n",
       "      <td>1.000000</td>\n",
       "      <td>0.487574</td>\n",
       "      <td>0.408944</td>\n",
       "      <td>0.487574</td>\n",
       "      <td>0.579033</td>\n",
       "      <td>0.0</td>\n",
       "      <td>...</td>\n",
       "      <td>0.328573</td>\n",
       "      <td>0.488065</td>\n",
       "      <td>0.073498</td>\n",
       "      <td>0.310904</td>\n",
       "      <td>0.802233</td>\n",
       "      <td>0.656741</td>\n",
       "      <td>0.376608</td>\n",
       "      <td>0.370623</td>\n",
       "      <td>0.0</td>\n",
       "      <td>0.205363</td>\n",
       "    </tr>\n",
       "  </tbody>\n",
       "</table>\n",
       "<p>5 rows × 46 columns</p>\n",
       "</div>"
      ],
      "text/plain": [
       "context    (1, 1, 1)  (1, 1, 3)  (1, 1, 7)  (1, 1, 8)  (1, 1, 9)  (1, 2, 1)  \\\n",
       "context                                                                       \n",
       "(1, 1, 1)   1.000000   0.419170   0.570075   0.558956   0.579610   0.229444   \n",
       "(1, 1, 3)   0.419170   1.000000   0.640823   0.577439   0.694518   0.494915   \n",
       "(1, 1, 7)   0.570075   0.640823   1.000000   0.980494   0.565397   0.402480   \n",
       "(1, 1, 8)   0.558956   0.577439   0.980494   1.000000   0.498543   0.214705   \n",
       "(1, 1, 9)   0.579610   0.694518   0.565397   0.498543   1.000000   0.487574   \n",
       "\n",
       "context    (1, 2, 3)  (1, 2, 7)  (1, 2, 9)  (1, 3, 1)  ...  (4, 1, 1)  \\\n",
       "context                                                ...              \n",
       "(1, 1, 1)   0.186359   0.229444   0.266180        0.0  ...   0.072998   \n",
       "(1, 1, 3)   0.684546   0.494915   0.547822        0.0  ...   0.288025   \n",
       "(1, 1, 7)   0.326903   0.402480   0.130567        0.0  ...   0.128049   \n",
       "(1, 1, 8)   0.300153   0.214705   0.069651        0.0  ...   0.068308   \n",
       "(1, 1, 9)   0.408944   0.487574   0.579033        0.0  ...   0.328573   \n",
       "\n",
       "context    (4, 1, 3)  (4, 1, 7)  (4, 1, 8)  (4, 1, 9)  (4, 2, 3)  (4, 2, 7)  \\\n",
       "context                                                                       \n",
       "(1, 1, 1)   0.383062   0.034587   0.000000   0.481680   0.494282   0.032384   \n",
       "(1, 1, 3)   0.464719   0.074604   0.000000   0.461028   0.330401   0.069853   \n",
       "(1, 1, 7)   0.204247   0.060671   0.000000   0.209789   0.228537   0.056806   \n",
       "(1, 1, 8)   0.108957   0.032365   0.000000   0.111913   0.121914   0.030304   \n",
       "(1, 1, 9)   0.488065   0.073498   0.310904   0.802233   0.656741   0.376608   \n",
       "\n",
       "context    (4, 2, 9)  (4, 3, 1)  (4, 3, 3)  \n",
       "context                                     \n",
       "(1, 1, 1)   0.115255        0.0   0.000000  \n",
       "(1, 1, 3)   0.248106        0.0   0.163786  \n",
       "(1, 1, 7)   0.046803        0.0   0.000000  \n",
       "(1, 1, 8)   0.024967        0.0   0.000000  \n",
       "(1, 1, 9)   0.370623        0.0   0.205363  \n",
       "\n",
       "[5 rows x 46 columns]"
      ]
     },
     "metadata": {},
     "output_type": "display_data"
    },
    {
     "name": "stdout",
     "output_type": "stream",
     "text": [
      "The sparcity percentage of matrix is %24.48\n"
     ]
    }
   ],
   "source": [
    "cs_df = pd.DataFrame(cosine_similarity(lc_df), index=lc_df.index, columns=lc_df.index)\n",
    "display(cs_df.head())\n",
    "calSparcity(cs_df)"
   ]
  },
  {
   "cell_type": "markdown",
   "metadata": {},
   "source": [
    "<span id=\"finalrecom\"></span>\n",
    "# Final Recommendation\n",
    "---\n",
    "Based on the tourist location profiles and user similarities, the locations which have not been rated by the user could be predicted by applying user-based collaborative filtering. A post-filtering approach is used to adjust predicted ratings according to contextual information.\n",
    "\n",
    "We use the user-based collaborative filtering to predict the initial ratings."
   ]
  },
  {
   "cell_type": "code",
   "execution_count": 17,
   "metadata": {},
   "outputs": [],
   "source": [
    "def CF(user_id, location_id, s_matrix):\n",
    "    r = np.array(r_df)\n",
    "    s = np.array(s_matrix)\n",
    "    users = r_df.index\n",
    "    locations = r_df.columns\n",
    "    l = np.where(locations==location_id)[0]\n",
    "    u_idx = np.where(users==user_id)[0]\n",
    "        \n",
    "    # Means of all users\n",
    "    means = np.array([np.mean(row[row!=0]) for row in r])\n",
    "    \n",
    "    # Check if l is in r_rating\n",
    "    if location_id in r_df:\n",
    "        # Find similar users rated the location that target user hasn't visited\n",
    "        idx = np.nonzero(r[:,l])[0]\n",
    "        sim_scores = s[u_idx,idx].flatten()\n",
    "        sim_users = zip(idx,sim_scores)\n",
    "    \n",
    "        # Check if there is any similar user to target user\n",
    "        if idx.any():\n",
    "            sim_ratings = r[idx,l]\n",
    "            sim_means = means[idx]\n",
    "            numerator = (sim_scores * (sim_ratings - sim_means)).sum()\n",
    "            denominator = np.absolute(sim_scores).sum()\n",
    "            weight = (numerator/denominator) if denominator!=0 else 0\n",
    "            wmean = means[u_idx] + weight\n",
    "            wmean_rating = wmean[0]\n",
    "            \n",
    "    else:\n",
    "        wmean_rating = 0\n",
    "\n",
    "    return wmean_rating"
   ]
  },
  {
   "cell_type": "markdown",
   "metadata": {},
   "source": [
    "The visit probability of each candidate location is calculated in the current contexts, such that the probability of visiting the location $i$ equals the fraction of the users who visited the location $i$ in contexts similar to the target user, and the similarity of the current contexts with the visiting context of the neighbors is larger than a threshold like <code>delta</code>.\n",
    "\n",
    "After calculating the visiting probability, the final rating associated with each candidate location is obtained by:\n",
    "<br><br>\n",
    "\\begin{equation}\n",
    "score(u_a,i) = (collaborative\\ filtering\\ rate) \\times (visit\\ probability)\n",
    "\\end{equation}"
   ]
  },
  {
   "cell_type": "code",
   "execution_count": 33,
   "metadata": {},
   "outputs": [],
   "source": [
    "# Collaborative filtering with post-filtered contexts\n",
    "def CaCF_Post(user_id, location_id, s_matrix, c_current, delta):\n",
    "    \n",
    "    # Calculate cf\n",
    "    initial_pred = CF(user_id, location_id, s_matrix)\n",
    "    \n",
    "    if location_id in r_df:\n",
    "        r = np.array(r_df)\n",
    "        users = r_df.index\n",
    "        locations = r_df.columns\n",
    "        l = np.where(locations==location_id)[0]\n",
    "        c_profile = contexts\n",
    "        all_cnx = contexts.context.unique().tolist()\n",
    "        c = np.array(c_profile)\n",
    "        u_idx = np.where(users==user_id)[0]\n",
    "        c_current = tuple(c_current)\n",
    "        \n",
    "        # Get contexts of similar users visited the location\n",
    "        l_cnx = np.array(c_profile.loc[c_profile.location_id==location_id,['user_id','context']])\n",
    "                \n",
    "        if c_current in all_cnx:\n",
    "            # Find similarity of the current context to location contexts\n",
    "            cnx_scores = np.array([[uid, cs_df[c_current][cx]] for uid,cx in l_cnx])\n",
    "\n",
    "            # Filter users whose similarity bigger than delta\n",
    "            filtered_scores = cnx_scores[cnx_scores[:,1].astype(float)>delta]\n",
    "\n",
    "            # Location popularity based on current context\n",
    "            visit_prob = len(filtered_scores) / len(cnx_scores)\n",
    "            \n",
    "        else:\n",
    "            visit_prob = 1\n",
    "\n",
    "        return initial_pred * visit_prob\n",
    "\n",
    "    else:\n",
    "        return initial_pred"
   ]
  },
  {
   "cell_type": "code",
   "execution_count": 34,
   "metadata": {},
   "outputs": [],
   "source": [
    "# Find ratings\n",
    "test_rating = X_test.groupby(['location_id','user_id'])['visit_time'].count().reset_index(name='rating')\n",
    "test_rating = normalize(test_rating)\n",
    "r_df_test = test_rating.pivot_table(index='user_id', columns='location_id', values='rating', fill_value=0)\n",
    "\n",
    "# Proposed approach\n",
    "def EACOS_CaCF_Post(user_id, location_id, c_current, delta):\n",
    "    res = CaCF_Post(user_id, location_id, s_df, c_current, delta)\n",
    "    return res\n",
    "\n",
    "# Recommendation\n",
    "def predict(target_user, model, option=None):\n",
    "    true = r_df_test.loc[target_user]\n",
    "    \n",
    "    # Check if model is context-aware \n",
    "    if option:\n",
    "        pred_val = []\n",
    "        for l in true.index:\n",
    "            delta = option.get('delta')\n",
    "            c_current = tuple(X_test.xs(target_user)[['season','daytime','weather']].head(1).values[0])\n",
    "            r = model(user_id=target_user, location_id=l, c_current=c_current, delta=delta)\n",
    "            pred_val.append(r)\n",
    "    else:\n",
    "        pred_val = [model(user_id=target_user, location_id=l) for l in true.index]\n",
    "\n",
    "    pred = pd.Series(pred_val, index=true.index)\n",
    "\n",
    "    return pred"
   ]
  },
  {
   "cell_type": "markdown",
   "metadata": {},
   "source": [
    "As an example, let's see the result of rating prediction related to a user visited different locations in London city. Top-10 locations with the highest ratings would be a list of recommendations."
   ]
  },
  {
   "cell_type": "code",
   "execution_count": 19,
   "metadata": {},
   "outputs": [
    {
     "data": {
      "text/html": [
       "<style  type=\"text/css\" >\n",
       "    #T_1981aeaa_3491_11ea_b1f7_720004c47440row0_col1 {\n",
       "            background-color:  lime;\n",
       "        }    #T_1981aeaa_3491_11ea_b1f7_720004c47440row2_col0 {\n",
       "            background-color:  lime;\n",
       "        }    #T_1981aeaa_3491_11ea_b1f7_720004c47440row2_col1 {\n",
       "            background-color:  lime;\n",
       "        }    #T_1981aeaa_3491_11ea_b1f7_720004c47440row3_col1 {\n",
       "            background-color:  lime;\n",
       "        }    #T_1981aeaa_3491_11ea_b1f7_720004c47440row4_col1 {\n",
       "            background-color:  lime;\n",
       "        }    #T_1981aeaa_3491_11ea_b1f7_720004c47440row5_col1 {\n",
       "            background-color:  lime;\n",
       "        }    #T_1981aeaa_3491_11ea_b1f7_720004c47440row6_col1 {\n",
       "            background-color:  lime;\n",
       "        }    #T_1981aeaa_3491_11ea_b1f7_720004c47440row8_col0 {\n",
       "            background-color:  lime;\n",
       "        }    #T_1981aeaa_3491_11ea_b1f7_720004c47440row8_col1 {\n",
       "            background-color:  lime;\n",
       "        }    #T_1981aeaa_3491_11ea_b1f7_720004c47440row9_col1 {\n",
       "            background-color:  lime;\n",
       "        }    #T_1981aeaa_3491_11ea_b1f7_720004c47440row10_col1 {\n",
       "            background-color:  red;\n",
       "        }    #T_1981aeaa_3491_11ea_b1f7_720004c47440row12_col1 {\n",
       "            background-color:  lime;\n",
       "        }    #T_1981aeaa_3491_11ea_b1f7_720004c47440row13_col1 {\n",
       "            background-color:  lime;\n",
       "        }    #T_1981aeaa_3491_11ea_b1f7_720004c47440row14_col1 {\n",
       "            background-color:  lime;\n",
       "        }    #T_1981aeaa_3491_11ea_b1f7_720004c47440row15_col1 {\n",
       "            background-color:  lime;\n",
       "        }    #T_1981aeaa_3491_11ea_b1f7_720004c47440row16_col1 {\n",
       "            background-color:  lime;\n",
       "        }    #T_1981aeaa_3491_11ea_b1f7_720004c47440row17_col1 {\n",
       "            background-color:  lime;\n",
       "        }    #T_1981aeaa_3491_11ea_b1f7_720004c47440row18_col1 {\n",
       "            background-color:  lime;\n",
       "        }    #T_1981aeaa_3491_11ea_b1f7_720004c47440row19_col1 {\n",
       "            background-color:  lime;\n",
       "        }</style><table id=\"T_1981aeaa_3491_11ea_b1f7_720004c47440\" ><thead>    <tr>        <th class=\"blank level0\" ></th>        <th class=\"col_heading level0 col0\" >true</th>        <th class=\"col_heading level0 col1\" >pred</th>    </tr>    <tr>        <th class=\"index_name level0\" >location_id</th>        <th class=\"blank\" ></th>        <th class=\"blank\" ></th>    </tr></thead><tbody>\n",
       "                <tr>\n",
       "                        <th id=\"T_1981aeaa_3491_11ea_b1f7_720004c47440level0_row0\" class=\"row_heading level0 row0\" >140662</th>\n",
       "                        <td id=\"T_1981aeaa_3491_11ea_b1f7_720004c47440row0_col0\" class=\"data row0 col0\" >0</td>\n",
       "                        <td id=\"T_1981aeaa_3491_11ea_b1f7_720004c47440row0_col1\" class=\"data row0 col1\" >2.93506</td>\n",
       "            </tr>\n",
       "            <tr>\n",
       "                        <th id=\"T_1981aeaa_3491_11ea_b1f7_720004c47440level0_row1\" class=\"row_heading level0 row1\" >165202</th>\n",
       "                        <td id=\"T_1981aeaa_3491_11ea_b1f7_720004c47440row1_col0\" class=\"data row1 col0\" >0</td>\n",
       "                        <td id=\"T_1981aeaa_3491_11ea_b1f7_720004c47440row1_col1\" class=\"data row1 col1\" >0</td>\n",
       "            </tr>\n",
       "            <tr>\n",
       "                        <th id=\"T_1981aeaa_3491_11ea_b1f7_720004c47440level0_row2\" class=\"row_heading level0 row2\" >185565</th>\n",
       "                        <td id=\"T_1981aeaa_3491_11ea_b1f7_720004c47440row2_col0\" class=\"data row2 col0\" >1.44444</td>\n",
       "                        <td id=\"T_1981aeaa_3491_11ea_b1f7_720004c47440row2_col1\" class=\"data row2 col1\" >1.19856</td>\n",
       "            </tr>\n",
       "            <tr>\n",
       "                        <th id=\"T_1981aeaa_3491_11ea_b1f7_720004c47440level0_row3\" class=\"row_heading level0 row3\" >220206</th>\n",
       "                        <td id=\"T_1981aeaa_3491_11ea_b1f7_720004c47440row3_col0\" class=\"data row3 col0\" >0</td>\n",
       "                        <td id=\"T_1981aeaa_3491_11ea_b1f7_720004c47440row3_col1\" class=\"data row3 col1\" >2.28283</td>\n",
       "            </tr>\n",
       "            <tr>\n",
       "                        <th id=\"T_1981aeaa_3491_11ea_b1f7_720004c47440level0_row4\" class=\"row_heading level0 row4\" >299823</th>\n",
       "                        <td id=\"T_1981aeaa_3491_11ea_b1f7_720004c47440row4_col0\" class=\"data row4 col0\" >0</td>\n",
       "                        <td id=\"T_1981aeaa_3491_11ea_b1f7_720004c47440row4_col1\" class=\"data row4 col1\" >1.55647</td>\n",
       "            </tr>\n",
       "            <tr>\n",
       "                        <th id=\"T_1981aeaa_3491_11ea_b1f7_720004c47440level0_row5\" class=\"row_heading level0 row5\" >330684</th>\n",
       "                        <td id=\"T_1981aeaa_3491_11ea_b1f7_720004c47440row5_col0\" class=\"data row5 col0\" >0</td>\n",
       "                        <td id=\"T_1981aeaa_3491_11ea_b1f7_720004c47440row5_col1\" class=\"data row5 col1\" >1.95671</td>\n",
       "            </tr>\n",
       "            <tr>\n",
       "                        <th id=\"T_1981aeaa_3491_11ea_b1f7_720004c47440level0_row6\" class=\"row_heading level0 row6\" >335960</th>\n",
       "                        <td id=\"T_1981aeaa_3491_11ea_b1f7_720004c47440row6_col0\" class=\"data row6 col0\" >0</td>\n",
       "                        <td id=\"T_1981aeaa_3491_11ea_b1f7_720004c47440row6_col1\" class=\"data row6 col1\" >1.3697</td>\n",
       "            </tr>\n",
       "            <tr>\n",
       "                        <th id=\"T_1981aeaa_3491_11ea_b1f7_720004c47440level0_row7\" class=\"row_heading level0 row7\" >422774</th>\n",
       "                        <td id=\"T_1981aeaa_3491_11ea_b1f7_720004c47440row7_col0\" class=\"data row7 col0\" >0</td>\n",
       "                        <td id=\"T_1981aeaa_3491_11ea_b1f7_720004c47440row7_col1\" class=\"data row7 col1\" >0</td>\n",
       "            </tr>\n",
       "            <tr>\n",
       "                        <th id=\"T_1981aeaa_3491_11ea_b1f7_720004c47440level0_row8\" class=\"row_heading level0 row8\" >505088</th>\n",
       "                        <td id=\"T_1981aeaa_3491_11ea_b1f7_720004c47440row8_col0\" class=\"data row8 col0\" >5</td>\n",
       "                        <td id=\"T_1981aeaa_3491_11ea_b1f7_720004c47440row8_col1\" class=\"data row8 col1\" >4.58333</td>\n",
       "            </tr>\n",
       "            <tr>\n",
       "                        <th id=\"T_1981aeaa_3491_11ea_b1f7_720004c47440level0_row9\" class=\"row_heading level0 row9\" >519537</th>\n",
       "                        <td id=\"T_1981aeaa_3491_11ea_b1f7_720004c47440row9_col0\" class=\"data row9 col0\" >0</td>\n",
       "                        <td id=\"T_1981aeaa_3491_11ea_b1f7_720004c47440row9_col1\" class=\"data row9 col1\" >2.09259</td>\n",
       "            </tr>\n",
       "            <tr>\n",
       "                        <th id=\"T_1981aeaa_3491_11ea_b1f7_720004c47440level0_row10\" class=\"row_heading level0 row10\" >529367</th>\n",
       "                        <td id=\"T_1981aeaa_3491_11ea_b1f7_720004c47440row10_col0\" class=\"data row10 col0\" >0</td>\n",
       "                        <td id=\"T_1981aeaa_3491_11ea_b1f7_720004c47440row10_col1\" class=\"data row10 col1\" >0.684848</td>\n",
       "            </tr>\n",
       "            <tr>\n",
       "                        <th id=\"T_1981aeaa_3491_11ea_b1f7_720004c47440level0_row11\" class=\"row_heading level0 row11\" >594032</th>\n",
       "                        <td id=\"T_1981aeaa_3491_11ea_b1f7_720004c47440row11_col0\" class=\"data row11 col0\" >0</td>\n",
       "                        <td id=\"T_1981aeaa_3491_11ea_b1f7_720004c47440row11_col1\" class=\"data row11 col1\" >0</td>\n",
       "            </tr>\n",
       "            <tr>\n",
       "                        <th id=\"T_1981aeaa_3491_11ea_b1f7_720004c47440level0_row12\" class=\"row_heading level0 row12\" >594659</th>\n",
       "                        <td id=\"T_1981aeaa_3491_11ea_b1f7_720004c47440row12_col0\" class=\"data row12 col0\" >0</td>\n",
       "                        <td id=\"T_1981aeaa_3491_11ea_b1f7_720004c47440row12_col1\" class=\"data row12 col1\" >3.42424</td>\n",
       "            </tr>\n",
       "            <tr>\n",
       "                        <th id=\"T_1981aeaa_3491_11ea_b1f7_720004c47440level0_row13\" class=\"row_heading level0 row13\" >615127</th>\n",
       "                        <td id=\"T_1981aeaa_3491_11ea_b1f7_720004c47440row13_col0\" class=\"data row13 col0\" >0</td>\n",
       "                        <td id=\"T_1981aeaa_3491_11ea_b1f7_720004c47440row13_col1\" class=\"data row13 col1\" >3.22282</td>\n",
       "            </tr>\n",
       "            <tr>\n",
       "                        <th id=\"T_1981aeaa_3491_11ea_b1f7_720004c47440level0_row14\" class=\"row_heading level0 row14\" >675366</th>\n",
       "                        <td id=\"T_1981aeaa_3491_11ea_b1f7_720004c47440row14_col0\" class=\"data row14 col0\" >0</td>\n",
       "                        <td id=\"T_1981aeaa_3491_11ea_b1f7_720004c47440row14_col1\" class=\"data row14 col1\" >2.28283</td>\n",
       "            </tr>\n",
       "            <tr>\n",
       "                        <th id=\"T_1981aeaa_3491_11ea_b1f7_720004c47440level0_row15\" class=\"row_heading level0 row15\" >721771</th>\n",
       "                        <td id=\"T_1981aeaa_3491_11ea_b1f7_720004c47440row15_col0\" class=\"data row15 col0\" >0</td>\n",
       "                        <td id=\"T_1981aeaa_3491_11ea_b1f7_720004c47440row15_col1\" class=\"data row15 col1\" >1.71212</td>\n",
       "            </tr>\n",
       "            <tr>\n",
       "                        <th id=\"T_1981aeaa_3491_11ea_b1f7_720004c47440level0_row16\" class=\"row_heading level0 row16\" >767961</th>\n",
       "                        <td id=\"T_1981aeaa_3491_11ea_b1f7_720004c47440row16_col0\" class=\"data row16 col0\" >0</td>\n",
       "                        <td id=\"T_1981aeaa_3491_11ea_b1f7_720004c47440row16_col1\" class=\"data row16 col1\" >3.42424</td>\n",
       "            </tr>\n",
       "            <tr>\n",
       "                        <th id=\"T_1981aeaa_3491_11ea_b1f7_720004c47440level0_row17\" class=\"row_heading level0 row17\" >784986</th>\n",
       "                        <td id=\"T_1981aeaa_3491_11ea_b1f7_720004c47440row17_col0\" class=\"data row17 col0\" >0</td>\n",
       "                        <td id=\"T_1981aeaa_3491_11ea_b1f7_720004c47440row17_col1\" class=\"data row17 col1\" >1.28409</td>\n",
       "            </tr>\n",
       "            <tr>\n",
       "                        <th id=\"T_1981aeaa_3491_11ea_b1f7_720004c47440level0_row18\" class=\"row_heading level0 row18\" >934575</th>\n",
       "                        <td id=\"T_1981aeaa_3491_11ea_b1f7_720004c47440row18_col0\" class=\"data row18 col0\" >0</td>\n",
       "                        <td id=\"T_1981aeaa_3491_11ea_b1f7_720004c47440row18_col1\" class=\"data row18 col1\" >2.81996</td>\n",
       "            </tr>\n",
       "            <tr>\n",
       "                        <th id=\"T_1981aeaa_3491_11ea_b1f7_720004c47440level0_row19\" class=\"row_heading level0 row19\" >950630</th>\n",
       "                        <td id=\"T_1981aeaa_3491_11ea_b1f7_720004c47440row19_col0\" class=\"data row19 col0\" >0</td>\n",
       "                        <td id=\"T_1981aeaa_3491_11ea_b1f7_720004c47440row19_col1\" class=\"data row19 col1\" >1.3697</td>\n",
       "            </tr>\n",
       "    </tbody></table>"
      ],
      "text/plain": [
       "<pandas.io.formats.style.Styler at 0x11c8e9e90>"
      ]
     },
     "metadata": {},
     "output_type": "display_data"
    }
   ],
   "source": [
    "user = '41087279@N00'\n",
    "options = {\n",
    "    'delta': .3\n",
    "}\n",
    "\n",
    "def item_relevancy(col):\n",
    "    relevant = 1\n",
    "    r_color = 'background-color: lime'\n",
    "    nr_color = 'background-color: red'\n",
    "    res = []\n",
    "    for v in col:\n",
    "        if v > relevant:\n",
    "            res.append(r_color)\n",
    "        elif (v > 0) & (v <= relevant):\n",
    "            res.append(nr_color)\n",
    "        else:\n",
    "            res.append('')\n",
    "    return res\n",
    "    \n",
    "true = r_df_test.loc[user]\n",
    "pred = predict(user, EACOS_CaCF_Post, option=options)\n",
    "\n",
    "with pd.option_context(\"display.max_rows\", None):\n",
    "    prediction = pd.DataFrame({'true': true, 'pred': pred})\n",
    "    display(prediction.style.apply(lambda col: item_relevancy(col)))"
   ]
  },
  {
   "cell_type": "code",
   "execution_count": 20,
   "metadata": {},
   "outputs": [
    {
     "data": {
      "text/html": [
       "<style  type=\"text/css\" >\n",
       "    #T_1984fec0_3491_11ea_b1f7_720004c47440row0_col0 {\n",
       "            background-color:  lime;\n",
       "        }    #T_1984fec0_3491_11ea_b1f7_720004c47440row0_col1 {\n",
       "            background-color:  lime;\n",
       "        }    #T_1984fec0_3491_11ea_b1f7_720004c47440row1_col1 {\n",
       "            background-color:  lime;\n",
       "        }    #T_1984fec0_3491_11ea_b1f7_720004c47440row2_col1 {\n",
       "            background-color:  lime;\n",
       "        }    #T_1984fec0_3491_11ea_b1f7_720004c47440row3_col1 {\n",
       "            background-color:  lime;\n",
       "        }    #T_1984fec0_3491_11ea_b1f7_720004c47440row4_col1 {\n",
       "            background-color:  lime;\n",
       "        }    #T_1984fec0_3491_11ea_b1f7_720004c47440row5_col1 {\n",
       "            background-color:  lime;\n",
       "        }    #T_1984fec0_3491_11ea_b1f7_720004c47440row6_col1 {\n",
       "            background-color:  lime;\n",
       "        }    #T_1984fec0_3491_11ea_b1f7_720004c47440row7_col1 {\n",
       "            background-color:  lime;\n",
       "        }    #T_1984fec0_3491_11ea_b1f7_720004c47440row8_col1 {\n",
       "            background-color:  lime;\n",
       "        }    #T_1984fec0_3491_11ea_b1f7_720004c47440row9_col1 {\n",
       "            background-color:  lime;\n",
       "        }</style><table id=\"T_1984fec0_3491_11ea_b1f7_720004c47440\" ><thead>    <tr>        <th class=\"blank level0\" ></th>        <th class=\"col_heading level0 col0\" >true</th>        <th class=\"col_heading level0 col1\" >pred</th>    </tr>    <tr>        <th class=\"index_name level0\" >location_id</th>        <th class=\"blank\" ></th>        <th class=\"blank\" ></th>    </tr></thead><tbody>\n",
       "                <tr>\n",
       "                        <th id=\"T_1984fec0_3491_11ea_b1f7_720004c47440level0_row0\" class=\"row_heading level0 row0\" >505088</th>\n",
       "                        <td id=\"T_1984fec0_3491_11ea_b1f7_720004c47440row0_col0\" class=\"data row0 col0\" >5</td>\n",
       "                        <td id=\"T_1984fec0_3491_11ea_b1f7_720004c47440row0_col1\" class=\"data row0 col1\" >4.58333</td>\n",
       "            </tr>\n",
       "            <tr>\n",
       "                        <th id=\"T_1984fec0_3491_11ea_b1f7_720004c47440level0_row1\" class=\"row_heading level0 row1\" >594659</th>\n",
       "                        <td id=\"T_1984fec0_3491_11ea_b1f7_720004c47440row1_col0\" class=\"data row1 col0\" >0</td>\n",
       "                        <td id=\"T_1984fec0_3491_11ea_b1f7_720004c47440row1_col1\" class=\"data row1 col1\" >3.42424</td>\n",
       "            </tr>\n",
       "            <tr>\n",
       "                        <th id=\"T_1984fec0_3491_11ea_b1f7_720004c47440level0_row2\" class=\"row_heading level0 row2\" >767961</th>\n",
       "                        <td id=\"T_1984fec0_3491_11ea_b1f7_720004c47440row2_col0\" class=\"data row2 col0\" >0</td>\n",
       "                        <td id=\"T_1984fec0_3491_11ea_b1f7_720004c47440row2_col1\" class=\"data row2 col1\" >3.42424</td>\n",
       "            </tr>\n",
       "            <tr>\n",
       "                        <th id=\"T_1984fec0_3491_11ea_b1f7_720004c47440level0_row3\" class=\"row_heading level0 row3\" >615127</th>\n",
       "                        <td id=\"T_1984fec0_3491_11ea_b1f7_720004c47440row3_col0\" class=\"data row3 col0\" >0</td>\n",
       "                        <td id=\"T_1984fec0_3491_11ea_b1f7_720004c47440row3_col1\" class=\"data row3 col1\" >3.22282</td>\n",
       "            </tr>\n",
       "            <tr>\n",
       "                        <th id=\"T_1984fec0_3491_11ea_b1f7_720004c47440level0_row4\" class=\"row_heading level0 row4\" >140662</th>\n",
       "                        <td id=\"T_1984fec0_3491_11ea_b1f7_720004c47440row4_col0\" class=\"data row4 col0\" >0</td>\n",
       "                        <td id=\"T_1984fec0_3491_11ea_b1f7_720004c47440row4_col1\" class=\"data row4 col1\" >2.93506</td>\n",
       "            </tr>\n",
       "            <tr>\n",
       "                        <th id=\"T_1984fec0_3491_11ea_b1f7_720004c47440level0_row5\" class=\"row_heading level0 row5\" >934575</th>\n",
       "                        <td id=\"T_1984fec0_3491_11ea_b1f7_720004c47440row5_col0\" class=\"data row5 col0\" >0</td>\n",
       "                        <td id=\"T_1984fec0_3491_11ea_b1f7_720004c47440row5_col1\" class=\"data row5 col1\" >2.81996</td>\n",
       "            </tr>\n",
       "            <tr>\n",
       "                        <th id=\"T_1984fec0_3491_11ea_b1f7_720004c47440level0_row6\" class=\"row_heading level0 row6\" >220206</th>\n",
       "                        <td id=\"T_1984fec0_3491_11ea_b1f7_720004c47440row6_col0\" class=\"data row6 col0\" >0</td>\n",
       "                        <td id=\"T_1984fec0_3491_11ea_b1f7_720004c47440row6_col1\" class=\"data row6 col1\" >2.28283</td>\n",
       "            </tr>\n",
       "            <tr>\n",
       "                        <th id=\"T_1984fec0_3491_11ea_b1f7_720004c47440level0_row7\" class=\"row_heading level0 row7\" >675366</th>\n",
       "                        <td id=\"T_1984fec0_3491_11ea_b1f7_720004c47440row7_col0\" class=\"data row7 col0\" >0</td>\n",
       "                        <td id=\"T_1984fec0_3491_11ea_b1f7_720004c47440row7_col1\" class=\"data row7 col1\" >2.28283</td>\n",
       "            </tr>\n",
       "            <tr>\n",
       "                        <th id=\"T_1984fec0_3491_11ea_b1f7_720004c47440level0_row8\" class=\"row_heading level0 row8\" >519537</th>\n",
       "                        <td id=\"T_1984fec0_3491_11ea_b1f7_720004c47440row8_col0\" class=\"data row8 col0\" >0</td>\n",
       "                        <td id=\"T_1984fec0_3491_11ea_b1f7_720004c47440row8_col1\" class=\"data row8 col1\" >2.09259</td>\n",
       "            </tr>\n",
       "            <tr>\n",
       "                        <th id=\"T_1984fec0_3491_11ea_b1f7_720004c47440level0_row9\" class=\"row_heading level0 row9\" >330684</th>\n",
       "                        <td id=\"T_1984fec0_3491_11ea_b1f7_720004c47440row9_col0\" class=\"data row9 col0\" >0</td>\n",
       "                        <td id=\"T_1984fec0_3491_11ea_b1f7_720004c47440row9_col1\" class=\"data row9 col1\" >1.95671</td>\n",
       "            </tr>\n",
       "    </tbody></table>"
      ],
      "text/plain": [
       "<pandas.io.formats.style.Styler at 0x11e555c90>"
      ]
     },
     "execution_count": 20,
     "metadata": {},
     "output_type": "execute_result"
    }
   ],
   "source": [
    "# Top 10 recommendations\n",
    "top_10 = prediction.nlargest(10, 'pred')\n",
    "top_10.style.apply(lambda col: item_relevancy(col))"
   ]
  },
  {
   "cell_type": "markdown",
   "metadata": {},
   "source": [
    "### <span id=\"eval\"></span>\n",
    "# Evaluation\n",
    "---\n",
    "In the final step, we evaluate the proposed method based on common evaluation metrics in recommendation systems, MAP and RMSE. We also compare the performance of proposed model against some other recommendation methods."
   ]
  },
  {
   "cell_type": "code",
   "execution_count": 35,
   "metadata": {},
   "outputs": [],
   "source": [
    "def rmse(true, pred):\n",
    "    return np.sqrt(mean_squared_error(true, pred))\n",
    "\n",
    "def mean_average_precision(true, pred, k=10):\n",
    "    relevant = 1\n",
    "    sort_rates = lambda s: s.sort_values(ascending=False)\n",
    "    true = [r[1].where(r[1]>relevant).dropna().index.tolist() for r in true.iterrows()]\n",
    "    pred = [sort_rates(r[1].where(r[1]>relevant).dropna()).index.tolist() for r in pred.iterrows()]\n",
    "    map_score = mapk(true, pred, k)\n",
    "    return map_score"
   ]
  },
  {
   "cell_type": "code",
   "execution_count": 22,
   "metadata": {},
   "outputs": [],
   "source": [
    "def predict_all(model, option=None):\n",
    "    users = r_df_test.index\n",
    "    locations = r_df_test.columns\n",
    "    pred = np.zeros(r_df_test.shape)\n",
    "    \n",
    "    for i in range(0,len(users)):\n",
    "        uid = users[i]\n",
    "        for j in range(0,len(locations)):\n",
    "            lid = locations[j]\n",
    "            # Check if model is context-aware \n",
    "            if option:\n",
    "                delta = option.get('delta')\n",
    "                c_current = X_test.xs(uid)[['season','daytime','weather']].head(1).values[0]\n",
    "                pred[i,j] = model(user_id=uid, location_id=lid, c_current=c_current, delta=delta)\n",
    "            else:\n",
    "                pred[i,j] = model(user_id=uid, location_id=lid)\n",
    "                        \n",
    "    return pd.DataFrame(pred, index=users, columns=locations)"
   ]
  },
  {
   "cell_type": "code",
   "execution_count": 23,
   "metadata": {
    "scrolled": false
   },
   "outputs": [
    {
     "data": {
      "application/vnd.plotly.v1+json": {
       "config": {
        "plotlyServerURL": "https://plot.ly"
       },
       "data": [
        {
         "line": {
          "shape": "spline"
         },
         "name": "Precision",
         "text": [
          0.7859722222222223,
          0.8017559523809524,
          0.8325992063492064,
          0.8251124338624339,
          0.8148809523809523,
          0.8,
          0.7861111111111111,
          0.7569444444444444,
          0.75
         ],
         "type": "scatter",
         "x": [
          0.1,
          0.2,
          0.30000000000000004,
          0.4,
          0.5,
          0.6,
          0.7000000000000001,
          0.8,
          0.9
         ],
         "y": [
          0.7859722222222223,
          0.8017559523809524,
          0.8325992063492064,
          0.8251124338624339,
          0.8148809523809523,
          0.8,
          0.7861111111111111,
          0.7569444444444444,
          0.75
         ]
        }
       ],
       "layout": {
        "template": {
         "data": {
          "bar": [
           {
            "error_x": {
             "color": "#2a3f5f"
            },
            "error_y": {
             "color": "#2a3f5f"
            },
            "marker": {
             "line": {
              "color": "white",
              "width": 0.5
             }
            },
            "type": "bar"
           }
          ],
          "barpolar": [
           {
            "marker": {
             "line": {
              "color": "white",
              "width": 0.5
             }
            },
            "type": "barpolar"
           }
          ],
          "carpet": [
           {
            "aaxis": {
             "endlinecolor": "#2a3f5f",
             "gridcolor": "#C8D4E3",
             "linecolor": "#C8D4E3",
             "minorgridcolor": "#C8D4E3",
             "startlinecolor": "#2a3f5f"
            },
            "baxis": {
             "endlinecolor": "#2a3f5f",
             "gridcolor": "#C8D4E3",
             "linecolor": "#C8D4E3",
             "minorgridcolor": "#C8D4E3",
             "startlinecolor": "#2a3f5f"
            },
            "type": "carpet"
           }
          ],
          "choropleth": [
           {
            "colorbar": {
             "outlinewidth": 0,
             "ticks": ""
            },
            "type": "choropleth"
           }
          ],
          "contour": [
           {
            "colorbar": {
             "outlinewidth": 0,
             "ticks": ""
            },
            "colorscale": [
             [
              0,
              "#0d0887"
             ],
             [
              0.1111111111111111,
              "#46039f"
             ],
             [
              0.2222222222222222,
              "#7201a8"
             ],
             [
              0.3333333333333333,
              "#9c179e"
             ],
             [
              0.4444444444444444,
              "#bd3786"
             ],
             [
              0.5555555555555556,
              "#d8576b"
             ],
             [
              0.6666666666666666,
              "#ed7953"
             ],
             [
              0.7777777777777778,
              "#fb9f3a"
             ],
             [
              0.8888888888888888,
              "#fdca26"
             ],
             [
              1,
              "#f0f921"
             ]
            ],
            "type": "contour"
           }
          ],
          "contourcarpet": [
           {
            "colorbar": {
             "outlinewidth": 0,
             "ticks": ""
            },
            "type": "contourcarpet"
           }
          ],
          "heatmap": [
           {
            "colorbar": {
             "outlinewidth": 0,
             "ticks": ""
            },
            "colorscale": [
             [
              0,
              "#0d0887"
             ],
             [
              0.1111111111111111,
              "#46039f"
             ],
             [
              0.2222222222222222,
              "#7201a8"
             ],
             [
              0.3333333333333333,
              "#9c179e"
             ],
             [
              0.4444444444444444,
              "#bd3786"
             ],
             [
              0.5555555555555556,
              "#d8576b"
             ],
             [
              0.6666666666666666,
              "#ed7953"
             ],
             [
              0.7777777777777778,
              "#fb9f3a"
             ],
             [
              0.8888888888888888,
              "#fdca26"
             ],
             [
              1,
              "#f0f921"
             ]
            ],
            "type": "heatmap"
           }
          ],
          "heatmapgl": [
           {
            "colorbar": {
             "outlinewidth": 0,
             "ticks": ""
            },
            "colorscale": [
             [
              0,
              "#0d0887"
             ],
             [
              0.1111111111111111,
              "#46039f"
             ],
             [
              0.2222222222222222,
              "#7201a8"
             ],
             [
              0.3333333333333333,
              "#9c179e"
             ],
             [
              0.4444444444444444,
              "#bd3786"
             ],
             [
              0.5555555555555556,
              "#d8576b"
             ],
             [
              0.6666666666666666,
              "#ed7953"
             ],
             [
              0.7777777777777778,
              "#fb9f3a"
             ],
             [
              0.8888888888888888,
              "#fdca26"
             ],
             [
              1,
              "#f0f921"
             ]
            ],
            "type": "heatmapgl"
           }
          ],
          "histogram": [
           {
            "marker": {
             "colorbar": {
              "outlinewidth": 0,
              "ticks": ""
             }
            },
            "type": "histogram"
           }
          ],
          "histogram2d": [
           {
            "colorbar": {
             "outlinewidth": 0,
             "ticks": ""
            },
            "colorscale": [
             [
              0,
              "#0d0887"
             ],
             [
              0.1111111111111111,
              "#46039f"
             ],
             [
              0.2222222222222222,
              "#7201a8"
             ],
             [
              0.3333333333333333,
              "#9c179e"
             ],
             [
              0.4444444444444444,
              "#bd3786"
             ],
             [
              0.5555555555555556,
              "#d8576b"
             ],
             [
              0.6666666666666666,
              "#ed7953"
             ],
             [
              0.7777777777777778,
              "#fb9f3a"
             ],
             [
              0.8888888888888888,
              "#fdca26"
             ],
             [
              1,
              "#f0f921"
             ]
            ],
            "type": "histogram2d"
           }
          ],
          "histogram2dcontour": [
           {
            "colorbar": {
             "outlinewidth": 0,
             "ticks": ""
            },
            "colorscale": [
             [
              0,
              "#0d0887"
             ],
             [
              0.1111111111111111,
              "#46039f"
             ],
             [
              0.2222222222222222,
              "#7201a8"
             ],
             [
              0.3333333333333333,
              "#9c179e"
             ],
             [
              0.4444444444444444,
              "#bd3786"
             ],
             [
              0.5555555555555556,
              "#d8576b"
             ],
             [
              0.6666666666666666,
              "#ed7953"
             ],
             [
              0.7777777777777778,
              "#fb9f3a"
             ],
             [
              0.8888888888888888,
              "#fdca26"
             ],
             [
              1,
              "#f0f921"
             ]
            ],
            "type": "histogram2dcontour"
           }
          ],
          "mesh3d": [
           {
            "colorbar": {
             "outlinewidth": 0,
             "ticks": ""
            },
            "type": "mesh3d"
           }
          ],
          "parcoords": [
           {
            "line": {
             "colorbar": {
              "outlinewidth": 0,
              "ticks": ""
             }
            },
            "type": "parcoords"
           }
          ],
          "scatter": [
           {
            "marker": {
             "colorbar": {
              "outlinewidth": 0,
              "ticks": ""
             }
            },
            "type": "scatter"
           }
          ],
          "scatter3d": [
           {
            "line": {
             "colorbar": {
              "outlinewidth": 0,
              "ticks": ""
             }
            },
            "marker": {
             "colorbar": {
              "outlinewidth": 0,
              "ticks": ""
             }
            },
            "type": "scatter3d"
           }
          ],
          "scattercarpet": [
           {
            "marker": {
             "colorbar": {
              "outlinewidth": 0,
              "ticks": ""
             }
            },
            "type": "scattercarpet"
           }
          ],
          "scattergeo": [
           {
            "marker": {
             "colorbar": {
              "outlinewidth": 0,
              "ticks": ""
             }
            },
            "type": "scattergeo"
           }
          ],
          "scattergl": [
           {
            "marker": {
             "colorbar": {
              "outlinewidth": 0,
              "ticks": ""
             }
            },
            "type": "scattergl"
           }
          ],
          "scattermapbox": [
           {
            "marker": {
             "colorbar": {
              "outlinewidth": 0,
              "ticks": ""
             }
            },
            "type": "scattermapbox"
           }
          ],
          "scatterpolar": [
           {
            "marker": {
             "colorbar": {
              "outlinewidth": 0,
              "ticks": ""
             }
            },
            "type": "scatterpolar"
           }
          ],
          "scatterpolargl": [
           {
            "marker": {
             "colorbar": {
              "outlinewidth": 0,
              "ticks": ""
             }
            },
            "type": "scatterpolargl"
           }
          ],
          "scatterternary": [
           {
            "marker": {
             "colorbar": {
              "outlinewidth": 0,
              "ticks": ""
             }
            },
            "type": "scatterternary"
           }
          ],
          "surface": [
           {
            "colorbar": {
             "outlinewidth": 0,
             "ticks": ""
            },
            "colorscale": [
             [
              0,
              "#0d0887"
             ],
             [
              0.1111111111111111,
              "#46039f"
             ],
             [
              0.2222222222222222,
              "#7201a8"
             ],
             [
              0.3333333333333333,
              "#9c179e"
             ],
             [
              0.4444444444444444,
              "#bd3786"
             ],
             [
              0.5555555555555556,
              "#d8576b"
             ],
             [
              0.6666666666666666,
              "#ed7953"
             ],
             [
              0.7777777777777778,
              "#fb9f3a"
             ],
             [
              0.8888888888888888,
              "#fdca26"
             ],
             [
              1,
              "#f0f921"
             ]
            ],
            "type": "surface"
           }
          ],
          "table": [
           {
            "cells": {
             "fill": {
              "color": "#EBF0F8"
             },
             "line": {
              "color": "white"
             }
            },
            "header": {
             "fill": {
              "color": "#C8D4E3"
             },
             "line": {
              "color": "white"
             }
            },
            "type": "table"
           }
          ]
         },
         "layout": {
          "annotationdefaults": {
           "arrowcolor": "#2a3f5f",
           "arrowhead": 0,
           "arrowwidth": 1
          },
          "colorscale": {
           "diverging": [
            [
             0,
             "#8e0152"
            ],
            [
             0.1,
             "#c51b7d"
            ],
            [
             0.2,
             "#de77ae"
            ],
            [
             0.3,
             "#f1b6da"
            ],
            [
             0.4,
             "#fde0ef"
            ],
            [
             0.5,
             "#f7f7f7"
            ],
            [
             0.6,
             "#e6f5d0"
            ],
            [
             0.7,
             "#b8e186"
            ],
            [
             0.8,
             "#7fbc41"
            ],
            [
             0.9,
             "#4d9221"
            ],
            [
             1,
             "#276419"
            ]
           ],
           "sequential": [
            [
             0,
             "#0d0887"
            ],
            [
             0.1111111111111111,
             "#46039f"
            ],
            [
             0.2222222222222222,
             "#7201a8"
            ],
            [
             0.3333333333333333,
             "#9c179e"
            ],
            [
             0.4444444444444444,
             "#bd3786"
            ],
            [
             0.5555555555555556,
             "#d8576b"
            ],
            [
             0.6666666666666666,
             "#ed7953"
            ],
            [
             0.7777777777777778,
             "#fb9f3a"
            ],
            [
             0.8888888888888888,
             "#fdca26"
            ],
            [
             1,
             "#f0f921"
            ]
           ],
           "sequentialminus": [
            [
             0,
             "#0d0887"
            ],
            [
             0.1111111111111111,
             "#46039f"
            ],
            [
             0.2222222222222222,
             "#7201a8"
            ],
            [
             0.3333333333333333,
             "#9c179e"
            ],
            [
             0.4444444444444444,
             "#bd3786"
            ],
            [
             0.5555555555555556,
             "#d8576b"
            ],
            [
             0.6666666666666666,
             "#ed7953"
            ],
            [
             0.7777777777777778,
             "#fb9f3a"
            ],
            [
             0.8888888888888888,
             "#fdca26"
            ],
            [
             1,
             "#f0f921"
            ]
           ]
          },
          "colorway": [
           "#636efa",
           "#EF553B",
           "#00cc96",
           "#ab63fa",
           "#FFA15A",
           "#19d3f3",
           "#FF6692",
           "#B6E880",
           "#FF97FF",
           "#FECB52"
          ],
          "font": {
           "color": "#2a3f5f"
          },
          "geo": {
           "bgcolor": "white",
           "lakecolor": "white",
           "landcolor": "white",
           "showlakes": true,
           "showland": true,
           "subunitcolor": "#C8D4E3"
          },
          "hoverlabel": {
           "align": "left"
          },
          "hovermode": "closest",
          "mapbox": {
           "style": "light"
          },
          "paper_bgcolor": "white",
          "plot_bgcolor": "white",
          "polar": {
           "angularaxis": {
            "gridcolor": "#EBF0F8",
            "linecolor": "#EBF0F8",
            "ticks": ""
           },
           "bgcolor": "white",
           "radialaxis": {
            "gridcolor": "#EBF0F8",
            "linecolor": "#EBF0F8",
            "ticks": ""
           }
          },
          "scene": {
           "xaxis": {
            "backgroundcolor": "white",
            "gridcolor": "#DFE8F3",
            "gridwidth": 2,
            "linecolor": "#EBF0F8",
            "showbackground": true,
            "ticks": "",
            "zerolinecolor": "#EBF0F8"
           },
           "yaxis": {
            "backgroundcolor": "white",
            "gridcolor": "#DFE8F3",
            "gridwidth": 2,
            "linecolor": "#EBF0F8",
            "showbackground": true,
            "ticks": "",
            "zerolinecolor": "#EBF0F8"
           },
           "zaxis": {
            "backgroundcolor": "white",
            "gridcolor": "#DFE8F3",
            "gridwidth": 2,
            "linecolor": "#EBF0F8",
            "showbackground": true,
            "ticks": "",
            "zerolinecolor": "#EBF0F8"
           }
          },
          "shapedefaults": {
           "line": {
            "color": "#2a3f5f"
           }
          },
          "ternary": {
           "aaxis": {
            "gridcolor": "#DFE8F3",
            "linecolor": "#A2B1C6",
            "ticks": ""
           },
           "baxis": {
            "gridcolor": "#DFE8F3",
            "linecolor": "#A2B1C6",
            "ticks": ""
           },
           "bgcolor": "white",
           "caxis": {
            "gridcolor": "#DFE8F3",
            "linecolor": "#A2B1C6",
            "ticks": ""
           }
          },
          "title": {
           "x": 0.05
          },
          "xaxis": {
           "automargin": true,
           "gridcolor": "#EBF0F8",
           "linecolor": "#EBF0F8",
           "ticks": "",
           "zerolinecolor": "#EBF0F8",
           "zerolinewidth": 2
          },
          "yaxis": {
           "automargin": true,
           "gridcolor": "#EBF0F8",
           "linecolor": "#EBF0F8",
           "ticks": "",
           "zerolinecolor": "#EBF0F8",
           "zerolinewidth": 2
          }
         }
        },
        "xaxis": {
         "autorange": "reversed",
         "title": {
          "text": "Threshold of context similarity (δ)"
         }
        },
        "yaxis": {
         "title": {
          "text": "Precision"
         }
        }
       }
      },
      "text/html": [
       "<div>\n",
       "        \n",
       "        \n",
       "            <div id=\"6216525b-0214-4e06-b8dc-3cb1ed244ad9\" class=\"plotly-graph-div\" style=\"height:525px; width:100%;\"></div>\n",
       "            <script type=\"text/javascript\">\n",
       "                require([\"plotly\"], function(Plotly) {\n",
       "                    window.PLOTLYENV=window.PLOTLYENV || {};\n",
       "                    \n",
       "                if (document.getElementById(\"6216525b-0214-4e06-b8dc-3cb1ed244ad9\")) {\n",
       "                    Plotly.newPlot(\n",
       "                        '6216525b-0214-4e06-b8dc-3cb1ed244ad9',\n",
       "                        [{\"line\": {\"shape\": \"spline\"}, \"name\": \"Precision\", \"text\": [0.7859722222222223, 0.8017559523809524, 0.8325992063492064, 0.8251124338624339, 0.8148809523809523, 0.8, 0.7861111111111111, 0.7569444444444444, 0.75], \"type\": \"scatter\", \"x\": [0.1, 0.2, 0.30000000000000004, 0.4, 0.5, 0.6, 0.7000000000000001, 0.8, 0.9], \"y\": [0.7859722222222223, 0.8017559523809524, 0.8325992063492064, 0.8251124338624339, 0.8148809523809523, 0.8, 0.7861111111111111, 0.7569444444444444, 0.75]}],\n",
       "                        {\"template\": {\"data\": {\"bar\": [{\"error_x\": {\"color\": \"#2a3f5f\"}, \"error_y\": {\"color\": \"#2a3f5f\"}, \"marker\": {\"line\": {\"color\": \"white\", \"width\": 0.5}}, \"type\": \"bar\"}], \"barpolar\": [{\"marker\": {\"line\": {\"color\": \"white\", \"width\": 0.5}}, \"type\": \"barpolar\"}], \"carpet\": [{\"aaxis\": {\"endlinecolor\": \"#2a3f5f\", \"gridcolor\": \"#C8D4E3\", \"linecolor\": \"#C8D4E3\", \"minorgridcolor\": \"#C8D4E3\", \"startlinecolor\": \"#2a3f5f\"}, \"baxis\": {\"endlinecolor\": \"#2a3f5f\", \"gridcolor\": \"#C8D4E3\", \"linecolor\": \"#C8D4E3\", \"minorgridcolor\": \"#C8D4E3\", \"startlinecolor\": \"#2a3f5f\"}, \"type\": \"carpet\"}], \"choropleth\": [{\"colorbar\": {\"outlinewidth\": 0, \"ticks\": \"\"}, \"type\": \"choropleth\"}], \"contour\": [{\"colorbar\": {\"outlinewidth\": 0, \"ticks\": \"\"}, \"colorscale\": [[0.0, \"#0d0887\"], [0.1111111111111111, \"#46039f\"], [0.2222222222222222, \"#7201a8\"], [0.3333333333333333, \"#9c179e\"], [0.4444444444444444, \"#bd3786\"], [0.5555555555555556, \"#d8576b\"], [0.6666666666666666, \"#ed7953\"], [0.7777777777777778, \"#fb9f3a\"], [0.8888888888888888, \"#fdca26\"], [1.0, \"#f0f921\"]], \"type\": \"contour\"}], \"contourcarpet\": [{\"colorbar\": {\"outlinewidth\": 0, \"ticks\": \"\"}, \"type\": \"contourcarpet\"}], \"heatmap\": [{\"colorbar\": {\"outlinewidth\": 0, \"ticks\": \"\"}, \"colorscale\": [[0.0, \"#0d0887\"], [0.1111111111111111, \"#46039f\"], [0.2222222222222222, \"#7201a8\"], [0.3333333333333333, \"#9c179e\"], [0.4444444444444444, \"#bd3786\"], [0.5555555555555556, \"#d8576b\"], [0.6666666666666666, \"#ed7953\"], [0.7777777777777778, \"#fb9f3a\"], [0.8888888888888888, \"#fdca26\"], [1.0, \"#f0f921\"]], \"type\": \"heatmap\"}], \"heatmapgl\": [{\"colorbar\": {\"outlinewidth\": 0, \"ticks\": \"\"}, \"colorscale\": [[0.0, \"#0d0887\"], [0.1111111111111111, \"#46039f\"], [0.2222222222222222, \"#7201a8\"], [0.3333333333333333, \"#9c179e\"], [0.4444444444444444, \"#bd3786\"], [0.5555555555555556, \"#d8576b\"], [0.6666666666666666, \"#ed7953\"], [0.7777777777777778, \"#fb9f3a\"], [0.8888888888888888, \"#fdca26\"], [1.0, \"#f0f921\"]], \"type\": \"heatmapgl\"}], \"histogram\": [{\"marker\": {\"colorbar\": {\"outlinewidth\": 0, \"ticks\": \"\"}}, \"type\": \"histogram\"}], \"histogram2d\": [{\"colorbar\": {\"outlinewidth\": 0, \"ticks\": \"\"}, \"colorscale\": [[0.0, \"#0d0887\"], [0.1111111111111111, \"#46039f\"], [0.2222222222222222, \"#7201a8\"], [0.3333333333333333, \"#9c179e\"], [0.4444444444444444, \"#bd3786\"], [0.5555555555555556, \"#d8576b\"], [0.6666666666666666, \"#ed7953\"], [0.7777777777777778, \"#fb9f3a\"], [0.8888888888888888, \"#fdca26\"], [1.0, \"#f0f921\"]], \"type\": \"histogram2d\"}], \"histogram2dcontour\": [{\"colorbar\": {\"outlinewidth\": 0, \"ticks\": \"\"}, \"colorscale\": [[0.0, \"#0d0887\"], [0.1111111111111111, \"#46039f\"], [0.2222222222222222, \"#7201a8\"], [0.3333333333333333, \"#9c179e\"], [0.4444444444444444, \"#bd3786\"], [0.5555555555555556, \"#d8576b\"], [0.6666666666666666, \"#ed7953\"], [0.7777777777777778, \"#fb9f3a\"], [0.8888888888888888, \"#fdca26\"], [1.0, \"#f0f921\"]], \"type\": \"histogram2dcontour\"}], \"mesh3d\": [{\"colorbar\": {\"outlinewidth\": 0, \"ticks\": \"\"}, \"type\": \"mesh3d\"}], \"parcoords\": [{\"line\": {\"colorbar\": {\"outlinewidth\": 0, \"ticks\": \"\"}}, \"type\": \"parcoords\"}], \"scatter\": [{\"marker\": {\"colorbar\": {\"outlinewidth\": 0, \"ticks\": \"\"}}, \"type\": \"scatter\"}], \"scatter3d\": [{\"line\": {\"colorbar\": {\"outlinewidth\": 0, \"ticks\": \"\"}}, \"marker\": {\"colorbar\": {\"outlinewidth\": 0, \"ticks\": \"\"}}, \"type\": \"scatter3d\"}], \"scattercarpet\": [{\"marker\": {\"colorbar\": {\"outlinewidth\": 0, \"ticks\": \"\"}}, \"type\": \"scattercarpet\"}], \"scattergeo\": [{\"marker\": {\"colorbar\": {\"outlinewidth\": 0, \"ticks\": \"\"}}, \"type\": \"scattergeo\"}], \"scattergl\": [{\"marker\": {\"colorbar\": {\"outlinewidth\": 0, \"ticks\": \"\"}}, \"type\": \"scattergl\"}], \"scattermapbox\": [{\"marker\": {\"colorbar\": {\"outlinewidth\": 0, \"ticks\": \"\"}}, \"type\": \"scattermapbox\"}], \"scatterpolar\": [{\"marker\": {\"colorbar\": {\"outlinewidth\": 0, \"ticks\": \"\"}}, \"type\": \"scatterpolar\"}], \"scatterpolargl\": [{\"marker\": {\"colorbar\": {\"outlinewidth\": 0, \"ticks\": \"\"}}, \"type\": \"scatterpolargl\"}], \"scatterternary\": [{\"marker\": {\"colorbar\": {\"outlinewidth\": 0, \"ticks\": \"\"}}, \"type\": \"scatterternary\"}], \"surface\": [{\"colorbar\": {\"outlinewidth\": 0, \"ticks\": \"\"}, \"colorscale\": [[0.0, \"#0d0887\"], [0.1111111111111111, \"#46039f\"], [0.2222222222222222, \"#7201a8\"], [0.3333333333333333, \"#9c179e\"], [0.4444444444444444, \"#bd3786\"], [0.5555555555555556, \"#d8576b\"], [0.6666666666666666, \"#ed7953\"], [0.7777777777777778, \"#fb9f3a\"], [0.8888888888888888, \"#fdca26\"], [1.0, \"#f0f921\"]], \"type\": \"surface\"}], \"table\": [{\"cells\": {\"fill\": {\"color\": \"#EBF0F8\"}, \"line\": {\"color\": \"white\"}}, \"header\": {\"fill\": {\"color\": \"#C8D4E3\"}, \"line\": {\"color\": \"white\"}}, \"type\": \"table\"}]}, \"layout\": {\"annotationdefaults\": {\"arrowcolor\": \"#2a3f5f\", \"arrowhead\": 0, \"arrowwidth\": 1}, \"colorscale\": {\"diverging\": [[0, \"#8e0152\"], [0.1, \"#c51b7d\"], [0.2, \"#de77ae\"], [0.3, \"#f1b6da\"], [0.4, \"#fde0ef\"], [0.5, \"#f7f7f7\"], [0.6, \"#e6f5d0\"], [0.7, \"#b8e186\"], [0.8, \"#7fbc41\"], [0.9, \"#4d9221\"], [1, \"#276419\"]], \"sequential\": [[0.0, \"#0d0887\"], [0.1111111111111111, \"#46039f\"], [0.2222222222222222, \"#7201a8\"], [0.3333333333333333, \"#9c179e\"], [0.4444444444444444, \"#bd3786\"], [0.5555555555555556, \"#d8576b\"], [0.6666666666666666, \"#ed7953\"], [0.7777777777777778, \"#fb9f3a\"], [0.8888888888888888, \"#fdca26\"], [1.0, \"#f0f921\"]], \"sequentialminus\": [[0.0, \"#0d0887\"], [0.1111111111111111, \"#46039f\"], [0.2222222222222222, \"#7201a8\"], [0.3333333333333333, \"#9c179e\"], [0.4444444444444444, \"#bd3786\"], [0.5555555555555556, \"#d8576b\"], [0.6666666666666666, \"#ed7953\"], [0.7777777777777778, \"#fb9f3a\"], [0.8888888888888888, \"#fdca26\"], [1.0, \"#f0f921\"]]}, \"colorway\": [\"#636efa\", \"#EF553B\", \"#00cc96\", \"#ab63fa\", \"#FFA15A\", \"#19d3f3\", \"#FF6692\", \"#B6E880\", \"#FF97FF\", \"#FECB52\"], \"font\": {\"color\": \"#2a3f5f\"}, \"geo\": {\"bgcolor\": \"white\", \"lakecolor\": \"white\", \"landcolor\": \"white\", \"showlakes\": true, \"showland\": true, \"subunitcolor\": \"#C8D4E3\"}, \"hoverlabel\": {\"align\": \"left\"}, \"hovermode\": \"closest\", \"mapbox\": {\"style\": \"light\"}, \"paper_bgcolor\": \"white\", \"plot_bgcolor\": \"white\", \"polar\": {\"angularaxis\": {\"gridcolor\": \"#EBF0F8\", \"linecolor\": \"#EBF0F8\", \"ticks\": \"\"}, \"bgcolor\": \"white\", \"radialaxis\": {\"gridcolor\": \"#EBF0F8\", \"linecolor\": \"#EBF0F8\", \"ticks\": \"\"}}, \"scene\": {\"xaxis\": {\"backgroundcolor\": \"white\", \"gridcolor\": \"#DFE8F3\", \"gridwidth\": 2, \"linecolor\": \"#EBF0F8\", \"showbackground\": true, \"ticks\": \"\", \"zerolinecolor\": \"#EBF0F8\"}, \"yaxis\": {\"backgroundcolor\": \"white\", \"gridcolor\": \"#DFE8F3\", \"gridwidth\": 2, \"linecolor\": \"#EBF0F8\", \"showbackground\": true, \"ticks\": \"\", \"zerolinecolor\": \"#EBF0F8\"}, \"zaxis\": {\"backgroundcolor\": \"white\", \"gridcolor\": \"#DFE8F3\", \"gridwidth\": 2, \"linecolor\": \"#EBF0F8\", \"showbackground\": true, \"ticks\": \"\", \"zerolinecolor\": \"#EBF0F8\"}}, \"shapedefaults\": {\"line\": {\"color\": \"#2a3f5f\"}}, \"ternary\": {\"aaxis\": {\"gridcolor\": \"#DFE8F3\", \"linecolor\": \"#A2B1C6\", \"ticks\": \"\"}, \"baxis\": {\"gridcolor\": \"#DFE8F3\", \"linecolor\": \"#A2B1C6\", \"ticks\": \"\"}, \"bgcolor\": \"white\", \"caxis\": {\"gridcolor\": \"#DFE8F3\", \"linecolor\": \"#A2B1C6\", \"ticks\": \"\"}}, \"title\": {\"x\": 0.05}, \"xaxis\": {\"automargin\": true, \"gridcolor\": \"#EBF0F8\", \"linecolor\": \"#EBF0F8\", \"ticks\": \"\", \"zerolinecolor\": \"#EBF0F8\", \"zerolinewidth\": 2}, \"yaxis\": {\"automargin\": true, \"gridcolor\": \"#EBF0F8\", \"linecolor\": \"#EBF0F8\", \"ticks\": \"\", \"zerolinecolor\": \"#EBF0F8\", \"zerolinewidth\": 2}}}, \"xaxis\": {\"autorange\": \"reversed\", \"title\": {\"text\": \"Threshold of context similarity (\\u03b4)\"}}, \"yaxis\": {\"title\": {\"text\": \"Precision\"}}},\n",
       "                        {\"responsive\": true}\n",
       "                    ).then(function(){\n",
       "                            \n",
       "var gd = document.getElementById('6216525b-0214-4e06-b8dc-3cb1ed244ad9');\n",
       "var x = new MutationObserver(function (mutations, observer) {{\n",
       "        var display = window.getComputedStyle(gd).display;\n",
       "        if (!display || display === 'none') {{\n",
       "            console.log([gd, 'removed!']);\n",
       "            Plotly.purge(gd);\n",
       "            observer.disconnect();\n",
       "        }}\n",
       "}});\n",
       "\n",
       "// Listen for the removal of the full notebook cells\n",
       "var notebookContainer = gd.closest('#notebook-container');\n",
       "if (notebookContainer) {{\n",
       "    x.observe(notebookContainer, {childList: true});\n",
       "}}\n",
       "\n",
       "// Listen for the clearing of the current output cell\n",
       "var outputEl = gd.closest('.output');\n",
       "if (outputEl) {{\n",
       "    x.observe(outputEl, {childList: true});\n",
       "}}\n",
       "\n",
       "                        })\n",
       "                };\n",
       "                });\n",
       "            </script>\n",
       "        </div>"
      ]
     },
     "metadata": {},
     "output_type": "display_data"
    }
   ],
   "source": [
    "deltas = np.arange(0.1, 1, 0.1)\n",
    "eval_scores = []\n",
    "\n",
    "for d in deltas:\n",
    "    options['delta'] = d\n",
    "    pred = predict_all(EACOS_CaCF_Post, option=options)\n",
    "    precision = mean_average_precision(r_df_test,pred)\n",
    "    eval_scores.append(precision)\n",
    "    \n",
    "d_eval = pd.DataFrame(eval_scores, index=deltas, columns=['precision'])\n",
    "\n",
    "# Delta influence on the prediction and racall\n",
    "d_precision = go.Figure([go.Scatter(\n",
    "    name='MAP', \n",
    "    x=d_eval.index, \n",
    "    y=d_eval.precision, \n",
    "    text=d_eval.precision,\n",
    "    line_shape='spline'\n",
    ")])\n",
    "\n",
    "d_precision.update_layout(\n",
    "    title='The impact of similarity threshold on the recommendation quality',\n",
    "    xaxis=dict(title='Threshold of context similarity (\\u03B4)', autorange='reversed'), \n",
    "    yaxis=dict(title='MAP'),\n",
    "    template=plot_template\n",
    ")\n",
    "\n",
    "d_precision.show()"
   ]
  },
  {
   "cell_type": "code",
   "execution_count": 36,
   "metadata": {},
   "outputs": [
    {
     "ename": "NameError",
     "evalue": "name 'd_precision' is not defined",
     "output_type": "error",
     "traceback": [
      "\u001b[0;31m---------------------------------------------------------------------------\u001b[0m",
      "\u001b[0;31mNameError\u001b[0m                                 Traceback (most recent call last)",
      "\u001b[0;32m<ipython-input-36-50b7a15b8f60>\u001b[0m in \u001b[0;36m<module>\u001b[0;34m\u001b[0m\n\u001b[0;32m----> 1\u001b[0;31m \u001b[0md_precision\u001b[0m\u001b[0;34m.\u001b[0m\u001b[0mwrite_image\u001b[0m\u001b[0;34m(\u001b[0m\u001b[0;34mf'./plots/d_precision.jpeg'\u001b[0m\u001b[0;34m,\u001b[0m \u001b[0mscale\u001b[0m\u001b[0;34m=\u001b[0m\u001b[0;36m3\u001b[0m\u001b[0;34m)\u001b[0m\u001b[0;34m\u001b[0m\u001b[0;34m\u001b[0m\u001b[0m\n\u001b[0m",
      "\u001b[0;31mNameError\u001b[0m: name 'd_precision' is not defined"
     ]
    }
   ],
   "source": [
    "d_precision.write_image(f'./plots/d_precision.jpeg', scale=3)"
   ]
  },
  {
   "cell_type": "markdown",
   "metadata": {},
   "source": [
    "Five different models have been selected from previous studies to compare with the proposed model. They are classified into non-contextual and context- aware categories.\n",
    "\n",
    "* <strong>Collaborative filtering using asymmetric cosine similarity (ACOS):</strong><br>This method uses an asymmetric cosine similarity measure to find similarities among users, then by collaborative filtering ratings can be predicted [[1]](http://dx.doi.org/10.1016/j.knosys.2015.03.006).\n",
    "* <strong>Collaborative filtering using asymmetric cosine similarity and matrix factorization (MF_ACOS):</strong><br>The difference between this model and the cosine similarity approach is to eliminate the sparsity of the similarity matrix by using the matrix factorization [[1]](http://dx.doi.org/10.1016/j.knosys.2015.03.006).\n",
    "* <strong>Popularity Ranking (PR):</strong><br>The basic idea of this method is to rank tourist locations based on the popularity of each location [[3]](https://www.sciencedirect.com/science/article/abs/pii/S0169023X14000962).\n",
    "* <strong>Context-aware significant tourist locations recommendations (CSR):</strong><br>The basis of this model is to predict the ranking of the tourist location based on the context of the target user. This method uses the likelihood of visiting the destination exactly in the context of the target user to filter out the tourist destinations [[3]](https://www.sciencedirect.com/science/article/abs/pii/S0169023X14000962).\n",
    "* <strong>Context-aware collaborative filtering using Sorensen-Dice coef- ficient (Sorensen CaCF Post):</strong><br>This method uses the Sorensen Dice coefficient to find similarity among users. It also uses a probability ratio to find the visit probability of locations similar to the target user’s context, which is applied to the collaborative filtering results as a post-filtering [[2]](https://www.researchgate.net/publication/309541764_Context-Aware_Location_Recommendation_Using_Geotagged_Photos_in_Social_Media)."
   ]
  },
  {
   "cell_type": "code",
   "execution_count": 37,
   "metadata": {},
   "outputs": [],
   "source": [
    "## Non context-aware methodologies with asymetric similarity measure\n",
    "# Asymmetric cosine similarity\n",
    "def asymmetric_cosine(m, mf=False, **kwarg):\n",
    "    # Cosine similarity matrix distance\n",
    "    cosine = cosine_similarity(m)\n",
    "    # Asymmetric coefficient\n",
    "    def asymCo(X,Y):\n",
    "        co_rated_item = np.intersect1d(np.nonzero(X),np.nonzero(Y)).size\n",
    "        coeff = co_rated_item / np.count_nonzero(X)\n",
    "        return coeff\n",
    "    asym_ind = pairwise_distances(m, metric=asymCo)\n",
    "    # Sorensen similarity matrix distance\n",
    "    sorensen = 1 - pairwise_distances(np.array(m, dtype=bool), metric='dice')\n",
    "    # Final similarity matrix\n",
    "    usim = np.multiply(np.multiply(cosine,asym_ind),sorensen)\n",
    "    # Check if matrix factorization was True\n",
    "    if mf:\n",
    "        binary = np.invert(usim.astype(bool))*1\n",
    "        model = NMF(**kwarg)\n",
    "        W = model.fit_transform(usim)\n",
    "        H = model.components_\n",
    "        factorized_usim = np.dot(W,H)*binary + usim\n",
    "        usim = factorized_usim\n",
    "            \n",
    "    return pd.DataFrame(usim, index=m.index, columns=m.index)\n",
    "\n",
    "# Calculate user similarities\n",
    "asym_cos = asymmetric_cosine(r_df)\n",
    "mf_asym_cos = asymmetric_cosine(r_df, mf=True, solver='mu')\n",
    "\n",
    "# Methods\n",
    "def ACOS(user_id, location_id):\n",
    "    res = CF(user_id, location_id, asym_cos)\n",
    "    return res\n",
    "\n",
    "def MF_ACOS(user_id, location_id):\n",
    "    res = CF(user_id, location_id, mf_asym_cos)\n",
    "    return res"
   ]
  },
  {
   "cell_type": "code",
   "execution_count": 27,
   "metadata": {},
   "outputs": [],
   "source": [
    "## Context-aware methodologies symmetric similarity measure\n",
    "# Similarity measure based on location popularity\n",
    "def loc_pop_sim(df, dist_method='correlation'):\n",
    "    df = df.reset_index()\n",
    "    # Calculate location pop\n",
    "    loc_idf = np.log10(df.groupby('location_id')['user_id'].count().sum()\n",
    "                    /df.groupby('location_id')['user_id'].count()\n",
    "                   ).reset_index(name='idf_score')\n",
    "    loc_idf = df.merge(loc_idf)\n",
    "    \n",
    "    # Create location popularity matrix\n",
    "    r_df = loc_idf.pivot_table(\n",
    "        index='user_id', \n",
    "        columns='location_id', \n",
    "        values='idf_score', \n",
    "        fill_value=0\n",
    "    )\n",
    "    \n",
    "    # Calculate user similarities\n",
    "    if dist_method == 'dice':\n",
    "        dist = 1 - pairwise_distances(r_df.values, metric=dist_method)\n",
    "    else:\n",
    "        dist = pairwise_distances(r_df.values, metric=dist_method)\n",
    "    return pd.DataFrame(dist, r_df.index, r_df.index)\n",
    "\n",
    "# Calculate user similarities\n",
    "sym_locpop_pearson = loc_pop_sim(X_train)\n",
    "sym_locpop_sorensen = loc_pop_sim(X_train, dist_method='dice')\n",
    "\n",
    "# Methods\n",
    "def PR(user_id, location_id):\n",
    "    res = CF(user_id, location_id, sym_locpop_pearson)\n",
    "    return res\n",
    "\n",
    "def CSR(user_id, location_id, c_current, delta):\n",
    "    initial_pred = CF(user_id, location_id, sym_locpop_pearson)\n",
    "    if location_id in r_df:\n",
    "        r = np.array(r_df)\n",
    "        users = r_df.index\n",
    "        locations = r_df.columns\n",
    "        l = np.where(locations==location_id)[0]\n",
    "        c_profile = contexts\n",
    "        c = np.array(c_profile)\n",
    "        u_idx = np.where(users==user_id)[0]\n",
    "        c_current = tuple(c_current)\n",
    "\n",
    "        # Find users who visit the location in the current context \n",
    "        exact_match = contexts[(contexts.location_id==location_id)&(contexts.context==c_current)].user_id.unique()\n",
    "        \n",
    "        if exact_match.size != 0:\n",
    "            idx = np.where(users.isin(exact_match))\n",
    "\n",
    "            # Calculate visit probability in exact-match context\n",
    "            visit_match_prob = r[idx,l].sum() / r[:,l].sum()\n",
    "\n",
    "            # Calculate visit probability of location\n",
    "            visit_loc_prob = r[:,l].sum() / r.sum()\n",
    "\n",
    "            # Calculate visit probability in current context\n",
    "            visit_cnx_prob = contexts[contexts.context==c_current].location_id.count()/r.sum()\n",
    "\n",
    "            visit_prob = (visit_loc_prob * visit_match_prob) / visit_cnx_prob\n",
    "        \n",
    "            return initial_pred * visit_prob\n",
    "        \n",
    "        else:\n",
    "            return initial_pred\n",
    "    \n",
    "    else:\n",
    "        return initial_pred\n",
    "\n",
    "def Sorensen_CaCF_Post(user_id, location_id, c_current, delta):\n",
    "    res = CaCF_Post(user_id, location_id, sym_locpop_sorensen, c_current, delta=.3)\n",
    "    return res"
   ]
  },
  {
   "cell_type": "code",
   "execution_count": 28,
   "metadata": {},
   "outputs": [
    {
     "data": {
      "text/html": [
       "<div>\n",
       "<style scoped>\n",
       "    .dataframe tbody tr th:only-of-type {\n",
       "        vertical-align: middle;\n",
       "    }\n",
       "\n",
       "    .dataframe tbody tr th {\n",
       "        vertical-align: top;\n",
       "    }\n",
       "\n",
       "    .dataframe thead th {\n",
       "        text-align: right;\n",
       "    }\n",
       "</style>\n",
       "<table border=\"1\" class=\"dataframe\">\n",
       "  <thead>\n",
       "    <tr style=\"text-align: right;\">\n",
       "      <th></th>\n",
       "      <th>model</th>\n",
       "      <th>precision</th>\n",
       "    </tr>\n",
       "  </thead>\n",
       "  <tbody>\n",
       "    <tr>\n",
       "      <td>0</td>\n",
       "      <td>PR</td>\n",
       "      <td>0.350000</td>\n",
       "    </tr>\n",
       "    <tr>\n",
       "      <td>1</td>\n",
       "      <td>CSR</td>\n",
       "      <td>0.500000</td>\n",
       "    </tr>\n",
       "    <tr>\n",
       "      <td>2</td>\n",
       "      <td>MF_ACOS</td>\n",
       "      <td>0.500000</td>\n",
       "    </tr>\n",
       "    <tr>\n",
       "      <td>3</td>\n",
       "      <td>Sorensen_CaCF_Post</td>\n",
       "      <td>0.611111</td>\n",
       "    </tr>\n",
       "    <tr>\n",
       "      <td>4</td>\n",
       "      <td>EACOS_CaCF_Post</td>\n",
       "      <td>0.500000</td>\n",
       "    </tr>\n",
       "  </tbody>\n",
       "</table>\n",
       "</div>"
      ],
      "text/plain": [
       "                model  precision\n",
       "0                  PR   0.350000\n",
       "1                 CSR   0.500000\n",
       "2             MF_ACOS   0.500000\n",
       "3  Sorensen_CaCF_Post   0.611111\n",
       "4     EACOS_CaCF_Post   0.500000"
      ]
     },
     "execution_count": 28,
     "metadata": {},
     "output_type": "execute_result"
    }
   ],
   "source": [
    "models = [PR, ACOS, MF_ACOS, CSR, Sorensen_CaCF_Post, EACOS_CaCF_Post]\n",
    "k_range = [5,10,15,20]\n",
    "eval_scores = {}\n",
    "true = r_df_test\n",
    "options['delta'] = .3\n",
    "\n",
    "for model in models:\n",
    "    option = None if model.__name__ in ['ACOS', 'PR', 'MF_ACOS'] else options\n",
    "    val = []\n",
    "    for k in k_range:\n",
    "        pred = predict_all(model, option)\n",
    "        mapk_score = mean_average_precision(true, pred, k)\n",
    "        val.append(mapk_score)\n",
    "        \n",
    "    eval_scores[model.__name__] = val\n",
    "    \n",
    "map_at_k = pd.DataFrame(eval_scores, index=k_range)\n",
    "\n",
    "mapk_comp = go.Figure()\n",
    "\n",
    "for model, ser in map_at_k.iteritems():\n",
    "    mapk_comp.add_trace(go.Bar(\n",
    "        name=model,\n",
    "        x=ser.index,\n",
    "        y=ser.values,\n",
    "        width=.6\n",
    "    ))\n",
    "    \n",
    "mapk_comp.update_layout(\n",
    "    barmode='group',\n",
    "    title='Comparision of the proposed method with the benchmarking methods (MAP@k)',\n",
    "    xaxis=dict(title='NUmber of recommendations'),\n",
    "    yaxis=dict(title='MAP@k', range=[.7,.9]),\n",
    "    template=plot_template\n",
    ")\n",
    "\n",
    "mapk_comp.show()"
   ]
  },
  {
   "cell_type": "code",
   "execution_count": 29,
   "metadata": {},
   "outputs": [
    {
     "data": {
      "application/vnd.plotly.v1+json": {
       "config": {
        "plotlyServerURL": "https://plot.ly"
       },
       "data": [
        {
         "name": "PR",
         "type": "bar",
         "width": 0.6,
         "x": [
          5,
          10,
          15,
          20
         ],
         "y": [
          0.7416666666666667,
          0.7497619047619046,
          0.7527899877899877,
          0.7611415959771224
         ]
        },
        {
         "name": "CSR",
         "type": "bar",
         "width": 0.6,
         "x": [
          5,
          10,
          15,
          20
         ],
         "y": [
          0.7555555555555556,
          0.7555555555555556,
          0.7555555555555556,
          0.7555555555555556
         ]
        },
        {
         "name": "MF_ACOS",
         "type": "bar",
         "width": 0.6,
         "x": [
          5,
          10,
          15,
          20
         ],
         "y": [
          0.7861111111111112,
          0.7912698412698413,
          0.793896103896104,
          0.798500148730412
         ]
        },
        {
         "name": "Sorensen_CaCF_Post",
         "type": "bar",
         "width": 0.6,
         "x": [
          5,
          10,
          15,
          20
         ],
         "y": [
          0.8061111111111111,
          0.8169510582010582,
          0.8183399470899471,
          0.819265873015873
         ]
        },
        {
         "name": "EACOS_CaCF_Post",
         "type": "bar",
         "width": 0.6,
         "x": [
          5,
          10,
          15,
          20
         ],
         "y": [
          0.8227777777777778,
          0.8325992063492064,
          0.8341143578643578,
          0.8351560245310244
         ]
        }
       ],
       "layout": {
        "barmode": "group",
        "template": {
         "data": {
          "bar": [
           {
            "error_x": {
             "color": "#2a3f5f"
            },
            "error_y": {
             "color": "#2a3f5f"
            },
            "marker": {
             "line": {
              "color": "white",
              "width": 0.5
             }
            },
            "type": "bar"
           }
          ],
          "barpolar": [
           {
            "marker": {
             "line": {
              "color": "white",
              "width": 0.5
             }
            },
            "type": "barpolar"
           }
          ],
          "carpet": [
           {
            "aaxis": {
             "endlinecolor": "#2a3f5f",
             "gridcolor": "#C8D4E3",
             "linecolor": "#C8D4E3",
             "minorgridcolor": "#C8D4E3",
             "startlinecolor": "#2a3f5f"
            },
            "baxis": {
             "endlinecolor": "#2a3f5f",
             "gridcolor": "#C8D4E3",
             "linecolor": "#C8D4E3",
             "minorgridcolor": "#C8D4E3",
             "startlinecolor": "#2a3f5f"
            },
            "type": "carpet"
           }
          ],
          "choropleth": [
           {
            "colorbar": {
             "outlinewidth": 0,
             "ticks": ""
            },
            "type": "choropleth"
           }
          ],
          "contour": [
           {
            "colorbar": {
             "outlinewidth": 0,
             "ticks": ""
            },
            "colorscale": [
             [
              0,
              "#0d0887"
             ],
             [
              0.1111111111111111,
              "#46039f"
             ],
             [
              0.2222222222222222,
              "#7201a8"
             ],
             [
              0.3333333333333333,
              "#9c179e"
             ],
             [
              0.4444444444444444,
              "#bd3786"
             ],
             [
              0.5555555555555556,
              "#d8576b"
             ],
             [
              0.6666666666666666,
              "#ed7953"
             ],
             [
              0.7777777777777778,
              "#fb9f3a"
             ],
             [
              0.8888888888888888,
              "#fdca26"
             ],
             [
              1,
              "#f0f921"
             ]
            ],
            "type": "contour"
           }
          ],
          "contourcarpet": [
           {
            "colorbar": {
             "outlinewidth": 0,
             "ticks": ""
            },
            "type": "contourcarpet"
           }
          ],
          "heatmap": [
           {
            "colorbar": {
             "outlinewidth": 0,
             "ticks": ""
            },
            "colorscale": [
             [
              0,
              "#0d0887"
             ],
             [
              0.1111111111111111,
              "#46039f"
             ],
             [
              0.2222222222222222,
              "#7201a8"
             ],
             [
              0.3333333333333333,
              "#9c179e"
             ],
             [
              0.4444444444444444,
              "#bd3786"
             ],
             [
              0.5555555555555556,
              "#d8576b"
             ],
             [
              0.6666666666666666,
              "#ed7953"
             ],
             [
              0.7777777777777778,
              "#fb9f3a"
             ],
             [
              0.8888888888888888,
              "#fdca26"
             ],
             [
              1,
              "#f0f921"
             ]
            ],
            "type": "heatmap"
           }
          ],
          "heatmapgl": [
           {
            "colorbar": {
             "outlinewidth": 0,
             "ticks": ""
            },
            "colorscale": [
             [
              0,
              "#0d0887"
             ],
             [
              0.1111111111111111,
              "#46039f"
             ],
             [
              0.2222222222222222,
              "#7201a8"
             ],
             [
              0.3333333333333333,
              "#9c179e"
             ],
             [
              0.4444444444444444,
              "#bd3786"
             ],
             [
              0.5555555555555556,
              "#d8576b"
             ],
             [
              0.6666666666666666,
              "#ed7953"
             ],
             [
              0.7777777777777778,
              "#fb9f3a"
             ],
             [
              0.8888888888888888,
              "#fdca26"
             ],
             [
              1,
              "#f0f921"
             ]
            ],
            "type": "heatmapgl"
           }
          ],
          "histogram": [
           {
            "marker": {
             "colorbar": {
              "outlinewidth": 0,
              "ticks": ""
             }
            },
            "type": "histogram"
           }
          ],
          "histogram2d": [
           {
            "colorbar": {
             "outlinewidth": 0,
             "ticks": ""
            },
            "colorscale": [
             [
              0,
              "#0d0887"
             ],
             [
              0.1111111111111111,
              "#46039f"
             ],
             [
              0.2222222222222222,
              "#7201a8"
             ],
             [
              0.3333333333333333,
              "#9c179e"
             ],
             [
              0.4444444444444444,
              "#bd3786"
             ],
             [
              0.5555555555555556,
              "#d8576b"
             ],
             [
              0.6666666666666666,
              "#ed7953"
             ],
             [
              0.7777777777777778,
              "#fb9f3a"
             ],
             [
              0.8888888888888888,
              "#fdca26"
             ],
             [
              1,
              "#f0f921"
             ]
            ],
            "type": "histogram2d"
           }
          ],
          "histogram2dcontour": [
           {
            "colorbar": {
             "outlinewidth": 0,
             "ticks": ""
            },
            "colorscale": [
             [
              0,
              "#0d0887"
             ],
             [
              0.1111111111111111,
              "#46039f"
             ],
             [
              0.2222222222222222,
              "#7201a8"
             ],
             [
              0.3333333333333333,
              "#9c179e"
             ],
             [
              0.4444444444444444,
              "#bd3786"
             ],
             [
              0.5555555555555556,
              "#d8576b"
             ],
             [
              0.6666666666666666,
              "#ed7953"
             ],
             [
              0.7777777777777778,
              "#fb9f3a"
             ],
             [
              0.8888888888888888,
              "#fdca26"
             ],
             [
              1,
              "#f0f921"
             ]
            ],
            "type": "histogram2dcontour"
           }
          ],
          "mesh3d": [
           {
            "colorbar": {
             "outlinewidth": 0,
             "ticks": ""
            },
            "type": "mesh3d"
           }
          ],
          "parcoords": [
           {
            "line": {
             "colorbar": {
              "outlinewidth": 0,
              "ticks": ""
             }
            },
            "type": "parcoords"
           }
          ],
          "scatter": [
           {
            "marker": {
             "colorbar": {
              "outlinewidth": 0,
              "ticks": ""
             }
            },
            "type": "scatter"
           }
          ],
          "scatter3d": [
           {
            "line": {
             "colorbar": {
              "outlinewidth": 0,
              "ticks": ""
             }
            },
            "marker": {
             "colorbar": {
              "outlinewidth": 0,
              "ticks": ""
             }
            },
            "type": "scatter3d"
           }
          ],
          "scattercarpet": [
           {
            "marker": {
             "colorbar": {
              "outlinewidth": 0,
              "ticks": ""
             }
            },
            "type": "scattercarpet"
           }
          ],
          "scattergeo": [
           {
            "marker": {
             "colorbar": {
              "outlinewidth": 0,
              "ticks": ""
             }
            },
            "type": "scattergeo"
           }
          ],
          "scattergl": [
           {
            "marker": {
             "colorbar": {
              "outlinewidth": 0,
              "ticks": ""
             }
            },
            "type": "scattergl"
           }
          ],
          "scattermapbox": [
           {
            "marker": {
             "colorbar": {
              "outlinewidth": 0,
              "ticks": ""
             }
            },
            "type": "scattermapbox"
           }
          ],
          "scatterpolar": [
           {
            "marker": {
             "colorbar": {
              "outlinewidth": 0,
              "ticks": ""
             }
            },
            "type": "scatterpolar"
           }
          ],
          "scatterpolargl": [
           {
            "marker": {
             "colorbar": {
              "outlinewidth": 0,
              "ticks": ""
             }
            },
            "type": "scatterpolargl"
           }
          ],
          "scatterternary": [
           {
            "marker": {
             "colorbar": {
              "outlinewidth": 0,
              "ticks": ""
             }
            },
            "type": "scatterternary"
           }
          ],
          "surface": [
           {
            "colorbar": {
             "outlinewidth": 0,
             "ticks": ""
            },
            "colorscale": [
             [
              0,
              "#0d0887"
             ],
             [
              0.1111111111111111,
              "#46039f"
             ],
             [
              0.2222222222222222,
              "#7201a8"
             ],
             [
              0.3333333333333333,
              "#9c179e"
             ],
             [
              0.4444444444444444,
              "#bd3786"
             ],
             [
              0.5555555555555556,
              "#d8576b"
             ],
             [
              0.6666666666666666,
              "#ed7953"
             ],
             [
              0.7777777777777778,
              "#fb9f3a"
             ],
             [
              0.8888888888888888,
              "#fdca26"
             ],
             [
              1,
              "#f0f921"
             ]
            ],
            "type": "surface"
           }
          ],
          "table": [
           {
            "cells": {
             "fill": {
              "color": "#EBF0F8"
             },
             "line": {
              "color": "white"
             }
            },
            "header": {
             "fill": {
              "color": "#C8D4E3"
             },
             "line": {
              "color": "white"
             }
            },
            "type": "table"
           }
          ]
         },
         "layout": {
          "annotationdefaults": {
           "arrowcolor": "#2a3f5f",
           "arrowhead": 0,
           "arrowwidth": 1
          },
          "colorscale": {
           "diverging": [
            [
             0,
             "#8e0152"
            ],
            [
             0.1,
             "#c51b7d"
            ],
            [
             0.2,
             "#de77ae"
            ],
            [
             0.3,
             "#f1b6da"
            ],
            [
             0.4,
             "#fde0ef"
            ],
            [
             0.5,
             "#f7f7f7"
            ],
            [
             0.6,
             "#e6f5d0"
            ],
            [
             0.7,
             "#b8e186"
            ],
            [
             0.8,
             "#7fbc41"
            ],
            [
             0.9,
             "#4d9221"
            ],
            [
             1,
             "#276419"
            ]
           ],
           "sequential": [
            [
             0,
             "#0d0887"
            ],
            [
             0.1111111111111111,
             "#46039f"
            ],
            [
             0.2222222222222222,
             "#7201a8"
            ],
            [
             0.3333333333333333,
             "#9c179e"
            ],
            [
             0.4444444444444444,
             "#bd3786"
            ],
            [
             0.5555555555555556,
             "#d8576b"
            ],
            [
             0.6666666666666666,
             "#ed7953"
            ],
            [
             0.7777777777777778,
             "#fb9f3a"
            ],
            [
             0.8888888888888888,
             "#fdca26"
            ],
            [
             1,
             "#f0f921"
            ]
           ],
           "sequentialminus": [
            [
             0,
             "#0d0887"
            ],
            [
             0.1111111111111111,
             "#46039f"
            ],
            [
             0.2222222222222222,
             "#7201a8"
            ],
            [
             0.3333333333333333,
             "#9c179e"
            ],
            [
             0.4444444444444444,
             "#bd3786"
            ],
            [
             0.5555555555555556,
             "#d8576b"
            ],
            [
             0.6666666666666666,
             "#ed7953"
            ],
            [
             0.7777777777777778,
             "#fb9f3a"
            ],
            [
             0.8888888888888888,
             "#fdca26"
            ],
            [
             1,
             "#f0f921"
            ]
           ]
          },
          "colorway": [
           "#636efa",
           "#EF553B",
           "#00cc96",
           "#ab63fa",
           "#FFA15A",
           "#19d3f3",
           "#FF6692",
           "#B6E880",
           "#FF97FF",
           "#FECB52"
          ],
          "font": {
           "color": "#2a3f5f"
          },
          "geo": {
           "bgcolor": "white",
           "lakecolor": "white",
           "landcolor": "white",
           "showlakes": true,
           "showland": true,
           "subunitcolor": "#C8D4E3"
          },
          "hoverlabel": {
           "align": "left"
          },
          "hovermode": "closest",
          "mapbox": {
           "style": "light"
          },
          "paper_bgcolor": "white",
          "plot_bgcolor": "white",
          "polar": {
           "angularaxis": {
            "gridcolor": "#EBF0F8",
            "linecolor": "#EBF0F8",
            "ticks": ""
           },
           "bgcolor": "white",
           "radialaxis": {
            "gridcolor": "#EBF0F8",
            "linecolor": "#EBF0F8",
            "ticks": ""
           }
          },
          "scene": {
           "xaxis": {
            "backgroundcolor": "white",
            "gridcolor": "#DFE8F3",
            "gridwidth": 2,
            "linecolor": "#EBF0F8",
            "showbackground": true,
            "ticks": "",
            "zerolinecolor": "#EBF0F8"
           },
           "yaxis": {
            "backgroundcolor": "white",
            "gridcolor": "#DFE8F3",
            "gridwidth": 2,
            "linecolor": "#EBF0F8",
            "showbackground": true,
            "ticks": "",
            "zerolinecolor": "#EBF0F8"
           },
           "zaxis": {
            "backgroundcolor": "white",
            "gridcolor": "#DFE8F3",
            "gridwidth": 2,
            "linecolor": "#EBF0F8",
            "showbackground": true,
            "ticks": "",
            "zerolinecolor": "#EBF0F8"
           }
          },
          "shapedefaults": {
           "line": {
            "color": "#2a3f5f"
           }
          },
          "ternary": {
           "aaxis": {
            "gridcolor": "#DFE8F3",
            "linecolor": "#A2B1C6",
            "ticks": ""
           },
           "baxis": {
            "gridcolor": "#DFE8F3",
            "linecolor": "#A2B1C6",
            "ticks": ""
           },
           "bgcolor": "white",
           "caxis": {
            "gridcolor": "#DFE8F3",
            "linecolor": "#A2B1C6",
            "ticks": ""
           }
          },
          "title": {
           "x": 0.05
          },
          "xaxis": {
           "automargin": true,
           "gridcolor": "#EBF0F8",
           "linecolor": "#EBF0F8",
           "ticks": "",
           "zerolinecolor": "#EBF0F8",
           "zerolinewidth": 2
          },
          "yaxis": {
           "automargin": true,
           "gridcolor": "#EBF0F8",
           "linecolor": "#EBF0F8",
           "ticks": "",
           "zerolinecolor": "#EBF0F8",
           "zerolinewidth": 2
          }
         }
        },
        "xaxis": {
         "title": {
          "text": "Number of recommendations"
         }
        },
        "yaxis": {
         "range": [
          0.7,
          0.9
         ],
         "title": {
          "text": "MAP@k"
         }
        }
       }
      },
      "text/html": [
       "<div>\n",
       "        \n",
       "        \n",
       "            <div id=\"4172c10f-a443-49d9-8790-2a23b00ee64c\" class=\"plotly-graph-div\" style=\"height:525px; width:100%;\"></div>\n",
       "            <script type=\"text/javascript\">\n",
       "                require([\"plotly\"], function(Plotly) {\n",
       "                    window.PLOTLYENV=window.PLOTLYENV || {};\n",
       "                    \n",
       "                if (document.getElementById(\"4172c10f-a443-49d9-8790-2a23b00ee64c\")) {\n",
       "                    Plotly.newPlot(\n",
       "                        '4172c10f-a443-49d9-8790-2a23b00ee64c',\n",
       "                        [{\"name\": \"PR\", \"type\": \"bar\", \"width\": 0.6, \"x\": [5, 10, 15, 20], \"y\": [0.7416666666666667, 0.7497619047619046, 0.7527899877899877, 0.7611415959771224]}, {\"name\": \"CSR\", \"type\": \"bar\", \"width\": 0.6, \"x\": [5, 10, 15, 20], \"y\": [0.7555555555555556, 0.7555555555555556, 0.7555555555555556, 0.7555555555555556]}, {\"name\": \"MF_ACOS\", \"type\": \"bar\", \"width\": 0.6, \"x\": [5, 10, 15, 20], \"y\": [0.7861111111111112, 0.7912698412698413, 0.793896103896104, 0.798500148730412]}, {\"name\": \"Sorensen_CaCF_Post\", \"type\": \"bar\", \"width\": 0.6, \"x\": [5, 10, 15, 20], \"y\": [0.8061111111111111, 0.8169510582010582, 0.8183399470899471, 0.819265873015873]}, {\"name\": \"EACOS_CaCF_Post\", \"type\": \"bar\", \"width\": 0.6, \"x\": [5, 10, 15, 20], \"y\": [0.8227777777777778, 0.8325992063492064, 0.8341143578643578, 0.8351560245310244]}],\n",
       "                        {\"barmode\": \"group\", \"template\": {\"data\": {\"bar\": [{\"error_x\": {\"color\": \"#2a3f5f\"}, \"error_y\": {\"color\": \"#2a3f5f\"}, \"marker\": {\"line\": {\"color\": \"white\", \"width\": 0.5}}, \"type\": \"bar\"}], \"barpolar\": [{\"marker\": {\"line\": {\"color\": \"white\", \"width\": 0.5}}, \"type\": \"barpolar\"}], \"carpet\": [{\"aaxis\": {\"endlinecolor\": \"#2a3f5f\", \"gridcolor\": \"#C8D4E3\", \"linecolor\": \"#C8D4E3\", \"minorgridcolor\": \"#C8D4E3\", \"startlinecolor\": \"#2a3f5f\"}, \"baxis\": {\"endlinecolor\": \"#2a3f5f\", \"gridcolor\": \"#C8D4E3\", \"linecolor\": \"#C8D4E3\", \"minorgridcolor\": \"#C8D4E3\", \"startlinecolor\": \"#2a3f5f\"}, \"type\": \"carpet\"}], \"choropleth\": [{\"colorbar\": {\"outlinewidth\": 0, \"ticks\": \"\"}, \"type\": \"choropleth\"}], \"contour\": [{\"colorbar\": {\"outlinewidth\": 0, \"ticks\": \"\"}, \"colorscale\": [[0.0, \"#0d0887\"], [0.1111111111111111, \"#46039f\"], [0.2222222222222222, \"#7201a8\"], [0.3333333333333333, \"#9c179e\"], [0.4444444444444444, \"#bd3786\"], [0.5555555555555556, \"#d8576b\"], [0.6666666666666666, \"#ed7953\"], [0.7777777777777778, \"#fb9f3a\"], [0.8888888888888888, \"#fdca26\"], [1.0, \"#f0f921\"]], \"type\": \"contour\"}], \"contourcarpet\": [{\"colorbar\": {\"outlinewidth\": 0, \"ticks\": \"\"}, \"type\": \"contourcarpet\"}], \"heatmap\": [{\"colorbar\": {\"outlinewidth\": 0, \"ticks\": \"\"}, \"colorscale\": [[0.0, \"#0d0887\"], [0.1111111111111111, \"#46039f\"], [0.2222222222222222, \"#7201a8\"], [0.3333333333333333, \"#9c179e\"], [0.4444444444444444, \"#bd3786\"], [0.5555555555555556, \"#d8576b\"], [0.6666666666666666, \"#ed7953\"], [0.7777777777777778, \"#fb9f3a\"], [0.8888888888888888, \"#fdca26\"], [1.0, \"#f0f921\"]], \"type\": \"heatmap\"}], \"heatmapgl\": [{\"colorbar\": {\"outlinewidth\": 0, \"ticks\": \"\"}, \"colorscale\": [[0.0, \"#0d0887\"], [0.1111111111111111, \"#46039f\"], [0.2222222222222222, \"#7201a8\"], [0.3333333333333333, \"#9c179e\"], [0.4444444444444444, \"#bd3786\"], [0.5555555555555556, \"#d8576b\"], [0.6666666666666666, \"#ed7953\"], [0.7777777777777778, \"#fb9f3a\"], [0.8888888888888888, \"#fdca26\"], [1.0, \"#f0f921\"]], \"type\": \"heatmapgl\"}], \"histogram\": [{\"marker\": {\"colorbar\": {\"outlinewidth\": 0, \"ticks\": \"\"}}, \"type\": \"histogram\"}], \"histogram2d\": [{\"colorbar\": {\"outlinewidth\": 0, \"ticks\": \"\"}, \"colorscale\": [[0.0, \"#0d0887\"], [0.1111111111111111, \"#46039f\"], [0.2222222222222222, \"#7201a8\"], [0.3333333333333333, \"#9c179e\"], [0.4444444444444444, \"#bd3786\"], [0.5555555555555556, \"#d8576b\"], [0.6666666666666666, \"#ed7953\"], [0.7777777777777778, \"#fb9f3a\"], [0.8888888888888888, \"#fdca26\"], [1.0, \"#f0f921\"]], \"type\": \"histogram2d\"}], \"histogram2dcontour\": [{\"colorbar\": {\"outlinewidth\": 0, \"ticks\": \"\"}, \"colorscale\": [[0.0, \"#0d0887\"], [0.1111111111111111, \"#46039f\"], [0.2222222222222222, \"#7201a8\"], [0.3333333333333333, \"#9c179e\"], [0.4444444444444444, \"#bd3786\"], [0.5555555555555556, \"#d8576b\"], [0.6666666666666666, \"#ed7953\"], [0.7777777777777778, \"#fb9f3a\"], [0.8888888888888888, \"#fdca26\"], [1.0, \"#f0f921\"]], \"type\": \"histogram2dcontour\"}], \"mesh3d\": [{\"colorbar\": {\"outlinewidth\": 0, \"ticks\": \"\"}, \"type\": \"mesh3d\"}], \"parcoords\": [{\"line\": {\"colorbar\": {\"outlinewidth\": 0, \"ticks\": \"\"}}, \"type\": \"parcoords\"}], \"scatter\": [{\"marker\": {\"colorbar\": {\"outlinewidth\": 0, \"ticks\": \"\"}}, \"type\": \"scatter\"}], \"scatter3d\": [{\"line\": {\"colorbar\": {\"outlinewidth\": 0, \"ticks\": \"\"}}, \"marker\": {\"colorbar\": {\"outlinewidth\": 0, \"ticks\": \"\"}}, \"type\": \"scatter3d\"}], \"scattercarpet\": [{\"marker\": {\"colorbar\": {\"outlinewidth\": 0, \"ticks\": \"\"}}, \"type\": \"scattercarpet\"}], \"scattergeo\": [{\"marker\": {\"colorbar\": {\"outlinewidth\": 0, \"ticks\": \"\"}}, \"type\": \"scattergeo\"}], \"scattergl\": [{\"marker\": {\"colorbar\": {\"outlinewidth\": 0, \"ticks\": \"\"}}, \"type\": \"scattergl\"}], \"scattermapbox\": [{\"marker\": {\"colorbar\": {\"outlinewidth\": 0, \"ticks\": \"\"}}, \"type\": \"scattermapbox\"}], \"scatterpolar\": [{\"marker\": {\"colorbar\": {\"outlinewidth\": 0, \"ticks\": \"\"}}, \"type\": \"scatterpolar\"}], \"scatterpolargl\": [{\"marker\": {\"colorbar\": {\"outlinewidth\": 0, \"ticks\": \"\"}}, \"type\": \"scatterpolargl\"}], \"scatterternary\": [{\"marker\": {\"colorbar\": {\"outlinewidth\": 0, \"ticks\": \"\"}}, \"type\": \"scatterternary\"}], \"surface\": [{\"colorbar\": {\"outlinewidth\": 0, \"ticks\": \"\"}, \"colorscale\": [[0.0, \"#0d0887\"], [0.1111111111111111, \"#46039f\"], [0.2222222222222222, \"#7201a8\"], [0.3333333333333333, \"#9c179e\"], [0.4444444444444444, \"#bd3786\"], [0.5555555555555556, \"#d8576b\"], [0.6666666666666666, \"#ed7953\"], [0.7777777777777778, \"#fb9f3a\"], [0.8888888888888888, \"#fdca26\"], [1.0, \"#f0f921\"]], \"type\": \"surface\"}], \"table\": [{\"cells\": {\"fill\": {\"color\": \"#EBF0F8\"}, \"line\": {\"color\": \"white\"}}, \"header\": {\"fill\": {\"color\": \"#C8D4E3\"}, \"line\": {\"color\": \"white\"}}, \"type\": \"table\"}]}, \"layout\": {\"annotationdefaults\": {\"arrowcolor\": \"#2a3f5f\", \"arrowhead\": 0, \"arrowwidth\": 1}, \"colorscale\": {\"diverging\": [[0, \"#8e0152\"], [0.1, \"#c51b7d\"], [0.2, \"#de77ae\"], [0.3, \"#f1b6da\"], [0.4, \"#fde0ef\"], [0.5, \"#f7f7f7\"], [0.6, \"#e6f5d0\"], [0.7, \"#b8e186\"], [0.8, \"#7fbc41\"], [0.9, \"#4d9221\"], [1, \"#276419\"]], \"sequential\": [[0.0, \"#0d0887\"], [0.1111111111111111, \"#46039f\"], [0.2222222222222222, \"#7201a8\"], [0.3333333333333333, \"#9c179e\"], [0.4444444444444444, \"#bd3786\"], [0.5555555555555556, \"#d8576b\"], [0.6666666666666666, \"#ed7953\"], [0.7777777777777778, \"#fb9f3a\"], [0.8888888888888888, \"#fdca26\"], [1.0, \"#f0f921\"]], \"sequentialminus\": [[0.0, \"#0d0887\"], [0.1111111111111111, \"#46039f\"], [0.2222222222222222, \"#7201a8\"], [0.3333333333333333, \"#9c179e\"], [0.4444444444444444, \"#bd3786\"], [0.5555555555555556, \"#d8576b\"], [0.6666666666666666, \"#ed7953\"], [0.7777777777777778, \"#fb9f3a\"], [0.8888888888888888, \"#fdca26\"], [1.0, \"#f0f921\"]]}, \"colorway\": [\"#636efa\", \"#EF553B\", \"#00cc96\", \"#ab63fa\", \"#FFA15A\", \"#19d3f3\", \"#FF6692\", \"#B6E880\", \"#FF97FF\", \"#FECB52\"], \"font\": {\"color\": \"#2a3f5f\"}, \"geo\": {\"bgcolor\": \"white\", \"lakecolor\": \"white\", \"landcolor\": \"white\", \"showlakes\": true, \"showland\": true, \"subunitcolor\": \"#C8D4E3\"}, \"hoverlabel\": {\"align\": \"left\"}, \"hovermode\": \"closest\", \"mapbox\": {\"style\": \"light\"}, \"paper_bgcolor\": \"white\", \"plot_bgcolor\": \"white\", \"polar\": {\"angularaxis\": {\"gridcolor\": \"#EBF0F8\", \"linecolor\": \"#EBF0F8\", \"ticks\": \"\"}, \"bgcolor\": \"white\", \"radialaxis\": {\"gridcolor\": \"#EBF0F8\", \"linecolor\": \"#EBF0F8\", \"ticks\": \"\"}}, \"scene\": {\"xaxis\": {\"backgroundcolor\": \"white\", \"gridcolor\": \"#DFE8F3\", \"gridwidth\": 2, \"linecolor\": \"#EBF0F8\", \"showbackground\": true, \"ticks\": \"\", \"zerolinecolor\": \"#EBF0F8\"}, \"yaxis\": {\"backgroundcolor\": \"white\", \"gridcolor\": \"#DFE8F3\", \"gridwidth\": 2, \"linecolor\": \"#EBF0F8\", \"showbackground\": true, \"ticks\": \"\", \"zerolinecolor\": \"#EBF0F8\"}, \"zaxis\": {\"backgroundcolor\": \"white\", \"gridcolor\": \"#DFE8F3\", \"gridwidth\": 2, \"linecolor\": \"#EBF0F8\", \"showbackground\": true, \"ticks\": \"\", \"zerolinecolor\": \"#EBF0F8\"}}, \"shapedefaults\": {\"line\": {\"color\": \"#2a3f5f\"}}, \"ternary\": {\"aaxis\": {\"gridcolor\": \"#DFE8F3\", \"linecolor\": \"#A2B1C6\", \"ticks\": \"\"}, \"baxis\": {\"gridcolor\": \"#DFE8F3\", \"linecolor\": \"#A2B1C6\", \"ticks\": \"\"}, \"bgcolor\": \"white\", \"caxis\": {\"gridcolor\": \"#DFE8F3\", \"linecolor\": \"#A2B1C6\", \"ticks\": \"\"}}, \"title\": {\"x\": 0.05}, \"xaxis\": {\"automargin\": true, \"gridcolor\": \"#EBF0F8\", \"linecolor\": \"#EBF0F8\", \"ticks\": \"\", \"zerolinecolor\": \"#EBF0F8\", \"zerolinewidth\": 2}, \"yaxis\": {\"automargin\": true, \"gridcolor\": \"#EBF0F8\", \"linecolor\": \"#EBF0F8\", \"ticks\": \"\", \"zerolinecolor\": \"#EBF0F8\", \"zerolinewidth\": 2}}}, \"xaxis\": {\"title\": {\"text\": \"Number of recommendations\"}}, \"yaxis\": {\"range\": [0.7, 0.9], \"title\": {\"text\": \"MAP@k\"}}},\n",
       "                        {\"responsive\": true}\n",
       "                    ).then(function(){\n",
       "                            \n",
       "var gd = document.getElementById('4172c10f-a443-49d9-8790-2a23b00ee64c');\n",
       "var x = new MutationObserver(function (mutations, observer) {{\n",
       "        var display = window.getComputedStyle(gd).display;\n",
       "        if (!display || display === 'none') {{\n",
       "            console.log([gd, 'removed!']);\n",
       "            Plotly.purge(gd);\n",
       "            observer.disconnect();\n",
       "        }}\n",
       "}});\n",
       "\n",
       "// Listen for the removal of the full notebook cells\n",
       "var notebookContainer = gd.closest('#notebook-container');\n",
       "if (notebookContainer) {{\n",
       "    x.observe(notebookContainer, {childList: true});\n",
       "}}\n",
       "\n",
       "// Listen for the clearing of the current output cell\n",
       "var outputEl = gd.closest('.output');\n",
       "if (outputEl) {{\n",
       "    x.observe(outputEl, {childList: true});\n",
       "}}\n",
       "\n",
       "                        })\n",
       "                };\n",
       "                });\n",
       "            </script>\n",
       "        </div>"
      ]
     },
     "metadata": {},
     "output_type": "display_data"
    }
   ],
   "source": [
    "k_range = [5,10,15,20]\n",
    "eval_scores = {}\n",
    "true = r_df_test\n",
    "options['delta'] = .3\n",
    "\n",
    "for model in models:\n",
    "    option = None if model.__name__ in ['COS', 'ACOS', 'PR', 'MF_ACOS'] else options\n",
    "    val = []\n",
    "    for k in k_range:\n",
    "        pred = predict_all(model, option)\n",
    "        mapk_score = mean_average_precision(true, pred, k)\n",
    "        val.append(mapk_score)\n",
    "        \n",
    "    eval_scores[model.__name__] = val\n",
    "    \n",
    "map_at_k = pd.DataFrame(eval_scores, index=k_range)\n",
    "\n",
    "mapk_comp = go.Figure()\n",
    "\n",
    "for model, ser in map_at_k.iteritems():\n",
    "    mapk_comp.add_trace(go.Bar(\n",
    "        name=model,\n",
    "        x=ser.index,\n",
    "        y=ser.values,\n",
    "        width=.6\n",
    "    ))\n",
    "    \n",
    "mapk_comp.update_layout(\n",
    "    barmode='group',\n",
    "#     title='Performance comparision in terms of MAP@k',\n",
    "    xaxis=dict(title='Number of recommendations'),\n",
    "    yaxis=dict(title='MAP@k', range=[.7,.9]),\n",
    "    template=plot_template\n",
    ")\n",
    "\n",
    "mapk_comp.show()"
   ]
  },
  {
   "cell_type": "code",
   "execution_count": 30,
   "metadata": {},
   "outputs": [],
   "source": [
    "mapk_comp.write_image(f'./plots/mapk_comp.jpeg', scale=3)"
   ]
  },
  {
   "cell_type": "code",
   "execution_count": 31,
   "metadata": {},
   "outputs": [
    {
     "name": "stdout",
     "output_type": "stream",
     "text": [
      "CSR\n"
     ]
    },
    {
     "data": {
      "application/vnd.plotly.v1+json": {
       "config": {
        "plotlyServerURL": "https://plot.ly"
       },
       "data": [
        {
         "marker": {
          "color": [
           0,
           1,
           2,
           3,
           4
          ],
          "colorscale": [
           [
            0,
            "#440154"
           ],
           [
            0.1111111111111111,
            "#482878"
           ],
           [
            0.2222222222222222,
            "#3e4989"
           ],
           [
            0.3333333333333333,
            "#31688e"
           ],
           [
            0.4444444444444444,
            "#26828e"
           ],
           [
            0.5555555555555556,
            "#1f9e89"
           ],
           [
            0.6666666666666666,
            "#35b779"
           ],
           [
            0.7777777777777778,
            "#6ece58"
           ],
           [
            0.8888888888888888,
            "#b5de2b"
           ],
           [
            1,
            "#fde725"
           ]
          ]
         },
         "text": [
          1.61,
          1.61,
          1.59,
          1.1,
          1.05
         ],
         "textposition": "outside",
         "type": "bar",
         "width": 0.5,
         "x": [
          "PR",
          "CSR",
          "MF_ACOS",
          "Sorensen_CaCF_Post",
          "EACOS_CaCF_Post"
         ],
         "y": [
          1.6070084003477487,
          1.6070084003477487,
          1.5881544400402992,
          1.1019970682965368,
          1.0456617575397948
         ]
        }
       ],
       "layout": {
        "barmode": "group",
        "template": {
         "data": {
          "bar": [
           {
            "error_x": {
             "color": "#2a3f5f"
            },
            "error_y": {
             "color": "#2a3f5f"
            },
            "marker": {
             "line": {
              "color": "white",
              "width": 0.5
             }
            },
            "type": "bar"
           }
          ],
          "barpolar": [
           {
            "marker": {
             "line": {
              "color": "white",
              "width": 0.5
             }
            },
            "type": "barpolar"
           }
          ],
          "carpet": [
           {
            "aaxis": {
             "endlinecolor": "#2a3f5f",
             "gridcolor": "#C8D4E3",
             "linecolor": "#C8D4E3",
             "minorgridcolor": "#C8D4E3",
             "startlinecolor": "#2a3f5f"
            },
            "baxis": {
             "endlinecolor": "#2a3f5f",
             "gridcolor": "#C8D4E3",
             "linecolor": "#C8D4E3",
             "minorgridcolor": "#C8D4E3",
             "startlinecolor": "#2a3f5f"
            },
            "type": "carpet"
           }
          ],
          "choropleth": [
           {
            "colorbar": {
             "outlinewidth": 0,
             "ticks": ""
            },
            "type": "choropleth"
           }
          ],
          "contour": [
           {
            "colorbar": {
             "outlinewidth": 0,
             "ticks": ""
            },
            "colorscale": [
             [
              0,
              "#0d0887"
             ],
             [
              0.1111111111111111,
              "#46039f"
             ],
             [
              0.2222222222222222,
              "#7201a8"
             ],
             [
              0.3333333333333333,
              "#9c179e"
             ],
             [
              0.4444444444444444,
              "#bd3786"
             ],
             [
              0.5555555555555556,
              "#d8576b"
             ],
             [
              0.6666666666666666,
              "#ed7953"
             ],
             [
              0.7777777777777778,
              "#fb9f3a"
             ],
             [
              0.8888888888888888,
              "#fdca26"
             ],
             [
              1,
              "#f0f921"
             ]
            ],
            "type": "contour"
           }
          ],
          "contourcarpet": [
           {
            "colorbar": {
             "outlinewidth": 0,
             "ticks": ""
            },
            "type": "contourcarpet"
           }
          ],
          "heatmap": [
           {
            "colorbar": {
             "outlinewidth": 0,
             "ticks": ""
            },
            "colorscale": [
             [
              0,
              "#0d0887"
             ],
             [
              0.1111111111111111,
              "#46039f"
             ],
             [
              0.2222222222222222,
              "#7201a8"
             ],
             [
              0.3333333333333333,
              "#9c179e"
             ],
             [
              0.4444444444444444,
              "#bd3786"
             ],
             [
              0.5555555555555556,
              "#d8576b"
             ],
             [
              0.6666666666666666,
              "#ed7953"
             ],
             [
              0.7777777777777778,
              "#fb9f3a"
             ],
             [
              0.8888888888888888,
              "#fdca26"
             ],
             [
              1,
              "#f0f921"
             ]
            ],
            "type": "heatmap"
           }
          ],
          "heatmapgl": [
           {
            "colorbar": {
             "outlinewidth": 0,
             "ticks": ""
            },
            "colorscale": [
             [
              0,
              "#0d0887"
             ],
             [
              0.1111111111111111,
              "#46039f"
             ],
             [
              0.2222222222222222,
              "#7201a8"
             ],
             [
              0.3333333333333333,
              "#9c179e"
             ],
             [
              0.4444444444444444,
              "#bd3786"
             ],
             [
              0.5555555555555556,
              "#d8576b"
             ],
             [
              0.6666666666666666,
              "#ed7953"
             ],
             [
              0.7777777777777778,
              "#fb9f3a"
             ],
             [
              0.8888888888888888,
              "#fdca26"
             ],
             [
              1,
              "#f0f921"
             ]
            ],
            "type": "heatmapgl"
           }
          ],
          "histogram": [
           {
            "marker": {
             "colorbar": {
              "outlinewidth": 0,
              "ticks": ""
             }
            },
            "type": "histogram"
           }
          ],
          "histogram2d": [
           {
            "colorbar": {
             "outlinewidth": 0,
             "ticks": ""
            },
            "colorscale": [
             [
              0,
              "#0d0887"
             ],
             [
              0.1111111111111111,
              "#46039f"
             ],
             [
              0.2222222222222222,
              "#7201a8"
             ],
             [
              0.3333333333333333,
              "#9c179e"
             ],
             [
              0.4444444444444444,
              "#bd3786"
             ],
             [
              0.5555555555555556,
              "#d8576b"
             ],
             [
              0.6666666666666666,
              "#ed7953"
             ],
             [
              0.7777777777777778,
              "#fb9f3a"
             ],
             [
              0.8888888888888888,
              "#fdca26"
             ],
             [
              1,
              "#f0f921"
             ]
            ],
            "type": "histogram2d"
           }
          ],
          "histogram2dcontour": [
           {
            "colorbar": {
             "outlinewidth": 0,
             "ticks": ""
            },
            "colorscale": [
             [
              0,
              "#0d0887"
             ],
             [
              0.1111111111111111,
              "#46039f"
             ],
             [
              0.2222222222222222,
              "#7201a8"
             ],
             [
              0.3333333333333333,
              "#9c179e"
             ],
             [
              0.4444444444444444,
              "#bd3786"
             ],
             [
              0.5555555555555556,
              "#d8576b"
             ],
             [
              0.6666666666666666,
              "#ed7953"
             ],
             [
              0.7777777777777778,
              "#fb9f3a"
             ],
             [
              0.8888888888888888,
              "#fdca26"
             ],
             [
              1,
              "#f0f921"
             ]
            ],
            "type": "histogram2dcontour"
           }
          ],
          "mesh3d": [
           {
            "colorbar": {
             "outlinewidth": 0,
             "ticks": ""
            },
            "type": "mesh3d"
           }
          ],
          "parcoords": [
           {
            "line": {
             "colorbar": {
              "outlinewidth": 0,
              "ticks": ""
             }
            },
            "type": "parcoords"
           }
          ],
          "scatter": [
           {
            "marker": {
             "colorbar": {
              "outlinewidth": 0,
              "ticks": ""
             }
            },
            "type": "scatter"
           }
          ],
          "scatter3d": [
           {
            "line": {
             "colorbar": {
              "outlinewidth": 0,
              "ticks": ""
             }
            },
            "marker": {
             "colorbar": {
              "outlinewidth": 0,
              "ticks": ""
             }
            },
            "type": "scatter3d"
           }
          ],
          "scattercarpet": [
           {
            "marker": {
             "colorbar": {
              "outlinewidth": 0,
              "ticks": ""
             }
            },
            "type": "scattercarpet"
           }
          ],
          "scattergeo": [
           {
            "marker": {
             "colorbar": {
              "outlinewidth": 0,
              "ticks": ""
             }
            },
            "type": "scattergeo"
           }
          ],
          "scattergl": [
           {
            "marker": {
             "colorbar": {
              "outlinewidth": 0,
              "ticks": ""
             }
            },
            "type": "scattergl"
           }
          ],
          "scattermapbox": [
           {
            "marker": {
             "colorbar": {
              "outlinewidth": 0,
              "ticks": ""
             }
            },
            "type": "scattermapbox"
           }
          ],
          "scatterpolar": [
           {
            "marker": {
             "colorbar": {
              "outlinewidth": 0,
              "ticks": ""
             }
            },
            "type": "scatterpolar"
           }
          ],
          "scatterpolargl": [
           {
            "marker": {
             "colorbar": {
              "outlinewidth": 0,
              "ticks": ""
             }
            },
            "type": "scatterpolargl"
           }
          ],
          "scatterternary": [
           {
            "marker": {
             "colorbar": {
              "outlinewidth": 0,
              "ticks": ""
             }
            },
            "type": "scatterternary"
           }
          ],
          "surface": [
           {
            "colorbar": {
             "outlinewidth": 0,
             "ticks": ""
            },
            "colorscale": [
             [
              0,
              "#0d0887"
             ],
             [
              0.1111111111111111,
              "#46039f"
             ],
             [
              0.2222222222222222,
              "#7201a8"
             ],
             [
              0.3333333333333333,
              "#9c179e"
             ],
             [
              0.4444444444444444,
              "#bd3786"
             ],
             [
              0.5555555555555556,
              "#d8576b"
             ],
             [
              0.6666666666666666,
              "#ed7953"
             ],
             [
              0.7777777777777778,
              "#fb9f3a"
             ],
             [
              0.8888888888888888,
              "#fdca26"
             ],
             [
              1,
              "#f0f921"
             ]
            ],
            "type": "surface"
           }
          ],
          "table": [
           {
            "cells": {
             "fill": {
              "color": "#EBF0F8"
             },
             "line": {
              "color": "white"
             }
            },
            "header": {
             "fill": {
              "color": "#C8D4E3"
             },
             "line": {
              "color": "white"
             }
            },
            "type": "table"
           }
          ]
         },
         "layout": {
          "annotationdefaults": {
           "arrowcolor": "#2a3f5f",
           "arrowhead": 0,
           "arrowwidth": 1
          },
          "colorscale": {
           "diverging": [
            [
             0,
             "#8e0152"
            ],
            [
             0.1,
             "#c51b7d"
            ],
            [
             0.2,
             "#de77ae"
            ],
            [
             0.3,
             "#f1b6da"
            ],
            [
             0.4,
             "#fde0ef"
            ],
            [
             0.5,
             "#f7f7f7"
            ],
            [
             0.6,
             "#e6f5d0"
            ],
            [
             0.7,
             "#b8e186"
            ],
            [
             0.8,
             "#7fbc41"
            ],
            [
             0.9,
             "#4d9221"
            ],
            [
             1,
             "#276419"
            ]
           ],
           "sequential": [
            [
             0,
             "#0d0887"
            ],
            [
             0.1111111111111111,
             "#46039f"
            ],
            [
             0.2222222222222222,
             "#7201a8"
            ],
            [
             0.3333333333333333,
             "#9c179e"
            ],
            [
             0.4444444444444444,
             "#bd3786"
            ],
            [
             0.5555555555555556,
             "#d8576b"
            ],
            [
             0.6666666666666666,
             "#ed7953"
            ],
            [
             0.7777777777777778,
             "#fb9f3a"
            ],
            [
             0.8888888888888888,
             "#fdca26"
            ],
            [
             1,
             "#f0f921"
            ]
           ],
           "sequentialminus": [
            [
             0,
             "#0d0887"
            ],
            [
             0.1111111111111111,
             "#46039f"
            ],
            [
             0.2222222222222222,
             "#7201a8"
            ],
            [
             0.3333333333333333,
             "#9c179e"
            ],
            [
             0.4444444444444444,
             "#bd3786"
            ],
            [
             0.5555555555555556,
             "#d8576b"
            ],
            [
             0.6666666666666666,
             "#ed7953"
            ],
            [
             0.7777777777777778,
             "#fb9f3a"
            ],
            [
             0.8888888888888888,
             "#fdca26"
            ],
            [
             1,
             "#f0f921"
            ]
           ]
          },
          "colorway": [
           "#636efa",
           "#EF553B",
           "#00cc96",
           "#ab63fa",
           "#FFA15A",
           "#19d3f3",
           "#FF6692",
           "#B6E880",
           "#FF97FF",
           "#FECB52"
          ],
          "font": {
           "color": "#2a3f5f"
          },
          "geo": {
           "bgcolor": "white",
           "lakecolor": "white",
           "landcolor": "white",
           "showlakes": true,
           "showland": true,
           "subunitcolor": "#C8D4E3"
          },
          "hoverlabel": {
           "align": "left"
          },
          "hovermode": "closest",
          "mapbox": {
           "style": "light"
          },
          "paper_bgcolor": "white",
          "plot_bgcolor": "white",
          "polar": {
           "angularaxis": {
            "gridcolor": "#EBF0F8",
            "linecolor": "#EBF0F8",
            "ticks": ""
           },
           "bgcolor": "white",
           "radialaxis": {
            "gridcolor": "#EBF0F8",
            "linecolor": "#EBF0F8",
            "ticks": ""
           }
          },
          "scene": {
           "xaxis": {
            "backgroundcolor": "white",
            "gridcolor": "#DFE8F3",
            "gridwidth": 2,
            "linecolor": "#EBF0F8",
            "showbackground": true,
            "ticks": "",
            "zerolinecolor": "#EBF0F8"
           },
           "yaxis": {
            "backgroundcolor": "white",
            "gridcolor": "#DFE8F3",
            "gridwidth": 2,
            "linecolor": "#EBF0F8",
            "showbackground": true,
            "ticks": "",
            "zerolinecolor": "#EBF0F8"
           },
           "zaxis": {
            "backgroundcolor": "white",
            "gridcolor": "#DFE8F3",
            "gridwidth": 2,
            "linecolor": "#EBF0F8",
            "showbackground": true,
            "ticks": "",
            "zerolinecolor": "#EBF0F8"
           }
          },
          "shapedefaults": {
           "line": {
            "color": "#2a3f5f"
           }
          },
          "ternary": {
           "aaxis": {
            "gridcolor": "#DFE8F3",
            "linecolor": "#A2B1C6",
            "ticks": ""
           },
           "baxis": {
            "gridcolor": "#DFE8F3",
            "linecolor": "#A2B1C6",
            "ticks": ""
           },
           "bgcolor": "white",
           "caxis": {
            "gridcolor": "#DFE8F3",
            "linecolor": "#A2B1C6",
            "ticks": ""
           }
          },
          "title": {
           "x": 0.05
          },
          "xaxis": {
           "automargin": true,
           "gridcolor": "#EBF0F8",
           "linecolor": "#EBF0F8",
           "ticks": "",
           "zerolinecolor": "#EBF0F8",
           "zerolinewidth": 2
          },
          "yaxis": {
           "automargin": true,
           "gridcolor": "#EBF0F8",
           "linecolor": "#EBF0F8",
           "ticks": "",
           "zerolinecolor": "#EBF0F8",
           "zerolinewidth": 2
          }
         }
        },
        "yaxis": {
         "title": {
          "text": "RMSE"
         }
        }
       }
      },
      "text/html": [
       "<div>\n",
       "        \n",
       "        \n",
       "            <div id=\"02e18737-78f4-4dfb-9f3e-89b3d2cef353\" class=\"plotly-graph-div\" style=\"height:525px; width:100%;\"></div>\n",
       "            <script type=\"text/javascript\">\n",
       "                require([\"plotly\"], function(Plotly) {\n",
       "                    window.PLOTLYENV=window.PLOTLYENV || {};\n",
       "                    \n",
       "                if (document.getElementById(\"02e18737-78f4-4dfb-9f3e-89b3d2cef353\")) {\n",
       "                    Plotly.newPlot(\n",
       "                        '02e18737-78f4-4dfb-9f3e-89b3d2cef353',\n",
       "                        [{\"marker\": {\"color\": [0, 1, 2, 3, 4], \"colorscale\": [[0.0, \"#440154\"], [0.1111111111111111, \"#482878\"], [0.2222222222222222, \"#3e4989\"], [0.3333333333333333, \"#31688e\"], [0.4444444444444444, \"#26828e\"], [0.5555555555555556, \"#1f9e89\"], [0.6666666666666666, \"#35b779\"], [0.7777777777777778, \"#6ece58\"], [0.8888888888888888, \"#b5de2b\"], [1.0, \"#fde725\"]]}, \"text\": [1.61, 1.61, 1.59, 1.1, 1.05], \"textposition\": \"outside\", \"type\": \"bar\", \"width\": 0.5, \"x\": [\"PR\", \"CSR\", \"MF_ACOS\", \"Sorensen_CaCF_Post\", \"EACOS_CaCF_Post\"], \"y\": [1.6070084003477487, 1.6070084003477487, 1.5881544400402992, 1.1019970682965368, 1.0456617575397948]}],\n",
       "                        {\"barmode\": \"group\", \"template\": {\"data\": {\"bar\": [{\"error_x\": {\"color\": \"#2a3f5f\"}, \"error_y\": {\"color\": \"#2a3f5f\"}, \"marker\": {\"line\": {\"color\": \"white\", \"width\": 0.5}}, \"type\": \"bar\"}], \"barpolar\": [{\"marker\": {\"line\": {\"color\": \"white\", \"width\": 0.5}}, \"type\": \"barpolar\"}], \"carpet\": [{\"aaxis\": {\"endlinecolor\": \"#2a3f5f\", \"gridcolor\": \"#C8D4E3\", \"linecolor\": \"#C8D4E3\", \"minorgridcolor\": \"#C8D4E3\", \"startlinecolor\": \"#2a3f5f\"}, \"baxis\": {\"endlinecolor\": \"#2a3f5f\", \"gridcolor\": \"#C8D4E3\", \"linecolor\": \"#C8D4E3\", \"minorgridcolor\": \"#C8D4E3\", \"startlinecolor\": \"#2a3f5f\"}, \"type\": \"carpet\"}], \"choropleth\": [{\"colorbar\": {\"outlinewidth\": 0, \"ticks\": \"\"}, \"type\": \"choropleth\"}], \"contour\": [{\"colorbar\": {\"outlinewidth\": 0, \"ticks\": \"\"}, \"colorscale\": [[0.0, \"#0d0887\"], [0.1111111111111111, \"#46039f\"], [0.2222222222222222, \"#7201a8\"], [0.3333333333333333, \"#9c179e\"], [0.4444444444444444, \"#bd3786\"], [0.5555555555555556, \"#d8576b\"], [0.6666666666666666, \"#ed7953\"], [0.7777777777777778, \"#fb9f3a\"], [0.8888888888888888, \"#fdca26\"], [1.0, \"#f0f921\"]], \"type\": \"contour\"}], \"contourcarpet\": [{\"colorbar\": {\"outlinewidth\": 0, \"ticks\": \"\"}, \"type\": \"contourcarpet\"}], \"heatmap\": [{\"colorbar\": {\"outlinewidth\": 0, \"ticks\": \"\"}, \"colorscale\": [[0.0, \"#0d0887\"], [0.1111111111111111, \"#46039f\"], [0.2222222222222222, \"#7201a8\"], [0.3333333333333333, \"#9c179e\"], [0.4444444444444444, \"#bd3786\"], [0.5555555555555556, \"#d8576b\"], [0.6666666666666666, \"#ed7953\"], [0.7777777777777778, \"#fb9f3a\"], [0.8888888888888888, \"#fdca26\"], [1.0, \"#f0f921\"]], \"type\": \"heatmap\"}], \"heatmapgl\": [{\"colorbar\": {\"outlinewidth\": 0, \"ticks\": \"\"}, \"colorscale\": [[0.0, \"#0d0887\"], [0.1111111111111111, \"#46039f\"], [0.2222222222222222, \"#7201a8\"], [0.3333333333333333, \"#9c179e\"], [0.4444444444444444, \"#bd3786\"], [0.5555555555555556, \"#d8576b\"], [0.6666666666666666, \"#ed7953\"], [0.7777777777777778, \"#fb9f3a\"], [0.8888888888888888, \"#fdca26\"], [1.0, \"#f0f921\"]], \"type\": \"heatmapgl\"}], \"histogram\": [{\"marker\": {\"colorbar\": {\"outlinewidth\": 0, \"ticks\": \"\"}}, \"type\": \"histogram\"}], \"histogram2d\": [{\"colorbar\": {\"outlinewidth\": 0, \"ticks\": \"\"}, \"colorscale\": [[0.0, \"#0d0887\"], [0.1111111111111111, \"#46039f\"], [0.2222222222222222, \"#7201a8\"], [0.3333333333333333, \"#9c179e\"], [0.4444444444444444, \"#bd3786\"], [0.5555555555555556, \"#d8576b\"], [0.6666666666666666, \"#ed7953\"], [0.7777777777777778, \"#fb9f3a\"], [0.8888888888888888, \"#fdca26\"], [1.0, \"#f0f921\"]], \"type\": \"histogram2d\"}], \"histogram2dcontour\": [{\"colorbar\": {\"outlinewidth\": 0, \"ticks\": \"\"}, \"colorscale\": [[0.0, \"#0d0887\"], [0.1111111111111111, \"#46039f\"], [0.2222222222222222, \"#7201a8\"], [0.3333333333333333, \"#9c179e\"], [0.4444444444444444, \"#bd3786\"], [0.5555555555555556, \"#d8576b\"], [0.6666666666666666, \"#ed7953\"], [0.7777777777777778, \"#fb9f3a\"], [0.8888888888888888, \"#fdca26\"], [1.0, \"#f0f921\"]], \"type\": \"histogram2dcontour\"}], \"mesh3d\": [{\"colorbar\": {\"outlinewidth\": 0, \"ticks\": \"\"}, \"type\": \"mesh3d\"}], \"parcoords\": [{\"line\": {\"colorbar\": {\"outlinewidth\": 0, \"ticks\": \"\"}}, \"type\": \"parcoords\"}], \"scatter\": [{\"marker\": {\"colorbar\": {\"outlinewidth\": 0, \"ticks\": \"\"}}, \"type\": \"scatter\"}], \"scatter3d\": [{\"line\": {\"colorbar\": {\"outlinewidth\": 0, \"ticks\": \"\"}}, \"marker\": {\"colorbar\": {\"outlinewidth\": 0, \"ticks\": \"\"}}, \"type\": \"scatter3d\"}], \"scattercarpet\": [{\"marker\": {\"colorbar\": {\"outlinewidth\": 0, \"ticks\": \"\"}}, \"type\": \"scattercarpet\"}], \"scattergeo\": [{\"marker\": {\"colorbar\": {\"outlinewidth\": 0, \"ticks\": \"\"}}, \"type\": \"scattergeo\"}], \"scattergl\": [{\"marker\": {\"colorbar\": {\"outlinewidth\": 0, \"ticks\": \"\"}}, \"type\": \"scattergl\"}], \"scattermapbox\": [{\"marker\": {\"colorbar\": {\"outlinewidth\": 0, \"ticks\": \"\"}}, \"type\": \"scattermapbox\"}], \"scatterpolar\": [{\"marker\": {\"colorbar\": {\"outlinewidth\": 0, \"ticks\": \"\"}}, \"type\": \"scatterpolar\"}], \"scatterpolargl\": [{\"marker\": {\"colorbar\": {\"outlinewidth\": 0, \"ticks\": \"\"}}, \"type\": \"scatterpolargl\"}], \"scatterternary\": [{\"marker\": {\"colorbar\": {\"outlinewidth\": 0, \"ticks\": \"\"}}, \"type\": \"scatterternary\"}], \"surface\": [{\"colorbar\": {\"outlinewidth\": 0, \"ticks\": \"\"}, \"colorscale\": [[0.0, \"#0d0887\"], [0.1111111111111111, \"#46039f\"], [0.2222222222222222, \"#7201a8\"], [0.3333333333333333, \"#9c179e\"], [0.4444444444444444, \"#bd3786\"], [0.5555555555555556, \"#d8576b\"], [0.6666666666666666, \"#ed7953\"], [0.7777777777777778, \"#fb9f3a\"], [0.8888888888888888, \"#fdca26\"], [1.0, \"#f0f921\"]], \"type\": \"surface\"}], \"table\": [{\"cells\": {\"fill\": {\"color\": \"#EBF0F8\"}, \"line\": {\"color\": \"white\"}}, \"header\": {\"fill\": {\"color\": \"#C8D4E3\"}, \"line\": {\"color\": \"white\"}}, \"type\": \"table\"}]}, \"layout\": {\"annotationdefaults\": {\"arrowcolor\": \"#2a3f5f\", \"arrowhead\": 0, \"arrowwidth\": 1}, \"colorscale\": {\"diverging\": [[0, \"#8e0152\"], [0.1, \"#c51b7d\"], [0.2, \"#de77ae\"], [0.3, \"#f1b6da\"], [0.4, \"#fde0ef\"], [0.5, \"#f7f7f7\"], [0.6, \"#e6f5d0\"], [0.7, \"#b8e186\"], [0.8, \"#7fbc41\"], [0.9, \"#4d9221\"], [1, \"#276419\"]], \"sequential\": [[0.0, \"#0d0887\"], [0.1111111111111111, \"#46039f\"], [0.2222222222222222, \"#7201a8\"], [0.3333333333333333, \"#9c179e\"], [0.4444444444444444, \"#bd3786\"], [0.5555555555555556, \"#d8576b\"], [0.6666666666666666, \"#ed7953\"], [0.7777777777777778, \"#fb9f3a\"], [0.8888888888888888, \"#fdca26\"], [1.0, \"#f0f921\"]], \"sequentialminus\": [[0.0, \"#0d0887\"], [0.1111111111111111, \"#46039f\"], [0.2222222222222222, \"#7201a8\"], [0.3333333333333333, \"#9c179e\"], [0.4444444444444444, \"#bd3786\"], [0.5555555555555556, \"#d8576b\"], [0.6666666666666666, \"#ed7953\"], [0.7777777777777778, \"#fb9f3a\"], [0.8888888888888888, \"#fdca26\"], [1.0, \"#f0f921\"]]}, \"colorway\": [\"#636efa\", \"#EF553B\", \"#00cc96\", \"#ab63fa\", \"#FFA15A\", \"#19d3f3\", \"#FF6692\", \"#B6E880\", \"#FF97FF\", \"#FECB52\"], \"font\": {\"color\": \"#2a3f5f\"}, \"geo\": {\"bgcolor\": \"white\", \"lakecolor\": \"white\", \"landcolor\": \"white\", \"showlakes\": true, \"showland\": true, \"subunitcolor\": \"#C8D4E3\"}, \"hoverlabel\": {\"align\": \"left\"}, \"hovermode\": \"closest\", \"mapbox\": {\"style\": \"light\"}, \"paper_bgcolor\": \"white\", \"plot_bgcolor\": \"white\", \"polar\": {\"angularaxis\": {\"gridcolor\": \"#EBF0F8\", \"linecolor\": \"#EBF0F8\", \"ticks\": \"\"}, \"bgcolor\": \"white\", \"radialaxis\": {\"gridcolor\": \"#EBF0F8\", \"linecolor\": \"#EBF0F8\", \"ticks\": \"\"}}, \"scene\": {\"xaxis\": {\"backgroundcolor\": \"white\", \"gridcolor\": \"#DFE8F3\", \"gridwidth\": 2, \"linecolor\": \"#EBF0F8\", \"showbackground\": true, \"ticks\": \"\", \"zerolinecolor\": \"#EBF0F8\"}, \"yaxis\": {\"backgroundcolor\": \"white\", \"gridcolor\": \"#DFE8F3\", \"gridwidth\": 2, \"linecolor\": \"#EBF0F8\", \"showbackground\": true, \"ticks\": \"\", \"zerolinecolor\": \"#EBF0F8\"}, \"zaxis\": {\"backgroundcolor\": \"white\", \"gridcolor\": \"#DFE8F3\", \"gridwidth\": 2, \"linecolor\": \"#EBF0F8\", \"showbackground\": true, \"ticks\": \"\", \"zerolinecolor\": \"#EBF0F8\"}}, \"shapedefaults\": {\"line\": {\"color\": \"#2a3f5f\"}}, \"ternary\": {\"aaxis\": {\"gridcolor\": \"#DFE8F3\", \"linecolor\": \"#A2B1C6\", \"ticks\": \"\"}, \"baxis\": {\"gridcolor\": \"#DFE8F3\", \"linecolor\": \"#A2B1C6\", \"ticks\": \"\"}, \"bgcolor\": \"white\", \"caxis\": {\"gridcolor\": \"#DFE8F3\", \"linecolor\": \"#A2B1C6\", \"ticks\": \"\"}}, \"title\": {\"x\": 0.05}, \"xaxis\": {\"automargin\": true, \"gridcolor\": \"#EBF0F8\", \"linecolor\": \"#EBF0F8\", \"ticks\": \"\", \"zerolinecolor\": \"#EBF0F8\", \"zerolinewidth\": 2}, \"yaxis\": {\"automargin\": true, \"gridcolor\": \"#EBF0F8\", \"linecolor\": \"#EBF0F8\", \"ticks\": \"\", \"zerolinecolor\": \"#EBF0F8\", \"zerolinewidth\": 2}}}, \"yaxis\": {\"title\": {\"text\": \"RMSE\"}}},\n",
       "                        {\"responsive\": true}\n",
       "                    ).then(function(){\n",
       "                            \n",
       "var gd = document.getElementById('02e18737-78f4-4dfb-9f3e-89b3d2cef353');\n",
       "var x = new MutationObserver(function (mutations, observer) {{\n",
       "        var display = window.getComputedStyle(gd).display;\n",
       "        if (!display || display === 'none') {{\n",
       "            console.log([gd, 'removed!']);\n",
       "            Plotly.purge(gd);\n",
       "            observer.disconnect();\n",
       "        }}\n",
       "}});\n",
       "\n",
       "// Listen for the removal of the full notebook cells\n",
       "var notebookContainer = gd.closest('#notebook-container');\n",
       "if (notebookContainer) {{\n",
       "    x.observe(notebookContainer, {childList: true});\n",
       "}}\n",
       "\n",
       "// Listen for the clearing of the current output cell\n",
       "var outputEl = gd.closest('.output');\n",
       "if (outputEl) {{\n",
       "    x.observe(outputEl, {childList: true});\n",
       "}}\n",
       "\n",
       "                        })\n",
       "                };\n",
       "                });\n",
       "            </script>\n",
       "        </div>"
      ]
     },
     "metadata": {},
     "output_type": "display_data"
    }
   ],
   "source": [
    "rmse_eval = []\n",
    "\n",
    "for model in models:\n",
    "    option = None if model.__name__ in ['ACOS', 'PR', 'MF_ACOS'] else options\n",
    "    pred = predict_all(model, option)\n",
    "    rmse_score = rmse(true, pred)\n",
    "    rmse_eval.append([model.__name__, rmse_score])\n",
    "    \n",
    "rmse_perf = pd.DataFrame(rmse_eval, columns=['model','value'])\n",
    "\n",
    "rmse_comp = go.Figure([go.Bar(\n",
    "    x=rmse_perf.model, \n",
    "    y=rmse_perf.value,\n",
    "    width=.5,\n",
    "    text=round(rmse_perf.value,2),\n",
    "    textposition='outside', \n",
    "    marker=dict(color=rmse_perf.index, colorscale='Viridis')\n",
    ")])\n",
    "\n",
    "rmse_comp.update_layout(\n",
    "    barmode='group',\n",
    "    title='Comparision of the proposed method with the benchmarking methods (RMSE)',\n",
    "    yaxis=dict(title='RMSE'),\n",
    "    template=plot_template\n",
    ")\n",
    "\n",
    "rmse_comp.show()"
   ]
  },
  {
   "cell_type": "code",
   "execution_count": 32,
   "metadata": {},
   "outputs": [],
   "source": [
    "rmse_comp.write_image(f'./plots/rmse_comp.jpeg', scale=3)"
   ]
  },
  {
   "cell_type": "markdown",
   "metadata": {},
   "source": [
    "# Conclusion\n",
    "In this kernel, we create a tourism recommendation system based on contexts and geo-tagged photos. Our hybrid approach first looks for similarity among users using an asymmetric similarity metric, and then uses collaborative filtering to predict the item ratings. The proposed method ultimately uses a context-aware post-filtering approach to determine the final recommendations. The system is able to understand various contextual conditions such as location, time of visit, day/night, season and weather conditions of the venue at the time of visit.\n",
    "\n",
    "\n",
    "References:\n",
    "1. [P. Pirasteh, D. Hwang, and J. J. Jung, “Exploiting matrix factorization to asymmetric user similarities in recommendation systems,” Knowledge-Based Systems, vol. 83, pp. 51- 57, 2015.](http://dx.doi.org/10.1016/j.knosys.2015.03.006)\n",
    "2. [H.Huang,“Context-Aware Location Recommendation Using Geotagged Photos in Social Media,” ISPRS International Journal of Geo-Information, vol. 5, no. 11, p. 195, 2016.](https://www.researchgate.net/publication/309541764_Context-Aware_Location_Recommendation_Using_Geotagged_Photos_in_Social_Media)\n",
    "3. [A. Majid, L. Chen, H. T. Mirza, I. Hussain, and G. Chen, “A system for mining in- teresting tourist locations and travel sequences from public geo-tagged photos,” Data & Knowledge Engineering, vol. 95, pp. 66-86, 2015.](https://www.sciencedirect.com/science/article/abs/pii/S0169023X14000962)"
   ]
  }
 ],
 "metadata": {
  "kernelspec": {
   "display_name": "Python 3",
   "language": "python",
   "name": "python3"
  },
  "language_info": {
   "codemirror_mode": {
    "name": "ipython",
    "version": 3
   },
   "file_extension": ".py",
   "mimetype": "text/x-python",
   "name": "python",
   "nbconvert_exporter": "python",
   "pygments_lexer": "ipython3",
   "version": "3.7.7"
  }
 },
 "nbformat": 4,
 "nbformat_minor": 2
}
